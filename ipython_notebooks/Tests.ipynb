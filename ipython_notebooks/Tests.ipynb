{
  "metadata": {
    "kernelspec": {
      "name": "py-dku-venv-real_estate",
      "display_name": "Python (env real_estate)",
      "language": "python"
    },
    "creator": "admin",
    "createdOn": 1655735763124,
    "tags": [],
    "customFields": {},
    "hide_input": false,
    "modifiedBy": "admin"
  },
  "nbformat": 4,
  "nbformat_minor": 1,
  "cells": [
    {
      "execution_count": 1,
      "cell_type": "code",
      "metadata": {},
      "source": [
        "%pylab inline"
      ],
      "outputs": [
        {
          "output_type": "stream",
          "text": "Populating the interactive namespace from numpy and matplotlib\n",
          "name": "stdout"
        }
      ]
    },
    {
      "execution_count": 2,
      "cell_type": "code",
      "metadata": {},
      "source": [
        "import dataiku\nfrom dataiku import pandasutils as pdu\nimport pandas as pd\nimport numpy as np"
      ],
      "outputs": [
        {
          "output_type": "stream",
          "text": "/Users/nathanbry/Dataiku/dss-design/code-envs/python/real_estate/lib/python3.7/site-packages/pandas/compat/__init__.py:117: UserWarning: Could not import the lzma module. Your installed Python is incomplete. Attempting to use lzma compression will result in a RuntimeError.\n  warnings.warn(msg)\n",
          "name": "stderr"
        }
      ]
    },
    {
      "execution_count": 5,
      "cell_type": "code",
      "metadata": {},
      "source": [
        "# Example: load a DSS dataset as a Pandas dataframe\nmydataset \u003d dataiku.Dataset(\"iris_75\")\nmydataset_df \u003d mydataset.get_dataframe(filter\u003d)"
      ],
      "outputs": [
        {
          "output_type": "error",
          "ename": "TypeError",
          "evalue": "\u0027type\u0027 object is not iterable",
          "traceback": [
            "\u001b[0;31m---------------------------------------------------------------------------\u001b[0m",
            "\u001b[0;31mTypeError\u001b[0m                                 Traceback (most recent call last)",
            "\u001b[0;32m\u003cipython-input-5-e349ac9144cd\u003e\u001b[0m in \u001b[0;36m\u003cmodule\u003e\u001b[0;34m\u001b[0m\n\u001b[1;32m      1\u001b[0m \u001b[0;31m# Example: load a DSS dataset as a Pandas dataframe\u001b[0m\u001b[0;34m\u001b[0m\u001b[0;34m\u001b[0m\u001b[0;34m\u001b[0m\u001b[0m\n\u001b[1;32m      2\u001b[0m \u001b[0mmydataset\u001b[0m \u001b[0;34m\u003d\u001b[0m \u001b[0mdataiku\u001b[0m\u001b[0;34m.\u001b[0m\u001b[0mDataset\u001b[0m\u001b[0;34m(\u001b[0m\u001b[0;34m\"iris_75\"\u001b[0m\u001b[0;34m)\u001b[0m\u001b[0;34m\u001b[0m\u001b[0;34m\u001b[0m\u001b[0m\n\u001b[0;32m----\u003e 3\u001b[0;31m \u001b[0mmydataset_df\u001b[0m \u001b[0;34m\u003d\u001b[0m \u001b[0mmydataset\u001b[0m\u001b[0;34m.\u001b[0m\u001b[0mget_dataframe\u001b[0m\u001b[0;34m(\u001b[0m\u001b[0mfilter\u001b[0m\u001b[0;34m)\u001b[0m\u001b[0;34m\u001b[0m\u001b[0;34m\u001b[0m\u001b[0m\n\u001b[0m",
            "\u001b[0;32m~/Dataiku/dataiku-dss-10.0.5-osx/python/dataiku/core/dataset.py\u001b[0m in \u001b[0;36mget_dataframe\u001b[0;34m(self, columns, sampling, sampling_column, limit, ratio, infer_with_pandas, parse_dates, bool_as_str, float_precision, na_values, keep_default_na)\u001b[0m\n\u001b[1;32m    405\u001b[0m             \u001b[0mparse_dates\u001b[0m\u001b[0;34m\u003d\u001b[0m\u001b[0mparse_dates\u001b[0m\u001b[0;34m,\u001b[0m\u001b[0;34m\u001b[0m\u001b[0;34m\u001b[0m\u001b[0m\n\u001b[1;32m    406\u001b[0m             \u001b[0minfer_with_pandas\u001b[0m\u001b[0;34m\u003d\u001b[0m\u001b[0minfer_with_pandas\u001b[0m\u001b[0;34m,\u001b[0m\u001b[0;34m\u001b[0m\u001b[0;34m\u001b[0m\u001b[0m\n\u001b[0;32m--\u003e 407\u001b[0;31m             bool_as_str\u003dbool_as_str) # see df_from_split_desc\n\u001b[0m\u001b[1;32m    408\u001b[0m         with self._stream(infer_with_pandas\u003dinfer_with_pandas,\n\u001b[1;32m    409\u001b[0m                           \u001b[0msampling\u001b[0m\u001b[0;34m\u003d\u001b[0m\u001b[0msampling\u001b[0m\u001b[0;34m,\u001b[0m\u001b[0;34m\u001b[0m\u001b[0;34m\u001b[0m\u001b[0m\n",
            "\u001b[0;32m~/Dataiku/dataiku-dss-10.0.5-osx/python/dataiku/core/dataset.py\u001b[0m in \u001b[0;36m_get_dataframe_schema\u001b[0;34m(self, columns, parse_dates, infer_with_pandas, bool_as_str)\u001b[0m\n\u001b[1;32m    525\u001b[0m         \u001b[0;32melse\u001b[0m\u001b[0;34m:\u001b[0m\u001b[0;34m\u001b[0m\u001b[0;34m\u001b[0m\u001b[0m\n\u001b[1;32m    526\u001b[0m             return Dataset.get_dataframe_schema_st(self.read_schema(),\n\u001b[0;32m--\u003e 527\u001b[0;31m                                                    columns, parse_dates, infer_with_pandas, bool_as_str)\n\u001b[0m\u001b[1;32m    528\u001b[0m \u001b[0;34m\u001b[0m\u001b[0m\n\u001b[1;32m    529\u001b[0m \u001b[0;34m\u001b[0m\u001b[0m\n",
            "\u001b[0;32m~/Dataiku/dataiku-dss-10.0.5-osx/python/dataiku/core/dataset.py\u001b[0m in \u001b[0;36mget_dataframe_schema_st\u001b[0;34m(schema, columns, parse_dates, infer_with_pandas, bool_as_str, int_as_float)\u001b[0m\n\u001b[1;32m    488\u001b[0m             \u001b[0mnames\u001b[0m\u001b[0;34m.\u001b[0m\u001b[0mappend\u001b[0m\u001b[0;34m(\u001b[0m\u001b[0mn\u001b[0m\u001b[0;34m)\u001b[0m\u001b[0;34m\u001b[0m\u001b[0;34m\u001b[0m\u001b[0m\n\u001b[1;32m    489\u001b[0m         \u001b[0;32mif\u001b[0m \u001b[0mcolumns\u001b[0m \u001b[0;32mis\u001b[0m \u001b[0;32mnot\u001b[0m \u001b[0;32mNone\u001b[0m\u001b[0;34m:\u001b[0m\u001b[0;34m\u001b[0m\u001b[0;34m\u001b[0m\u001b[0m\n\u001b[0;32m--\u003e 490\u001b[0;31m             \u001b[0mcolumns\u001b[0m \u001b[0;34m\u003d\u001b[0m \u001b[0mlist\u001b[0m\u001b[0;34m(\u001b[0m\u001b[0munique\u001b[0m\u001b[0;34m(\u001b[0m\u001b[0mcolumns\u001b[0m\u001b[0;34m)\u001b[0m\u001b[0;34m)\u001b[0m\u001b[0;34m\u001b[0m\u001b[0;34m\u001b[0m\u001b[0m\n\u001b[0m\u001b[1;32m    491\u001b[0m             \u001b[0mnames\u001b[0m \u001b[0;34m\u003d\u001b[0m \u001b[0mcolumns\u001b[0m\u001b[0;34m\u001b[0m\u001b[0;34m\u001b[0m\u001b[0m\n\u001b[1;32m    492\u001b[0m             dtypes \u003d {\n",
            "\u001b[0;32m~/Dataiku/dataiku-dss-10.0.5-osx/python/dataiku/core/dataset.py\u001b[0m in \u001b[0;36munique\u001b[0;34m(g)\u001b[0m\n\u001b[1;32m     59\u001b[0m \u001b[0;32mdef\u001b[0m \u001b[0munique\u001b[0m\u001b[0;34m(\u001b[0m\u001b[0mg\u001b[0m\u001b[0;34m)\u001b[0m\u001b[0;34m:\u001b[0m\u001b[0;34m\u001b[0m\u001b[0;34m\u001b[0m\u001b[0m\n\u001b[1;32m     60\u001b[0m     \u001b[0mvals\u001b[0m \u001b[0;34m\u003d\u001b[0m \u001b[0mset\u001b[0m\u001b[0;34m(\u001b[0m\u001b[0;34m)\u001b[0m\u001b[0;34m\u001b[0m\u001b[0;34m\u001b[0m\u001b[0m\n\u001b[0;32m---\u003e 61\u001b[0;31m     \u001b[0;32mfor\u001b[0m \u001b[0mval\u001b[0m \u001b[0;32min\u001b[0m \u001b[0mg\u001b[0m\u001b[0;34m:\u001b[0m\u001b[0;34m\u001b[0m\u001b[0;34m\u001b[0m\u001b[0m\n\u001b[0m\u001b[1;32m     62\u001b[0m         \u001b[0;32mif\u001b[0m \u001b[0mval\u001b[0m \u001b[0;32mnot\u001b[0m \u001b[0;32min\u001b[0m \u001b[0mvals\u001b[0m\u001b[0;34m:\u001b[0m\u001b[0;34m\u001b[0m\u001b[0;34m\u001b[0m\u001b[0m\n\u001b[1;32m     63\u001b[0m             \u001b[0;32myield\u001b[0m \u001b[0mval\u001b[0m\u001b[0;34m\u001b[0m\u001b[0;34m\u001b[0m\u001b[0m\n",
            "\u001b[0;31mTypeError\u001b[0m: \u0027type\u0027 object is not iterable"
          ]
        }
      ]
    },
    {
      "execution_count": 3,
      "cell_type": "code",
      "metadata": {},
      "source": [
        "address \u003d \u002782 rue du Ranelagh\u0027\npostal_code \u003d 75016\nsurface \u003d 200\nnb_main_rooms \u003d 7\nyear \u003d 2022"
      ],
      "outputs": []
    },
    {
      "execution_count": 5,
      "cell_type": "code",
      "metadata": {},
      "source": [
        "df \u003d pd.DataFrame([[address,postal_code,surface,nb_main_rooms,year]],columns\u003d[\u0027address\u0027,\u0027postal_code\u0027,\u0027surface\u0027,\u0027nb_main_rooms\u0027,\u0027year\u0027])"
      ],
      "outputs": [
        {
          "output_type": "stream",
          "text": "/Users/nathanbry/Dataiku/dss-design/code-envs/python/real_estate/lib/python3.7/site-packages/pandas/core/internals/construction.py:587: DeprecationWarning: `np.object` is a deprecated alias for the builtin `object`. To silence this warning, use `object` by itself. Doing this will not modify any behavior and is safe. \nDeprecated in NumPy 1.20; for more details and guidance: https://numpy.org/devdocs/release/1.20.0-notes.html#deprecations\n  if dtype !\u003d object and dtype !\u003d np.object:\n",
          "name": "stderr"
        }
      ]
    },
    {
      "execution_count": 6,
      "cell_type": "code",
      "metadata": {},
      "source": [
        "df"
      ],
      "outputs": [
        {
          "output_type": "execute_result",
          "execution_count": 6,
          "data": {
            "text/plain": "              address  postal_code  surface  nb_main_rooms  year\n0  82 rue du Ranelagh        75016      200              7  2022",
            "text/html": "\n            \u003cbutton style\u003d\"display:none\" \n            class\u003d\"btn btn-default ipython-export-btn\" \n            id\u003d\"btn-df-c1d6c6d4-ac80-429c-8cca-b63a0cc1e3fa\" \n            onclick\u003d\"_export_df(\u0027c1d6c6d4-ac80-429c-8cca-b63a0cc1e3fa\u0027)\"\u003e\n                Export dataframe\n            \u003c/button\u003e\n            \n            \u003cscript\u003e\n                \n                function _check_export_df_possible(dfid,yes_fn,no_fn) {\n                    console.log(\u0027Checking dataframe exportability...\u0027)\n                    if(!IPython || !IPython.notebook || !IPython.notebook.kernel || !IPython.notebook.kernel) {\n                        console.log(\u0027Export is not possible (IPython kernel is not available)\u0027)\n                        if(no_fn) {\n                            no_fn();\n                        }\n                    } else {\n                        var pythonCode \u003d \u0027from dataiku.notebook.export import IPythonExporter;IPythonExporter._check_export_stdout(\"\u0027+dfid+\u0027\")\u0027;\n                        IPython.notebook.kernel.execute(pythonCode,{iopub: {output: function(resp) {\n                            console.info(\"Exportability response\", resp);\n                            var size \u003d /^([0-9]+)x([0-9]+)$/.exec(resp.content.data || resp.content.text)\n                            if(!size) {\n                                console.log(\u0027Export is not possible (dataframe is not in-memory anymore)\u0027)\n                                if(no_fn) {\n                                    no_fn();\n                                }\n                            } else {\n                                console.log(\u0027Export is possible\u0027)\n                                if(yes_fn) {\n                                    yes_fn(1*size[1],1*size[2]);\n                                }\n                            }\n                        }}});\n                    }\n                }\n            \n                function _export_df(dfid) {\n                    \n                    var btn \u003d $(\u0027#btn-df-\u0027+dfid);\n                    var btns \u003d $(\u0027.ipython-export-btn\u0027);\n                    \n                    _check_export_df_possible(dfid,function() {\n                        \n                        window.parent.openExportModalFromIPython(\u0027Pandas dataframe\u0027,function(data) {\n                            btns.prop(\u0027disabled\u0027,true);\n                            btn.text(\u0027Exporting...\u0027);\n                            var command \u003d \u0027from dataiku.notebook.export import IPythonExporter;IPythonExporter._run_export(\"\u0027+dfid+\u0027\",\"\u0027+data.exportId+\u0027\")\u0027;\n                            var callback \u003d {iopub:{output: function(resp) {\n                                console.info(\"CB resp:\", resp);\n                                _check_export_df_possible(dfid,function(rows, cols) {\n                                    $(\u0027#btn-df-\u0027+dfid)\n                                        .css(\u0027display\u0027,\u0027inline-block\u0027)\n                                        .text(\u0027Export this dataframe (\u0027+rows+\u0027 rows, \u0027+cols+\u0027 cols)\u0027)\n                                        .prop(\u0027disabled\u0027,false);\n                                },function() {\n                                    $(\u0027#btn-df-\u0027+dfid).css(\u0027display\u0027,\u0027none\u0027);\n                                });\n                            }}};\n                            IPython.notebook.kernel.execute(command,callback,{silent:false}); // yes, silent now defaults to true. figures.\n                        });\n                    \n                    }, function(){\n                            alert(\u0027Unable to export : the Dataframe object is not loaded in memory\u0027);\n                            btn.css(\u0027display\u0027,\u0027none\u0027);\n                    });\n                    \n                }\n                \n                (function(dfid) {\n                \n                    var retryCount \u003d 10;\n                \n                    function is_valid_websock(s) {\n                        return s \u0026\u0026 s.readyState\u003d\u003d1;\n                    }\n                \n                    function check_conn() {\n                        \n                        if(!IPython || !IPython.notebook) {\n                            // Don\u0027t even try to go further\n                            return;\n                        }\n                        \n                        // Check if IPython is ready\n                        console.info(\"Checking conn ...\")\n                        if(IPython.notebook.kernel\n                        \u0026\u0026 IPython.notebook.kernel\n                        \u0026\u0026 is_valid_websock(IPython.notebook.kernel.ws)\n                        ) {\n                            \n                            _check_export_df_possible(dfid,function(rows, cols) {\n                                $(\u0027#btn-df-\u0027+dfid).css(\u0027display\u0027,\u0027inline-block\u0027);\n                                $(\u0027#btn-df-\u0027+dfid).text(\u0027Export this dataframe (\u0027+rows+\u0027 rows, \u0027+cols+\u0027 cols)\u0027);\n                            });\n                            \n                        } else {\n                            console.info(\"Conditions are not ok\", IPython.notebook.kernel);\n                            \n                            // Retry later\n                            \n                            if(retryCount\u003e0) {\n                                setTimeout(check_conn,500);\n                                retryCount--;\n                            }\n                            \n                        }\n                    };\n                    \n                    setTimeout(check_conn,100);\n                    \n                })(\"c1d6c6d4-ac80-429c-8cca-b63a0cc1e3fa\");\n                \n            \u003c/script\u003e\n            \n        \u003cdiv\u003e\n\u003cstyle scoped\u003e\n    .dataframe tbody tr th:only-of-type {\n        vertical-align: middle;\n    }\n\n    .dataframe tbody tr th {\n        vertical-align: top;\n    }\n\n    .dataframe thead th {\n        text-align: right;\n    }\n\u003c/style\u003e\n\u003ctable border\u003d\"1\" class\u003d\"dataframe\"\u003e\n  \u003cthead\u003e\n    \u003ctr style\u003d\"text-align: right;\"\u003e\n      \u003cth\u003e\u003c/th\u003e\n      \u003cth\u003eaddress\u003c/th\u003e\n      \u003cth\u003epostal_code\u003c/th\u003e\n      \u003cth\u003esurface\u003c/th\u003e\n      \u003cth\u003enb_main_rooms\u003c/th\u003e\n      \u003cth\u003eyear\u003c/th\u003e\n    \u003c/tr\u003e\n  \u003c/thead\u003e\n  \u003ctbody\u003e\n    \u003ctr\u003e\n      \u003cth\u003e0\u003c/th\u003e\n      \u003ctd\u003e82 rue du Ranelagh\u003c/td\u003e\n      \u003ctd\u003e75016\u003c/td\u003e\n      \u003ctd\u003e200\u003c/td\u003e\n      \u003ctd\u003e7\u003c/td\u003e\n      \u003ctd\u003e2022\u003c/td\u003e\n    \u003c/tr\u003e\n  \u003c/tbody\u003e\n\u003c/table\u003e\n\u003c/div\u003e"
          },
          "metadata": {}
        }
      ]
    },
    {
      "execution_count": 7,
      "cell_type": "code",
      "metadata": {},
      "source": [
        "model_1 \u003d dataiku.Model(\"BoL37GXK\")"
      ],
      "outputs": []
    },
    {
      "execution_count": 8,
      "cell_type": "code",
      "metadata": {},
      "source": [
        "pred_1 \u003d model_1.get_predictor()"
      ],
      "outputs": [
        {
          "output_type": "stream",
          "text": "/Users/nathanbry/Dataiku/dss-design/code-envs/python/real_estate/lib/python3.7/site-packages/sklearn/linear_model/least_angle.py:35: DeprecationWarning: `np.float` is a deprecated alias for the builtin `float`. To silence this warning, use `float` by itself. Doing this will not modify any behavior and is safe. If you specifically wanted the numpy scalar type, use `np.float64` here.\nDeprecated in NumPy 1.20; for more details and guidance: https://numpy.org/devdocs/release/1.20.0-notes.html#deprecations\n  eps\u003dnp.finfo(np.float).eps,\n/Users/nathanbry/Dataiku/dss-design/code-envs/python/real_estate/lib/python3.7/site-packages/sklearn/linear_model/least_angle.py:597: DeprecationWarning: `np.float` is a deprecated alias for the builtin `float`. To silence this warning, use `float` by itself. Doing this will not modify any behavior and is safe. If you specifically wanted the numpy scalar type, use `np.float64` here.\nDeprecated in NumPy 1.20; for more details and guidance: https://numpy.org/devdocs/release/1.20.0-notes.html#deprecations\n  eps\u003dnp.finfo(np.float).eps, copy_X\u003dTrue, fit_path\u003dTrue,\n/Users/nathanbry/Dataiku/dss-design/code-envs/python/real_estate/lib/python3.7/site-packages/sklearn/linear_model/least_angle.py:836: DeprecationWarning: `np.float` is a deprecated alias for the builtin `float`. To silence this warning, use `float` by itself. Doing this will not modify any behavior and is safe. If you specifically wanted the numpy scalar type, use `np.float64` here.\nDeprecated in NumPy 1.20; for more details and guidance: https://numpy.org/devdocs/release/1.20.0-notes.html#deprecations\n  eps\u003dnp.finfo(np.float).eps, copy_X\u003dTrue, fit_path\u003dTrue,\n/Users/nathanbry/Dataiku/dss-design/code-envs/python/real_estate/lib/python3.7/site-packages/sklearn/linear_model/least_angle.py:862: DeprecationWarning: `np.float` is a deprecated alias for the builtin `float`. To silence this warning, use `float` by itself. Doing this will not modify any behavior and is safe. If you specifically wanted the numpy scalar type, use `np.float64` here.\nDeprecated in NumPy 1.20; for more details and guidance: https://numpy.org/devdocs/release/1.20.0-notes.html#deprecations\n  eps\u003dnp.finfo(np.float).eps, positive\u003dFalse):\n/Users/nathanbry/Dataiku/dss-design/code-envs/python/real_estate/lib/python3.7/site-packages/sklearn/linear_model/least_angle.py:1097: DeprecationWarning: `np.float` is a deprecated alias for the builtin `float`. To silence this warning, use `float` by itself. Doing this will not modify any behavior and is safe. If you specifically wanted the numpy scalar type, use `np.float64` here.\nDeprecated in NumPy 1.20; for more details and guidance: https://numpy.org/devdocs/release/1.20.0-notes.html#deprecations\n  max_n_alphas\u003d1000, n_jobs\u003dNone, eps\u003dnp.finfo(np.float).eps,\n/Users/nathanbry/Dataiku/dss-design/code-envs/python/real_estate/lib/python3.7/site-packages/sklearn/linear_model/least_angle.py:1344: DeprecationWarning: `np.float` is a deprecated alias for the builtin `float`. To silence this warning, use `float` by itself. Doing this will not modify any behavior and is safe. If you specifically wanted the numpy scalar type, use `np.float64` here.\nDeprecated in NumPy 1.20; for more details and guidance: https://numpy.org/devdocs/release/1.20.0-notes.html#deprecations\n  max_n_alphas\u003d1000, n_jobs\u003dNone, eps\u003dnp.finfo(np.float).eps,\n/Users/nathanbry/Dataiku/dss-design/code-envs/python/real_estate/lib/python3.7/site-packages/sklearn/linear_model/least_angle.py:1480: DeprecationWarning: `np.float` is a deprecated alias for the builtin `float`. To silence this warning, use `float` by itself. Doing this will not modify any behavior and is safe. If you specifically wanted the numpy scalar type, use `np.float64` here.\nDeprecated in NumPy 1.20; for more details and guidance: https://numpy.org/devdocs/release/1.20.0-notes.html#deprecations\n  eps\u003dnp.finfo(np.float).eps, copy_X\u003dTrue, positive\u003dFalse):\n/Users/nathanbry/Dataiku/dss-design/code-envs/python/real_estate/lib/python3.7/site-packages/sklearn/linear_model/randomized_l1.py:152: DeprecationWarning: `np.float` is a deprecated alias for the builtin `float`. To silence this warning, use `float` by itself. Doing this will not modify any behavior and is safe. If you specifically wanted the numpy scalar type, use `np.float64` here.\nDeprecated in NumPy 1.20; for more details and guidance: https://numpy.org/devdocs/release/1.20.0-notes.html#deprecations\n  precompute\u003dFalse, eps\u003dnp.finfo(np.float).eps,\n/Users/nathanbry/Dataiku/dss-design/code-envs/python/real_estate/lib/python3.7/site-packages/sklearn/linear_model/randomized_l1.py:320: DeprecationWarning: `np.float` is a deprecated alias for the builtin `float`. To silence this warning, use `float` by itself. Doing this will not modify any behavior and is safe. If you specifically wanted the numpy scalar type, use `np.float64` here.\nDeprecated in NumPy 1.20; for more details and guidance: https://numpy.org/devdocs/release/1.20.0-notes.html#deprecations\n  eps\u003dnp.finfo(np.float).eps, random_state\u003dNone,\n/Users/nathanbry/Dataiku/dss-design/code-envs/python/real_estate/lib/python3.7/site-packages/sklearn/linear_model/randomized_l1.py:580: DeprecationWarning: `np.float` is a deprecated alias for the builtin `float`. To silence this warning, use `float` by itself. Doing this will not modify any behavior and is safe. If you specifically wanted the numpy scalar type, use `np.float64` here.\nDeprecated in NumPy 1.20; for more details and guidance: https://numpy.org/devdocs/release/1.20.0-notes.html#deprecations\n  eps\u003d4 * np.finfo(np.float).eps, n_jobs\u003dNone,\n/Users/nathanbry/Dataiku/dss-design/code-envs/python/real_estate/lib/python3.7/site-packages/sklearn/decomposition/online_lda.py:31: DeprecationWarning: `np.float` is a deprecated alias for the builtin `float`. To silence this warning, use `float` by itself. Doing this will not modify any behavior and is safe. If you specifically wanted the numpy scalar type, use `np.float64` here.\nDeprecated in NumPy 1.20; for more details and guidance: https://numpy.org/devdocs/release/1.20.0-notes.html#deprecations\n  EPS \u003d np.finfo(np.float).eps\n/Users/nathanbry/Dataiku/dss-design/code-envs/python/real_estate/lib/python3.7/site-packages/sklearn/feature_extraction/image.py:167: DeprecationWarning: `np.int` is a deprecated alias for the builtin `int`. To silence this warning, use `int` by itself. Doing this will not modify any behavior and is safe. When replacing `np.int`, you may wish to use e.g. `np.int64` or `np.int32` to specify the precision. If you wish to review your current use, check the release note link for additional information.\nDeprecated in NumPy 1.20; for more details and guidance: https://numpy.org/devdocs/release/1.20.0-notes.html#deprecations\n  dtype\u003dnp.int):\n/Users/nathanbry/Dataiku/dataiku-dss-10.0.5-osx/python/dataiku/doctor/crossval/strategies/grid_search_strategy.py:6: DeprecationWarning: Using or importing the ABCs from \u0027collections\u0027 instead of from \u0027collections.abc\u0027 is deprecated since Python 3.3,and in 3.9 it will stop working\n  from collections import Mapping\n/Users/nathanbry/Dataiku/dss-design/code-envs/python/real_estate/lib/python3.7/site-packages/sklearn/ensemble/gradient_boosting.py:34: DeprecationWarning: `np.bool` is a deprecated alias for the builtin `bool`. To silence this warning, use `bool` by itself. Doing this will not modify any behavior and is safe. If you specifically wanted the numpy scalar type, use `np.bool_` here.\nDeprecated in NumPy 1.20; for more details and guidance: https://numpy.org/devdocs/release/1.20.0-notes.html#deprecations\n  from ._gradient_boosting import predict_stages\n/Users/nathanbry/Dataiku/dss-design/code-envs/python/real_estate/lib/python3.7/site-packages/pandas/core/indexes/base.py:395: DeprecationWarning: `np.bool` is a deprecated alias for the builtin `bool`. To silence this warning, use `bool` by itself. Doing this will not modify any behavior and is safe. If you specifically wanted the numpy scalar type, use `np.bool_` here.\nDeprecated in NumPy 1.20; for more details and guidance: https://numpy.org/devdocs/release/1.20.0-notes.html#deprecations\n  elif issubclass(data.dtype.type, np.bool) or is_bool_dtype(data):\nDEBUG:dku.ml.preprocessing:PROCESS WITH Step:MultipleImputeMissingFromInput\n",
          "name": "stderr"
        },
        {
          "output_type": "stream",
          "text": "DEBUG:dku.ml.preprocessing:MIMIFI: Imputing with map {\u0027latitude\u0027: 48.862350698905374, \u0027nombre_pieces_principales\u0027: 2.382140690893634, \u0027date_mutation_year\u0027: 2017.6153515516796, \u0027longitude\u0027: 2.34069841916365, \u0027code_postal\u0027: 75013.51042572092, \u0027surface_m2_not_null\u0027: 53.258780577498015, \u0027distance_to_centre\u0027: 3.458063099479019}\n/Users/nathanbry/Dataiku/dss-design/code-envs/python/real_estate/lib/python3.7/site-packages/pandas/core/internals/blocks.py:962: DeprecationWarning: `np.complex` is a deprecated alias for the builtin `complex`. To silence this warning, use `complex` by itself. Doing this will not modify any behavior and is safe. If you specifically wanted the numpy scalar type, use `np.complex128` here.\nDeprecated in NumPy 1.20; for more details and guidance: https://numpy.org/devdocs/release/1.20.0-notes.html#deprecations\n  new \u003d convert_scalar(new_values, new)\nDEBUG:dku.ml.preprocessing:PROCESS WITH Step:MultipleImputeMissingFromInput\nDEBUG:dku.ml.preprocessing:MIMIFI: Imputing with map {}\nDEBUG:dku.ml.preprocessing:PROCESS WITH Step:RescalingProcessor2 (latitude)\nDEBUG:dku.ml.preprocessing:  Rescale latitude (avg\u003d48.862350698905374 std\u003dnan shift\u003d48.862350698905374 inv_scale\u003d49.48009002281994)\nDEBUG:dku.ml.preprocessing:  Rescaled latitude (avg\u003d0.0 std\u003dnan) nulls\u003d0\nDEBUG:dku.ml.preprocessing:PROCESS WITH Step:RescalingProcessor2 (nombre_pieces_principales)\nDEBUG:dku.ml.preprocessing:  Rescale nombre_pieces_principales (avg\u003d2.382140690893634 std\u003dnan shift\u003d2.382140690893634 inv_scale\u003d0.7842637109235605)\nDEBUG:dku.ml.preprocessing:  Rescaled nombre_pieces_principales (avg\u003d0.0 std\u003dnan) nulls\u003d0\nDEBUG:dku.ml.preprocessing:PROCESS WITH Step:RescalingProcessor2 (date_mutation_year)\nDEBUG:dku.ml.preprocessing:  Rescale date_mutation_year (avg\u003d2017.6153515516796 std\u003dnan shift\u003d2017.6153515516796 inv_scale\u003d0.4412177297309487)\nDEBUG:dku.ml.preprocessing:  Rescaled date_mutation_year (avg\u003d0.0 std\u003dnan) nulls\u003d0\nDEBUG:dku.ml.preprocessing:PROCESS WITH Step:RescalingProcessor2 (longitude)\nDEBUG:dku.ml.preprocessing:  Rescale longitude (avg\u003d2.34069841916365 std\u003dnan shift\u003d2.34069841916365 inv_scale\u003d26.222362800130867)\nDEBUG:dku.ml.preprocessing:  Rescaled longitude (avg\u003d0.0 std\u003dnan) nulls\u003d0\nDEBUG:dku.ml.preprocessing:PROCESS WITH Step:RescalingProcessor2 (code_postal)\nDEBUG:dku.ml.preprocessing:  Rescale code_postal (avg\u003d75013.51042572092 std\u003dnan shift\u003d75013.51042572092 inv_scale\u003d0.211111121170204)\nDEBUG:dku.ml.preprocessing:  Rescaled code_postal (avg\u003d0.0 std\u003dnan) nulls\u003d0\nDEBUG:dku.ml.preprocessing:PROCESS WITH Step:RescalingProcessor2 (surface_m2_not_null)\nDEBUG:dku.ml.preprocessing:  Rescale surface_m2_not_null (avg\u003d53.258780577498015 std\u003dnan shift\u003d53.258780577498015 inv_scale\u003d0.02489645932780427)\nDEBUG:dku.ml.preprocessing:  Rescaled surface_m2_not_null (avg\u003d0.0 std\u003dnan) nulls\u003d0\nDEBUG:dku.ml.preprocessing:PROCESS WITH Step:RescalingProcessor2 (distance_to_centre)\nDEBUG:dku.ml.preprocessing:  Rescale distance_to_centre (avg\u003d3.458063099479019 std\u003dnan shift\u003d3.458063099479019 inv_scale\u003d0.869384197974518)\nDEBUG:dku.ml.preprocessing:  Rescaled distance_to_centre (avg\u003d0.0 std\u003dnan) nulls\u003d0\nDEBUG:dku.ml.preprocessing:PROCESS WITH Step:FlushDFBuilder(num_flagonly)\nDEBUG:dku.ml.preprocessing:PROCESS WITH Step:FlushDFBuilder(datetime_cyclical)\nDEBUG:dku.ml.preprocessing:PROCESS WITH Step:FastSparseDummifyProcessor (direction_from_centre)\nDEBUG:dku.ml.preprocessing:Dummifier: Append a sparse block shape\u003d(1, 10) nnz\u003d1\nDEBUG:dku.ml.preprocessing:PROCESS WITH Step:MultipleImputeMissingFromInput\nDEBUG:dku.ml.preprocessing:MIMIFI: Imputing with map {}\nDEBUG:dku.ml.preprocessing:PROCESS WITH Step:FlushDFBuilder(cat_flagpresence)\nDEBUG:dku.ml.preprocessing:PROCESS WITH Step:MultipleImputeMissingFromInput\nDEBUG:dku.ml.preprocessing:MIMIFI: Imputing with map {}\nDEBUG:dku.ml.preprocessing:PROCESS WITH Step:MultipleImputeMissingFromInput\nDEBUG:dku.ml.preprocessing:MIMIFI: Imputing with map {}\nDEBUG:dku.ml.preprocessing:PROCESS WITH Step:FlushDFBuilder(interaction)\nDEBUG:dku.ml.preprocessing:PROCESS WITH Step:DumpPipelineState\nDEBUG:dku.ml.preprocessing:********* Pipeline state (Before feature selection)\nDEBUG:dku.ml.preprocessing:   input_df\u003d (1, 28) \nDEBUG:dku.ml.preprocessing:   current_mf\u003d(1, 17) \nDEBUG:dku.ml.preprocessing:   PPR: \nDEBUG:dku.ml.preprocessing:PROCESS WITH Step:EmitCurrentMFAsResult\nDEBUG:dku.ml.preprocessing:PROCESS WITH Step:DumpPipelineState\nDEBUG:dku.ml.preprocessing:********* Pipeline state (At end)\nDEBUG:dku.ml.preprocessing:   input_df\u003d (1, 28) \nDEBUG:dku.ml.preprocessing:   current_mf\u003d(0, 0) \nDEBUG:dku.ml.preprocessing:   PPR: \nDEBUG:dku.ml.preprocessing:      TRAIN \u003d \u003cclass \u0027dataiku.doctor.multiframe.MultiFrame\u0027\u003e ((1, 17))\nDEBUG:dku.ml.preprocessing:      UNPROCESSED \u003d \u003cclass \u0027pandas.core.frame.DataFrame\u0027\u003e ((1, 28))\n",
          "name": "stderr"
        }
      ]
    },
    {
      "execution_count": 0,
      "cell_type": "code",
      "metadata": {},
      "source": [
        "pred_1.predict()"
      ],
      "outputs": []
    },
    {
      "execution_count": 0,
      "cell_type": "code",
      "metadata": {},
      "source": [
        ""
      ],
      "outputs": []
    },
    {
      "execution_count": 18,
      "cell_type": "code",
      "metadata": {},
      "source": [
        "cols \u003d [\u0027latitude\u0027,\u0027longitude\u0027,\u0027code_postal\u0027,\n \u0027surface_m2_not_null\u0027,\u0027distance_to_centre\u0027,\n \u0027direction_from_centre\u0027,\u0027date_mutation_year\u0027,\u0027nombre_pieces_principales\u0027]\n\nvals \u003d [48.8554993,2.2706678,75016,200,5.2508,\u0027W\u0027,2021,7]"
      ],
      "outputs": []
    },
    {
      "execution_count": 19,
      "cell_type": "code",
      "metadata": {},
      "source": [
        "df \u003d pd.DataFrame([vals],columns\u003dcols)"
      ],
      "outputs": [
        {
          "output_type": "stream",
          "text": "/Users/nathanbry/Dataiku/dss-design/code-envs/python/real_estate/lib/python3.7/site-packages/pandas/core/internals/construction.py:587: DeprecationWarning: `np.object` is a deprecated alias for the builtin `object`. To silence this warning, use `object` by itself. Doing this will not modify any behavior and is safe. \nDeprecated in NumPy 1.20; for more details and guidance: https://numpy.org/devdocs/release/1.20.0-notes.html#deprecations\n  if dtype !\u003d object and dtype !\u003d np.object:\n/Users/nathanbry/Dataiku/dss-design/code-envs/python/real_estate/lib/python3.7/site-packages/pandas/core/indexes/base.py:395: DeprecationWarning: `np.bool` is a deprecated alias for the builtin `bool`. To silence this warning, use `bool` by itself. Doing this will not modify any behavior and is safe. If you specifically wanted the numpy scalar type, use `np.bool_` here.\nDeprecated in NumPy 1.20; for more details and guidance: https://numpy.org/devdocs/release/1.20.0-notes.html#deprecations\n  elif issubclass(data.dtype.type, np.bool) or is_bool_dtype(data):\n",
          "name": "stderr"
        }
      ]
    },
    {
      "execution_count": 20,
      "cell_type": "code",
      "metadata": {},
      "source": [
        "df"
      ],
      "outputs": [
        {
          "output_type": "execute_result",
          "execution_count": 20,
          "data": {
            "text/plain": "    latitude  longitude  code_postal  surface_m2_not_null  distance_to_centre direction_from_centre  date_mutation_year  nombre_pieces_principales\n0  48.855499   2.270668        75016                  200              5.2508                     W                2021                          7",
            "text/html": "\n            \u003cbutton style\u003d\"display:none\" \n            class\u003d\"btn btn-default ipython-export-btn\" \n            id\u003d\"btn-df-98df3d16-bb78-4cd1-9351-23cdf7894c73\" \n            onclick\u003d\"_export_df(\u002798df3d16-bb78-4cd1-9351-23cdf7894c73\u0027)\"\u003e\n                Export dataframe\n            \u003c/button\u003e\n            \n            \u003cscript\u003e\n                \n                function _check_export_df_possible(dfid,yes_fn,no_fn) {\n                    console.log(\u0027Checking dataframe exportability...\u0027)\n                    if(!IPython || !IPython.notebook || !IPython.notebook.kernel || !IPython.notebook.kernel) {\n                        console.log(\u0027Export is not possible (IPython kernel is not available)\u0027)\n                        if(no_fn) {\n                            no_fn();\n                        }\n                    } else {\n                        var pythonCode \u003d \u0027from dataiku.notebook.export import IPythonExporter;IPythonExporter._check_export_stdout(\"\u0027+dfid+\u0027\")\u0027;\n                        IPython.notebook.kernel.execute(pythonCode,{iopub: {output: function(resp) {\n                            console.info(\"Exportability response\", resp);\n                            var size \u003d /^([0-9]+)x([0-9]+)$/.exec(resp.content.data || resp.content.text)\n                            if(!size) {\n                                console.log(\u0027Export is not possible (dataframe is not in-memory anymore)\u0027)\n                                if(no_fn) {\n                                    no_fn();\n                                }\n                            } else {\n                                console.log(\u0027Export is possible\u0027)\n                                if(yes_fn) {\n                                    yes_fn(1*size[1],1*size[2]);\n                                }\n                            }\n                        }}});\n                    }\n                }\n            \n                function _export_df(dfid) {\n                    \n                    var btn \u003d $(\u0027#btn-df-\u0027+dfid);\n                    var btns \u003d $(\u0027.ipython-export-btn\u0027);\n                    \n                    _check_export_df_possible(dfid,function() {\n                        \n                        window.parent.openExportModalFromIPython(\u0027Pandas dataframe\u0027,function(data) {\n                            btns.prop(\u0027disabled\u0027,true);\n                            btn.text(\u0027Exporting...\u0027);\n                            var command \u003d \u0027from dataiku.notebook.export import IPythonExporter;IPythonExporter._run_export(\"\u0027+dfid+\u0027\",\"\u0027+data.exportId+\u0027\")\u0027;\n                            var callback \u003d {iopub:{output: function(resp) {\n                                console.info(\"CB resp:\", resp);\n                                _check_export_df_possible(dfid,function(rows, cols) {\n                                    $(\u0027#btn-df-\u0027+dfid)\n                                        .css(\u0027display\u0027,\u0027inline-block\u0027)\n                                        .text(\u0027Export this dataframe (\u0027+rows+\u0027 rows, \u0027+cols+\u0027 cols)\u0027)\n                                        .prop(\u0027disabled\u0027,false);\n                                },function() {\n                                    $(\u0027#btn-df-\u0027+dfid).css(\u0027display\u0027,\u0027none\u0027);\n                                });\n                            }}};\n                            IPython.notebook.kernel.execute(command,callback,{silent:false}); // yes, silent now defaults to true. figures.\n                        });\n                    \n                    }, function(){\n                            alert(\u0027Unable to export : the Dataframe object is not loaded in memory\u0027);\n                            btn.css(\u0027display\u0027,\u0027none\u0027);\n                    });\n                    \n                }\n                \n                (function(dfid) {\n                \n                    var retryCount \u003d 10;\n                \n                    function is_valid_websock(s) {\n                        return s \u0026\u0026 s.readyState\u003d\u003d1;\n                    }\n                \n                    function check_conn() {\n                        \n                        if(!IPython || !IPython.notebook) {\n                            // Don\u0027t even try to go further\n                            return;\n                        }\n                        \n                        // Check if IPython is ready\n                        console.info(\"Checking conn ...\")\n                        if(IPython.notebook.kernel\n                        \u0026\u0026 IPython.notebook.kernel\n                        \u0026\u0026 is_valid_websock(IPython.notebook.kernel.ws)\n                        ) {\n                            \n                            _check_export_df_possible(dfid,function(rows, cols) {\n                                $(\u0027#btn-df-\u0027+dfid).css(\u0027display\u0027,\u0027inline-block\u0027);\n                                $(\u0027#btn-df-\u0027+dfid).text(\u0027Export this dataframe (\u0027+rows+\u0027 rows, \u0027+cols+\u0027 cols)\u0027);\n                            });\n                            \n                        } else {\n                            console.info(\"Conditions are not ok\", IPython.notebook.kernel);\n                            \n                            // Retry later\n                            \n                            if(retryCount\u003e0) {\n                                setTimeout(check_conn,500);\n                                retryCount--;\n                            }\n                            \n                        }\n                    };\n                    \n                    setTimeout(check_conn,100);\n                    \n                })(\"98df3d16-bb78-4cd1-9351-23cdf7894c73\");\n                \n            \u003c/script\u003e\n            \n        \u003cdiv\u003e\n\u003cstyle scoped\u003e\n    .dataframe tbody tr th:only-of-type {\n        vertical-align: middle;\n    }\n\n    .dataframe tbody tr th {\n        vertical-align: top;\n    }\n\n    .dataframe thead th {\n        text-align: right;\n    }\n\u003c/style\u003e\n\u003ctable border\u003d\"1\" class\u003d\"dataframe\"\u003e\n  \u003cthead\u003e\n    \u003ctr style\u003d\"text-align: right;\"\u003e\n      \u003cth\u003e\u003c/th\u003e\n      \u003cth\u003elatitude\u003c/th\u003e\n      \u003cth\u003elongitude\u003c/th\u003e\n      \u003cth\u003ecode_postal\u003c/th\u003e\n      \u003cth\u003esurface_m2_not_null\u003c/th\u003e\n      \u003cth\u003edistance_to_centre\u003c/th\u003e\n      \u003cth\u003edirection_from_centre\u003c/th\u003e\n      \u003cth\u003edate_mutation_year\u003c/th\u003e\n      \u003cth\u003enombre_pieces_principales\u003c/th\u003e\n    \u003c/tr\u003e\n  \u003c/thead\u003e\n  \u003ctbody\u003e\n    \u003ctr\u003e\n      \u003cth\u003e0\u003c/th\u003e\n      \u003ctd\u003e48.855499\u003c/td\u003e\n      \u003ctd\u003e2.270668\u003c/td\u003e\n      \u003ctd\u003e75016\u003c/td\u003e\n      \u003ctd\u003e200\u003c/td\u003e\n      \u003ctd\u003e5.2508\u003c/td\u003e\n      \u003ctd\u003eW\u003c/td\u003e\n      \u003ctd\u003e2021\u003c/td\u003e\n      \u003ctd\u003e7\u003c/td\u003e\n    \u003c/tr\u003e\n  \u003c/tbody\u003e\n\u003c/table\u003e\n\u003c/div\u003e"
          },
          "metadata": {}
        }
      ]
    },
    {
      "execution_count": 24,
      "cell_type": "code",
      "metadata": {},
      "source": [
        "df[[\u0027latitude\u0027,\u0027longitude\u0027]]"
      ],
      "outputs": [
        {
          "output_type": "stream",
          "text": "/Users/nathanbry/Dataiku/dss-design/code-envs/python/real_estate/lib/python3.7/site-packages/pandas/core/indexes/base.py:395: DeprecationWarning: `np.bool` is a deprecated alias for the builtin `bool`. To silence this warning, use `bool` by itself. Doing this will not modify any behavior and is safe. If you specifically wanted the numpy scalar type, use `np.bool_` here.\nDeprecated in NumPy 1.20; for more details and guidance: https://numpy.org/devdocs/release/1.20.0-notes.html#deprecations\n  elif issubclass(data.dtype.type, np.bool) or is_bool_dtype(data):\n",
          "name": "stderr"
        },
        {
          "output_type": "execute_result",
          "execution_count": 24,
          "data": {
            "text/plain": "    latitude  longitude\n0  48.855499   2.270668",
            "text/html": "\n            \u003cbutton style\u003d\"display:none\" \n            class\u003d\"btn btn-default ipython-export-btn\" \n            id\u003d\"btn-df-7bbfc044-18a9-4119-a303-74fcac212d02\" \n            onclick\u003d\"_export_df(\u00277bbfc044-18a9-4119-a303-74fcac212d02\u0027)\"\u003e\n                Export dataframe\n            \u003c/button\u003e\n            \n            \u003cscript\u003e\n                \n                function _check_export_df_possible(dfid,yes_fn,no_fn) {\n                    console.log(\u0027Checking dataframe exportability...\u0027)\n                    if(!IPython || !IPython.notebook || !IPython.notebook.kernel || !IPython.notebook.kernel) {\n                        console.log(\u0027Export is not possible (IPython kernel is not available)\u0027)\n                        if(no_fn) {\n                            no_fn();\n                        }\n                    } else {\n                        var pythonCode \u003d \u0027from dataiku.notebook.export import IPythonExporter;IPythonExporter._check_export_stdout(\"\u0027+dfid+\u0027\")\u0027;\n                        IPython.notebook.kernel.execute(pythonCode,{iopub: {output: function(resp) {\n                            console.info(\"Exportability response\", resp);\n                            var size \u003d /^([0-9]+)x([0-9]+)$/.exec(resp.content.data || resp.content.text)\n                            if(!size) {\n                                console.log(\u0027Export is not possible (dataframe is not in-memory anymore)\u0027)\n                                if(no_fn) {\n                                    no_fn();\n                                }\n                            } else {\n                                console.log(\u0027Export is possible\u0027)\n                                if(yes_fn) {\n                                    yes_fn(1*size[1],1*size[2]);\n                                }\n                            }\n                        }}});\n                    }\n                }\n            \n                function _export_df(dfid) {\n                    \n                    var btn \u003d $(\u0027#btn-df-\u0027+dfid);\n                    var btns \u003d $(\u0027.ipython-export-btn\u0027);\n                    \n                    _check_export_df_possible(dfid,function() {\n                        \n                        window.parent.openExportModalFromIPython(\u0027Pandas dataframe\u0027,function(data) {\n                            btns.prop(\u0027disabled\u0027,true);\n                            btn.text(\u0027Exporting...\u0027);\n                            var command \u003d \u0027from dataiku.notebook.export import IPythonExporter;IPythonExporter._run_export(\"\u0027+dfid+\u0027\",\"\u0027+data.exportId+\u0027\")\u0027;\n                            var callback \u003d {iopub:{output: function(resp) {\n                                console.info(\"CB resp:\", resp);\n                                _check_export_df_possible(dfid,function(rows, cols) {\n                                    $(\u0027#btn-df-\u0027+dfid)\n                                        .css(\u0027display\u0027,\u0027inline-block\u0027)\n                                        .text(\u0027Export this dataframe (\u0027+rows+\u0027 rows, \u0027+cols+\u0027 cols)\u0027)\n                                        .prop(\u0027disabled\u0027,false);\n                                },function() {\n                                    $(\u0027#btn-df-\u0027+dfid).css(\u0027display\u0027,\u0027none\u0027);\n                                });\n                            }}};\n                            IPython.notebook.kernel.execute(command,callback,{silent:false}); // yes, silent now defaults to true. figures.\n                        });\n                    \n                    }, function(){\n                            alert(\u0027Unable to export : the Dataframe object is not loaded in memory\u0027);\n                            btn.css(\u0027display\u0027,\u0027none\u0027);\n                    });\n                    \n                }\n                \n                (function(dfid) {\n                \n                    var retryCount \u003d 10;\n                \n                    function is_valid_websock(s) {\n                        return s \u0026\u0026 s.readyState\u003d\u003d1;\n                    }\n                \n                    function check_conn() {\n                        \n                        if(!IPython || !IPython.notebook) {\n                            // Don\u0027t even try to go further\n                            return;\n                        }\n                        \n                        // Check if IPython is ready\n                        console.info(\"Checking conn ...\")\n                        if(IPython.notebook.kernel\n                        \u0026\u0026 IPython.notebook.kernel\n                        \u0026\u0026 is_valid_websock(IPython.notebook.kernel.ws)\n                        ) {\n                            \n                            _check_export_df_possible(dfid,function(rows, cols) {\n                                $(\u0027#btn-df-\u0027+dfid).css(\u0027display\u0027,\u0027inline-block\u0027);\n                                $(\u0027#btn-df-\u0027+dfid).text(\u0027Export this dataframe (\u0027+rows+\u0027 rows, \u0027+cols+\u0027 cols)\u0027);\n                            });\n                            \n                        } else {\n                            console.info(\"Conditions are not ok\", IPython.notebook.kernel);\n                            \n                            // Retry later\n                            \n                            if(retryCount\u003e0) {\n                                setTimeout(check_conn,500);\n                                retryCount--;\n                            }\n                            \n                        }\n                    };\n                    \n                    setTimeout(check_conn,100);\n                    \n                })(\"7bbfc044-18a9-4119-a303-74fcac212d02\");\n                \n            \u003c/script\u003e\n            \n        \u003cdiv\u003e\n\u003cstyle scoped\u003e\n    .dataframe tbody tr th:only-of-type {\n        vertical-align: middle;\n    }\n\n    .dataframe tbody tr th {\n        vertical-align: top;\n    }\n\n    .dataframe thead th {\n        text-align: right;\n    }\n\u003c/style\u003e\n\u003ctable border\u003d\"1\" class\u003d\"dataframe\"\u003e\n  \u003cthead\u003e\n    \u003ctr style\u003d\"text-align: right;\"\u003e\n      \u003cth\u003e\u003c/th\u003e\n      \u003cth\u003elatitude\u003c/th\u003e\n      \u003cth\u003elongitude\u003c/th\u003e\n    \u003c/tr\u003e\n  \u003c/thead\u003e\n  \u003ctbody\u003e\n    \u003ctr\u003e\n      \u003cth\u003e0\u003c/th\u003e\n      \u003ctd\u003e48.855499\u003c/td\u003e\n      \u003ctd\u003e2.270668\u003c/td\u003e\n    \u003c/tr\u003e\n  \u003c/tbody\u003e\n\u003c/table\u003e\n\u003c/div\u003e"
          },
          "metadata": {}
        }
      ]
    },
    {
      "execution_count": 25,
      "cell_type": "code",
      "metadata": {},
      "source": [
        "pred_1.predict(df)"
      ],
      "outputs": [
        {
          "output_type": "stream",
          "text": "/Users/nathanbry/Dataiku/dataiku-dss-10.0.5-osx/python/dataiku/core/saved_model.py:800: DeprecationWarning: `np.bool` is a deprecated alias for the builtin `bool`. To silence this warning, use `bool` by itself. Doing this will not modify any behavior and is safe. If you specifically wanted the numpy scalar type, use `np.bool_` here.\nDeprecated in NumPy 1.20; for more details and guidance: https://numpy.org/devdocs/release/1.20.0-notes.html#deprecations\n  \u0027boolean\u0027: np.bool\n/Users/nathanbry/Dataiku/dataiku-dss-10.0.5-osx/python/dataiku/core/saved_model.py:819: DeprecationWarning: `np.object` is a deprecated alias for the builtin `object`. To silence this warning, use `object` by itself. Doing this will not modify any behavior and is safe. \nDeprecated in NumPy 1.20; for more details and guidance: https://numpy.org/devdocs/release/1.20.0-notes.html#deprecations\n  column_types[k] \u003d np.object\n/Users/nathanbry/Dataiku/dss-design/code-envs/python/real_estate/lib/python3.7/site-packages/pandas/core/indexes/base.py:395: DeprecationWarning: `np.bool` is a deprecated alias for the builtin `bool`. To silence this warning, use `bool` by itself. Doing this will not modify any behavior and is safe. If you specifically wanted the numpy scalar type, use `np.bool_` here.\nDeprecated in NumPy 1.20; for more details and guidance: https://numpy.org/devdocs/release/1.20.0-notes.html#deprecations\n  elif issubclass(data.dtype.type, np.bool) or is_bool_dtype(data):\nDEBUG:dku.ml.preprocessing:PROCESS WITH Step:MultipleImputeMissingFromInput\nDEBUG:dku.ml.preprocessing:MIMIFI: Imputing with map {\u0027latitude\u0027: 48.862350698905374, \u0027nombre_pieces_principales\u0027: 2.382140690893634, \u0027date_mutation_year\u0027: 2017.6153515516796, \u0027longitude\u0027: 2.34069841916365, \u0027code_postal\u0027: 75013.51042572092, \u0027surface_m2_not_null\u0027: 53.258780577498015, \u0027distance_to_centre\u0027: 3.458063099479019}\n/Users/nathanbry/Dataiku/dss-design/code-envs/python/real_estate/lib/python3.7/site-packages/pandas/core/internals/blocks.py:962: DeprecationWarning: `np.complex` is a deprecated alias for the builtin `complex`. To silence this warning, use `complex` by itself. Doing this will not modify any behavior and is safe. If you specifically wanted the numpy scalar type, use `np.complex128` here.\nDeprecated in NumPy 1.20; for more details and guidance: https://numpy.org/devdocs/release/1.20.0-notes.html#deprecations\n  new \u003d convert_scalar(new_values, new)\nDEBUG:dku.ml.preprocessing:PROCESS WITH Step:MultipleImputeMissingFromInput\nDEBUG:dku.ml.preprocessing:MIMIFI: Imputing with map {}\nDEBUG:dku.ml.preprocessing:PROCESS WITH Step:RescalingProcessor2 (latitude)\nDEBUG:dku.ml.preprocessing:  Rescale latitude (avg\u003d48.8554993 std\u003dnan shift\u003d48.862350698905374 inv_scale\u003d49.48009002281994)\nDEBUG:dku.ml.preprocessing:  Rescaled latitude (avg\u003d-0.3390078346202327 std\u003dnan) nulls\u003d0\nDEBUG:dku.ml.preprocessing:PROCESS WITH Step:RescalingProcessor2 (nombre_pieces_principales)\nDEBUG:dku.ml.preprocessing:  Rescale nombre_pieces_principales (avg\u003d7.0 std\u003dnan shift\u003d2.382140690893634 inv_scale\u003d0.7842637109235605)\nDEBUG:dku.ml.preprocessing:  Rescaled nombre_pieces_principales (avg\u003d3.621619478282668 std\u003dnan) nulls\u003d0\nDEBUG:dku.ml.preprocessing:PROCESS WITH Step:RescalingProcessor2 (date_mutation_year)\nDEBUG:dku.ml.preprocessing:  Rescale date_mutation_year (avg\u003d2021.0 std\u003dnan shift\u003d2017.6153515516796 inv_scale\u003d0.4412177297309487)\nDEBUG:dku.ml.preprocessing:  Rescaled date_mutation_year (avg\u003d1.4933669043052948 std\u003dnan) nulls\u003d0\nDEBUG:dku.ml.preprocessing:PROCESS WITH Step:RescalingProcessor2 (longitude)\nDEBUG:dku.ml.preprocessing:  Rescale longitude (avg\u003d2.2706678 std\u003dnan shift\u003d2.34069841916365 inv_scale\u003d26.222362800130867)\nDEBUG:dku.ml.preprocessing:  Rescaled longitude (avg\u003d-1.836368302827032 std\u003dnan) nulls\u003d0\nDEBUG:dku.ml.preprocessing:PROCESS WITH Step:RescalingProcessor2 (code_postal)\nDEBUG:dku.ml.preprocessing:  Rescale code_postal (avg\u003d75016.0 std\u003dnan shift\u003d75013.51042572092 inv_scale\u003d0.211111121170204)\nDEBUG:dku.ml.preprocessing:  Rescaled code_postal (avg\u003d0.5255768172937507 std\u003dnan) nulls\u003d0\nDEBUG:dku.ml.preprocessing:PROCESS WITH Step:RescalingProcessor2 (surface_m2_not_null)\nDEBUG:dku.ml.preprocessing:  Rescale surface_m2_not_null (avg\u003d200.0 std\u003dnan shift\u003d53.258780577498015 inv_scale\u003d0.02489645932780427)\nDEBUG:dku.ml.preprocessing:  Rescaled surface_m2_not_null (avg\u003d3.6533368010647225 std\u003dnan) nulls\u003d0\nDEBUG:dku.ml.preprocessing:PROCESS WITH Step:RescalingProcessor2 (distance_to_centre)\nDEBUG:dku.ml.preprocessing:  Rescale distance_to_centre (avg\u003d5.2508 std\u003dnan shift\u003d3.458063099479019 inv_scale\u003d0.869384197974518)\nDEBUG:dku.ml.preprocessing:  Rescaled distance_to_centre (avg\u003d1.5585771324387565 std\u003dnan) nulls\u003d0\nDEBUG:dku.ml.preprocessing:PROCESS WITH Step:FlushDFBuilder(num_flagonly)\nDEBUG:dku.ml.preprocessing:PROCESS WITH Step:FlushDFBuilder(datetime_cyclical)\nDEBUG:dku.ml.preprocessing:PROCESS WITH Step:FastSparseDummifyProcessor (direction_from_centre)\nDEBUG:dku.ml.preprocessing:Dummifier: Append a sparse block shape\u003d(1, 10) nnz\u003d1\nDEBUG:dku.ml.preprocessing:PROCESS WITH Step:MultipleImputeMissingFromInput\nDEBUG:dku.ml.preprocessing:MIMIFI: Imputing with map {}\nDEBUG:dku.ml.preprocessing:PROCESS WITH Step:FlushDFBuilder(cat_flagpresence)\nDEBUG:dku.ml.preprocessing:PROCESS WITH Step:MultipleImputeMissingFromInput\nDEBUG:dku.ml.preprocessing:MIMIFI: Imputing with map {}\nDEBUG:dku.ml.preprocessing:PROCESS WITH Step:MultipleImputeMissingFromInput\nDEBUG:dku.ml.preprocessing:MIMIFI: Imputing with map {}\nDEBUG:dku.ml.preprocessing:PROCESS WITH Step:FlushDFBuilder(interaction)\nDEBUG:dku.ml.preprocessing:PROCESS WITH Step:DumpPipelineState\nDEBUG:dku.ml.preprocessing:********* Pipeline state (Before feature selection)\nDEBUG:dku.ml.preprocessing:   input_df\u003d (1, 8) \nDEBUG:dku.ml.preprocessing:   current_mf\u003d(1, 17) \nDEBUG:dku.ml.preprocessing:   PPR: \nDEBUG:dku.ml.preprocessing:PROCESS WITH Step:EmitCurrentMFAsResult\nDEBUG:dku.ml.preprocessing:PROCESS WITH Step:DumpPipelineState\nDEBUG:dku.ml.preprocessing:********* Pipeline state (At end)\nDEBUG:dku.ml.preprocessing:   input_df\u003d (1, 8) \nDEBUG:dku.ml.preprocessing:   current_mf\u003d(0, 0) \nDEBUG:dku.ml.preprocessing:   PPR: \nDEBUG:dku.ml.preprocessing:      TRAIN \u003d \u003cclass \u0027dataiku.doctor.multiframe.MultiFrame\u0027\u003e ((1, 17))\nDEBUG:dku.ml.preprocessing:      UNPROCESSED \u003d \u003cclass \u0027pandas.core.frame.DataFrame\u0027\u003e ((1, 8))\n",
          "name": "stderr"
        },
        {
          "output_type": "execute_result",
          "execution_count": 25,
          "data": {
            "text/plain": "   prediction\n0  2508286.25",
            "text/html": "\n            \u003cbutton style\u003d\"display:none\" \n            class\u003d\"btn btn-default ipython-export-btn\" \n            id\u003d\"btn-df-3df6f4cd-df22-4ec7-ab88-e75cce6466de\" \n            onclick\u003d\"_export_df(\u00273df6f4cd-df22-4ec7-ab88-e75cce6466de\u0027)\"\u003e\n                Export dataframe\n            \u003c/button\u003e\n            \n            \u003cscript\u003e\n                \n                function _check_export_df_possible(dfid,yes_fn,no_fn) {\n                    console.log(\u0027Checking dataframe exportability...\u0027)\n                    if(!IPython || !IPython.notebook || !IPython.notebook.kernel || !IPython.notebook.kernel) {\n                        console.log(\u0027Export is not possible (IPython kernel is not available)\u0027)\n                        if(no_fn) {\n                            no_fn();\n                        }\n                    } else {\n                        var pythonCode \u003d \u0027from dataiku.notebook.export import IPythonExporter;IPythonExporter._check_export_stdout(\"\u0027+dfid+\u0027\")\u0027;\n                        IPython.notebook.kernel.execute(pythonCode,{iopub: {output: function(resp) {\n                            console.info(\"Exportability response\", resp);\n                            var size \u003d /^([0-9]+)x([0-9]+)$/.exec(resp.content.data || resp.content.text)\n                            if(!size) {\n                                console.log(\u0027Export is not possible (dataframe is not in-memory anymore)\u0027)\n                                if(no_fn) {\n                                    no_fn();\n                                }\n                            } else {\n                                console.log(\u0027Export is possible\u0027)\n                                if(yes_fn) {\n                                    yes_fn(1*size[1],1*size[2]);\n                                }\n                            }\n                        }}});\n                    }\n                }\n            \n                function _export_df(dfid) {\n                    \n                    var btn \u003d $(\u0027#btn-df-\u0027+dfid);\n                    var btns \u003d $(\u0027.ipython-export-btn\u0027);\n                    \n                    _check_export_df_possible(dfid,function() {\n                        \n                        window.parent.openExportModalFromIPython(\u0027Pandas dataframe\u0027,function(data) {\n                            btns.prop(\u0027disabled\u0027,true);\n                            btn.text(\u0027Exporting...\u0027);\n                            var command \u003d \u0027from dataiku.notebook.export import IPythonExporter;IPythonExporter._run_export(\"\u0027+dfid+\u0027\",\"\u0027+data.exportId+\u0027\")\u0027;\n                            var callback \u003d {iopub:{output: function(resp) {\n                                console.info(\"CB resp:\", resp);\n                                _check_export_df_possible(dfid,function(rows, cols) {\n                                    $(\u0027#btn-df-\u0027+dfid)\n                                        .css(\u0027display\u0027,\u0027inline-block\u0027)\n                                        .text(\u0027Export this dataframe (\u0027+rows+\u0027 rows, \u0027+cols+\u0027 cols)\u0027)\n                                        .prop(\u0027disabled\u0027,false);\n                                },function() {\n                                    $(\u0027#btn-df-\u0027+dfid).css(\u0027display\u0027,\u0027none\u0027);\n                                });\n                            }}};\n                            IPython.notebook.kernel.execute(command,callback,{silent:false}); // yes, silent now defaults to true. figures.\n                        });\n                    \n                    }, function(){\n                            alert(\u0027Unable to export : the Dataframe object is not loaded in memory\u0027);\n                            btn.css(\u0027display\u0027,\u0027none\u0027);\n                    });\n                    \n                }\n                \n                (function(dfid) {\n                \n                    var retryCount \u003d 10;\n                \n                    function is_valid_websock(s) {\n                        return s \u0026\u0026 s.readyState\u003d\u003d1;\n                    }\n                \n                    function check_conn() {\n                        \n                        if(!IPython || !IPython.notebook) {\n                            // Don\u0027t even try to go further\n                            return;\n                        }\n                        \n                        // Check if IPython is ready\n                        console.info(\"Checking conn ...\")\n                        if(IPython.notebook.kernel\n                        \u0026\u0026 IPython.notebook.kernel\n                        \u0026\u0026 is_valid_websock(IPython.notebook.kernel.ws)\n                        ) {\n                            \n                            _check_export_df_possible(dfid,function(rows, cols) {\n                                $(\u0027#btn-df-\u0027+dfid).css(\u0027display\u0027,\u0027inline-block\u0027);\n                                $(\u0027#btn-df-\u0027+dfid).text(\u0027Export this dataframe (\u0027+rows+\u0027 rows, \u0027+cols+\u0027 cols)\u0027);\n                            });\n                            \n                        } else {\n                            console.info(\"Conditions are not ok\", IPython.notebook.kernel);\n                            \n                            // Retry later\n                            \n                            if(retryCount\u003e0) {\n                                setTimeout(check_conn,500);\n                                retryCount--;\n                            }\n                            \n                        }\n                    };\n                    \n                    setTimeout(check_conn,100);\n                    \n                })(\"3df6f4cd-df22-4ec7-ab88-e75cce6466de\");\n                \n            \u003c/script\u003e\n            \n        \u003cdiv\u003e\n\u003cstyle scoped\u003e\n    .dataframe tbody tr th:only-of-type {\n        vertical-align: middle;\n    }\n\n    .dataframe tbody tr th {\n        vertical-align: top;\n    }\n\n    .dataframe thead th {\n        text-align: right;\n    }\n\u003c/style\u003e\n\u003ctable border\u003d\"1\" class\u003d\"dataframe\"\u003e\n  \u003cthead\u003e\n    \u003ctr style\u003d\"text-align: right;\"\u003e\n      \u003cth\u003e\u003c/th\u003e\n      \u003cth\u003eprediction\u003c/th\u003e\n    \u003c/tr\u003e\n  \u003c/thead\u003e\n  \u003ctbody\u003e\n    \u003ctr\u003e\n      \u003cth\u003e0\u003c/th\u003e\n      \u003ctd\u003e2508286.25\u003c/td\u003e\n    \u003c/tr\u003e\n  \u003c/tbody\u003e\n\u003c/table\u003e\n\u003c/div\u003e"
          },
          "metadata": {}
        }
      ]
    },
    {
      "execution_count": 26,
      "cell_type": "code",
      "metadata": {},
      "source": [
        "df"
      ],
      "outputs": [
        {
          "output_type": "execute_result",
          "execution_count": 26,
          "data": {
            "text/plain": "    latitude  longitude  code_postal  surface_m2_not_null  distance_to_centre direction_from_centre  date_mutation_year  nombre_pieces_principales\n0  48.855499   2.270668        75016                  200              5.2508                     W                2021                          7",
            "text/html": "\n            \u003cbutton style\u003d\"display:none\" \n            class\u003d\"btn btn-default ipython-export-btn\" \n            id\u003d\"btn-df-98df3d16-bb78-4cd1-9351-23cdf7894c73\" \n            onclick\u003d\"_export_df(\u002798df3d16-bb78-4cd1-9351-23cdf7894c73\u0027)\"\u003e\n                Export dataframe\n            \u003c/button\u003e\n            \n            \u003cscript\u003e\n                \n                function _check_export_df_possible(dfid,yes_fn,no_fn) {\n                    console.log(\u0027Checking dataframe exportability...\u0027)\n                    if(!IPython || !IPython.notebook || !IPython.notebook.kernel || !IPython.notebook.kernel) {\n                        console.log(\u0027Export is not possible (IPython kernel is not available)\u0027)\n                        if(no_fn) {\n                            no_fn();\n                        }\n                    } else {\n                        var pythonCode \u003d \u0027from dataiku.notebook.export import IPythonExporter;IPythonExporter._check_export_stdout(\"\u0027+dfid+\u0027\")\u0027;\n                        IPython.notebook.kernel.execute(pythonCode,{iopub: {output: function(resp) {\n                            console.info(\"Exportability response\", resp);\n                            var size \u003d /^([0-9]+)x([0-9]+)$/.exec(resp.content.data || resp.content.text)\n                            if(!size) {\n                                console.log(\u0027Export is not possible (dataframe is not in-memory anymore)\u0027)\n                                if(no_fn) {\n                                    no_fn();\n                                }\n                            } else {\n                                console.log(\u0027Export is possible\u0027)\n                                if(yes_fn) {\n                                    yes_fn(1*size[1],1*size[2]);\n                                }\n                            }\n                        }}});\n                    }\n                }\n            \n                function _export_df(dfid) {\n                    \n                    var btn \u003d $(\u0027#btn-df-\u0027+dfid);\n                    var btns \u003d $(\u0027.ipython-export-btn\u0027);\n                    \n                    _check_export_df_possible(dfid,function() {\n                        \n                        window.parent.openExportModalFromIPython(\u0027Pandas dataframe\u0027,function(data) {\n                            btns.prop(\u0027disabled\u0027,true);\n                            btn.text(\u0027Exporting...\u0027);\n                            var command \u003d \u0027from dataiku.notebook.export import IPythonExporter;IPythonExporter._run_export(\"\u0027+dfid+\u0027\",\"\u0027+data.exportId+\u0027\")\u0027;\n                            var callback \u003d {iopub:{output: function(resp) {\n                                console.info(\"CB resp:\", resp);\n                                _check_export_df_possible(dfid,function(rows, cols) {\n                                    $(\u0027#btn-df-\u0027+dfid)\n                                        .css(\u0027display\u0027,\u0027inline-block\u0027)\n                                        .text(\u0027Export this dataframe (\u0027+rows+\u0027 rows, \u0027+cols+\u0027 cols)\u0027)\n                                        .prop(\u0027disabled\u0027,false);\n                                },function() {\n                                    $(\u0027#btn-df-\u0027+dfid).css(\u0027display\u0027,\u0027none\u0027);\n                                });\n                            }}};\n                            IPython.notebook.kernel.execute(command,callback,{silent:false}); // yes, silent now defaults to true. figures.\n                        });\n                    \n                    }, function(){\n                            alert(\u0027Unable to export : the Dataframe object is not loaded in memory\u0027);\n                            btn.css(\u0027display\u0027,\u0027none\u0027);\n                    });\n                    \n                }\n                \n                (function(dfid) {\n                \n                    var retryCount \u003d 10;\n                \n                    function is_valid_websock(s) {\n                        return s \u0026\u0026 s.readyState\u003d\u003d1;\n                    }\n                \n                    function check_conn() {\n                        \n                        if(!IPython || !IPython.notebook) {\n                            // Don\u0027t even try to go further\n                            return;\n                        }\n                        \n                        // Check if IPython is ready\n                        console.info(\"Checking conn ...\")\n                        if(IPython.notebook.kernel\n                        \u0026\u0026 IPython.notebook.kernel\n                        \u0026\u0026 is_valid_websock(IPython.notebook.kernel.ws)\n                        ) {\n                            \n                            _check_export_df_possible(dfid,function(rows, cols) {\n                                $(\u0027#btn-df-\u0027+dfid).css(\u0027display\u0027,\u0027inline-block\u0027);\n                                $(\u0027#btn-df-\u0027+dfid).text(\u0027Export this dataframe (\u0027+rows+\u0027 rows, \u0027+cols+\u0027 cols)\u0027);\n                            });\n                            \n                        } else {\n                            console.info(\"Conditions are not ok\", IPython.notebook.kernel);\n                            \n                            // Retry later\n                            \n                            if(retryCount\u003e0) {\n                                setTimeout(check_conn,500);\n                                retryCount--;\n                            }\n                            \n                        }\n                    };\n                    \n                    setTimeout(check_conn,100);\n                    \n                })(\"98df3d16-bb78-4cd1-9351-23cdf7894c73\");\n                \n            \u003c/script\u003e\n            \n        \u003cdiv\u003e\n\u003cstyle scoped\u003e\n    .dataframe tbody tr th:only-of-type {\n        vertical-align: middle;\n    }\n\n    .dataframe tbody tr th {\n        vertical-align: top;\n    }\n\n    .dataframe thead th {\n        text-align: right;\n    }\n\u003c/style\u003e\n\u003ctable border\u003d\"1\" class\u003d\"dataframe\"\u003e\n  \u003cthead\u003e\n    \u003ctr style\u003d\"text-align: right;\"\u003e\n      \u003cth\u003e\u003c/th\u003e\n      \u003cth\u003elatitude\u003c/th\u003e\n      \u003cth\u003elongitude\u003c/th\u003e\n      \u003cth\u003ecode_postal\u003c/th\u003e\n      \u003cth\u003esurface_m2_not_null\u003c/th\u003e\n      \u003cth\u003edistance_to_centre\u003c/th\u003e\n      \u003cth\u003edirection_from_centre\u003c/th\u003e\n      \u003cth\u003edate_mutation_year\u003c/th\u003e\n      \u003cth\u003enombre_pieces_principales\u003c/th\u003e\n    \u003c/tr\u003e\n  \u003c/thead\u003e\n  \u003ctbody\u003e\n    \u003ctr\u003e\n      \u003cth\u003e0\u003c/th\u003e\n      \u003ctd\u003e48.855499\u003c/td\u003e\n      \u003ctd\u003e2.270668\u003c/td\u003e\n      \u003ctd\u003e75016\u003c/td\u003e\n      \u003ctd\u003e200\u003c/td\u003e\n      \u003ctd\u003e5.2508\u003c/td\u003e\n      \u003ctd\u003eW\u003c/td\u003e\n      \u003ctd\u003e2021\u003c/td\u003e\n      \u003ctd\u003e7\u003c/td\u003e\n    \u003c/tr\u003e\n  \u003c/tbody\u003e\n\u003c/table\u003e\n\u003c/div\u003e"
          },
          "metadata": {}
        }
      ]
    },
    {
      "execution_count": 29,
      "cell_type": "code",
      "metadata": {},
      "source": [
        "list(df.columns)"
      ],
      "outputs": [
        {
          "output_type": "execute_result",
          "execution_count": 29,
          "data": {
            "text/plain": "[\u0027latitude\u0027,\n \u0027longitude\u0027,\n \u0027code_postal\u0027,\n \u0027surface_m2_not_null\u0027,\n \u0027distance_to_centre\u0027,\n \u0027direction_from_centre\u0027,\n \u0027date_mutation_year\u0027,\n \u0027nombre_pieces_principales\u0027]"
          },
          "metadata": {}
        }
      ]
    },
    {
      "execution_count": 28,
      "cell_type": "code",
      "metadata": {},
      "source": [
        "list(df.loc[0])"
      ],
      "outputs": [
        {
          "output_type": "execute_result",
          "execution_count": 28,
          "data": {
            "text/plain": "[48.8554993, 2.2706678, 75016, 200, 5.2508, \u0027W\u0027, 2021, 7]"
          },
          "metadata": {}
        }
      ]
    },
    {
      "execution_count": 30,
      "cell_type": "code",
      "metadata": {},
      "source": [
        "dict(zip(list(df.columns), list(df.loc[0])))"
      ],
      "outputs": [
        {
          "output_type": "execute_result",
          "execution_count": 30,
          "data": {
            "text/plain": "{\u0027latitude\u0027: 48.8554993,\n \u0027longitude\u0027: 2.2706678,\n \u0027code_postal\u0027: 75016,\n \u0027surface_m2_not_null\u0027: 200,\n \u0027distance_to_centre\u0027: 5.2508,\n \u0027direction_from_centre\u0027: \u0027W\u0027,\n \u0027date_mutation_year\u0027: 2021,\n \u0027nombre_pieces_principales\u0027: 7}"
          },
          "metadata": {}
        }
      ]
    },
    {
      "execution_count": 0,
      "cell_type": "code",
      "metadata": {},
      "source": [
        "{\"latitude\":48.8749729,\n \"longitude\":2.3443353,\n \"date_mutation_year\":2021,\n \"code_postal\":75009,\n \"surface_m2_not_null\":75,\n \"nombre_pieces_principales\":3,\n \"distance_to_centre\":2.0596112975,\n \"direction_from_centre\":\"N\"}"
      ],
      "outputs": []
    },
    {
      "execution_count": 0,
      "cell_type": "code",
      "metadata": {},
      "source": [
        ""
      ],
      "outputs": []
    },
    {
      "execution_count": 42,
      "cell_type": "code",
      "metadata": {},
      "source": [
        "cols \u003d [\u0027latitude\u0027,\u0027longitude\u0027,\u0027date_mutation_year\u0027,\n        \u0027code_postal\u0027,\u0027surface_m2_not_null\u0027,\n        \u0027nombre_pieces_principales\u0027,\u0027distance_to_centre\u0027,\n        \u0027direction_from_centre\u0027]\n\nvals \u003d [48.8749729,2.3443353,2021,75009,75,3,2.0596112975,\u0027N\u0027]"
      ],
      "outputs": []
    },
    {
      "execution_count": 43,
      "cell_type": "code",
      "metadata": {},
      "source": [
        "df \u003d pd.DataFrame([vals],columns\u003dcols)"
      ],
      "outputs": [
        {
          "output_type": "stream",
          "text": "/Users/nathanbry/Dataiku/dss-design/code-envs/python/real_estate/lib/python3.7/site-packages/pandas/core/internals/construction.py:587: DeprecationWarning: `np.object` is a deprecated alias for the builtin `object`. To silence this warning, use `object` by itself. Doing this will not modify any behavior and is safe. \nDeprecated in NumPy 1.20; for more details and guidance: https://numpy.org/devdocs/release/1.20.0-notes.html#deprecations\n  if dtype !\u003d object and dtype !\u003d np.object:\n/Users/nathanbry/Dataiku/dss-design/code-envs/python/real_estate/lib/python3.7/site-packages/pandas/core/indexes/base.py:395: DeprecationWarning: `np.bool` is a deprecated alias for the builtin `bool`. To silence this warning, use `bool` by itself. Doing this will not modify any behavior and is safe. If you specifically wanted the numpy scalar type, use `np.bool_` here.\nDeprecated in NumPy 1.20; for more details and guidance: https://numpy.org/devdocs/release/1.20.0-notes.html#deprecations\n  elif issubclass(data.dtype.type, np.bool) or is_bool_dtype(data):\n",
          "name": "stderr"
        }
      ]
    },
    {
      "execution_count": 44,
      "cell_type": "code",
      "metadata": {},
      "source": [
        "df"
      ],
      "outputs": [
        {
          "output_type": "execute_result",
          "execution_count": 44,
          "data": {
            "text/plain": "    latitude  longitude  date_mutation_year  code_postal  surface_m2_not_null  nombre_pieces_principales  distance_to_centre direction_from_centre\n0  48.874973   2.344335                2021        75009                   75                          3            2.059611                     N",
            "text/html": "\n            \u003cbutton style\u003d\"display:none\" \n            class\u003d\"btn btn-default ipython-export-btn\" \n            id\u003d\"btn-df-65da78cf-f3ae-4ff2-933d-0b87d4369779\" \n            onclick\u003d\"_export_df(\u002765da78cf-f3ae-4ff2-933d-0b87d4369779\u0027)\"\u003e\n                Export dataframe\n            \u003c/button\u003e\n            \n            \u003cscript\u003e\n                \n                function _check_export_df_possible(dfid,yes_fn,no_fn) {\n                    console.log(\u0027Checking dataframe exportability...\u0027)\n                    if(!IPython || !IPython.notebook || !IPython.notebook.kernel || !IPython.notebook.kernel) {\n                        console.log(\u0027Export is not possible (IPython kernel is not available)\u0027)\n                        if(no_fn) {\n                            no_fn();\n                        }\n                    } else {\n                        var pythonCode \u003d \u0027from dataiku.notebook.export import IPythonExporter;IPythonExporter._check_export_stdout(\"\u0027+dfid+\u0027\")\u0027;\n                        IPython.notebook.kernel.execute(pythonCode,{iopub: {output: function(resp) {\n                            console.info(\"Exportability response\", resp);\n                            var size \u003d /^([0-9]+)x([0-9]+)$/.exec(resp.content.data || resp.content.text)\n                            if(!size) {\n                                console.log(\u0027Export is not possible (dataframe is not in-memory anymore)\u0027)\n                                if(no_fn) {\n                                    no_fn();\n                                }\n                            } else {\n                                console.log(\u0027Export is possible\u0027)\n                                if(yes_fn) {\n                                    yes_fn(1*size[1],1*size[2]);\n                                }\n                            }\n                        }}});\n                    }\n                }\n            \n                function _export_df(dfid) {\n                    \n                    var btn \u003d $(\u0027#btn-df-\u0027+dfid);\n                    var btns \u003d $(\u0027.ipython-export-btn\u0027);\n                    \n                    _check_export_df_possible(dfid,function() {\n                        \n                        window.parent.openExportModalFromIPython(\u0027Pandas dataframe\u0027,function(data) {\n                            btns.prop(\u0027disabled\u0027,true);\n                            btn.text(\u0027Exporting...\u0027);\n                            var command \u003d \u0027from dataiku.notebook.export import IPythonExporter;IPythonExporter._run_export(\"\u0027+dfid+\u0027\",\"\u0027+data.exportId+\u0027\")\u0027;\n                            var callback \u003d {iopub:{output: function(resp) {\n                                console.info(\"CB resp:\", resp);\n                                _check_export_df_possible(dfid,function(rows, cols) {\n                                    $(\u0027#btn-df-\u0027+dfid)\n                                        .css(\u0027display\u0027,\u0027inline-block\u0027)\n                                        .text(\u0027Export this dataframe (\u0027+rows+\u0027 rows, \u0027+cols+\u0027 cols)\u0027)\n                                        .prop(\u0027disabled\u0027,false);\n                                },function() {\n                                    $(\u0027#btn-df-\u0027+dfid).css(\u0027display\u0027,\u0027none\u0027);\n                                });\n                            }}};\n                            IPython.notebook.kernel.execute(command,callback,{silent:false}); // yes, silent now defaults to true. figures.\n                        });\n                    \n                    }, function(){\n                            alert(\u0027Unable to export : the Dataframe object is not loaded in memory\u0027);\n                            btn.css(\u0027display\u0027,\u0027none\u0027);\n                    });\n                    \n                }\n                \n                (function(dfid) {\n                \n                    var retryCount \u003d 10;\n                \n                    function is_valid_websock(s) {\n                        return s \u0026\u0026 s.readyState\u003d\u003d1;\n                    }\n                \n                    function check_conn() {\n                        \n                        if(!IPython || !IPython.notebook) {\n                            // Don\u0027t even try to go further\n                            return;\n                        }\n                        \n                        // Check if IPython is ready\n                        console.info(\"Checking conn ...\")\n                        if(IPython.notebook.kernel\n                        \u0026\u0026 IPython.notebook.kernel\n                        \u0026\u0026 is_valid_websock(IPython.notebook.kernel.ws)\n                        ) {\n                            \n                            _check_export_df_possible(dfid,function(rows, cols) {\n                                $(\u0027#btn-df-\u0027+dfid).css(\u0027display\u0027,\u0027inline-block\u0027);\n                                $(\u0027#btn-df-\u0027+dfid).text(\u0027Export this dataframe (\u0027+rows+\u0027 rows, \u0027+cols+\u0027 cols)\u0027);\n                            });\n                            \n                        } else {\n                            console.info(\"Conditions are not ok\", IPython.notebook.kernel);\n                            \n                            // Retry later\n                            \n                            if(retryCount\u003e0) {\n                                setTimeout(check_conn,500);\n                                retryCount--;\n                            }\n                            \n                        }\n                    };\n                    \n                    setTimeout(check_conn,100);\n                    \n                })(\"65da78cf-f3ae-4ff2-933d-0b87d4369779\");\n                \n            \u003c/script\u003e\n            \n        \u003cdiv\u003e\n\u003cstyle scoped\u003e\n    .dataframe tbody tr th:only-of-type {\n        vertical-align: middle;\n    }\n\n    .dataframe tbody tr th {\n        vertical-align: top;\n    }\n\n    .dataframe thead th {\n        text-align: right;\n    }\n\u003c/style\u003e\n\u003ctable border\u003d\"1\" class\u003d\"dataframe\"\u003e\n  \u003cthead\u003e\n    \u003ctr style\u003d\"text-align: right;\"\u003e\n      \u003cth\u003e\u003c/th\u003e\n      \u003cth\u003elatitude\u003c/th\u003e\n      \u003cth\u003elongitude\u003c/th\u003e\n      \u003cth\u003edate_mutation_year\u003c/th\u003e\n      \u003cth\u003ecode_postal\u003c/th\u003e\n      \u003cth\u003esurface_m2_not_null\u003c/th\u003e\n      \u003cth\u003enombre_pieces_principales\u003c/th\u003e\n      \u003cth\u003edistance_to_centre\u003c/th\u003e\n      \u003cth\u003edirection_from_centre\u003c/th\u003e\n    \u003c/tr\u003e\n  \u003c/thead\u003e\n  \u003ctbody\u003e\n    \u003ctr\u003e\n      \u003cth\u003e0\u003c/th\u003e\n      \u003ctd\u003e48.874973\u003c/td\u003e\n      \u003ctd\u003e2.344335\u003c/td\u003e\n      \u003ctd\u003e2021\u003c/td\u003e\n      \u003ctd\u003e75009\u003c/td\u003e\n      \u003ctd\u003e75\u003c/td\u003e\n      \u003ctd\u003e3\u003c/td\u003e\n      \u003ctd\u003e2.059611\u003c/td\u003e\n      \u003ctd\u003eN\u003c/td\u003e\n    \u003c/tr\u003e\n  \u003c/tbody\u003e\n\u003c/table\u003e\n\u003c/div\u003e"
          },
          "metadata": {}
        }
      ]
    },
    {
      "execution_count": 64,
      "cell_type": "code",
      "metadata": {},
      "source": [
        "test1 \u003d dict(zip(list(df.columns), list(df.loc[0])))"
      ],
      "outputs": []
    },
    {
      "execution_count": 76,
      "cell_type": "code",
      "metadata": {},
      "source": [
        "df.loc[0].values.tolist()"
      ],
      "outputs": [
        {
          "output_type": "execute_result",
          "execution_count": 76,
          "data": {
            "text/plain": "[48.8749729, 2.3443353, 2021, 75009, 75, 3, 2.0596112975, \u0027N\u0027]"
          },
          "metadata": {}
        }
      ]
    },
    {
      "execution_count": 77,
      "cell_type": "code",
      "metadata": {},
      "source": [
        "for i in df.loc[0].values.tolist():\n    print(type(i))"
      ],
      "outputs": [
        {
          "output_type": "stream",
          "text": "\u003cclass \u0027numpy.float64\u0027\u003e\n\u003cclass \u0027numpy.float64\u0027\u003e\n\u003cclass \u0027numpy.int64\u0027\u003e\n\u003cclass \u0027numpy.int64\u0027\u003e\n\u003cclass \u0027numpy.int64\u0027\u003e\n\u003cclass \u0027numpy.int64\u0027\u003e\n\u003cclass \u0027numpy.float64\u0027\u003e\n\u003cclass \u0027str\u0027\u003e\n",
          "name": "stdout"
        }
      ]
    },
    {
      "execution_count": 46,
      "cell_type": "code",
      "metadata": {},
      "source": [
        "test2 \u003d {\"latitude\":48.8749729,\n \"longitude\":2.3443353,\n \"date_mutation_year\":2021,\n \"code_postal\":75009,\n \"surface_m2_not_null\":75,\n \"nombre_pieces_principales\":3,\n \"distance_to_centre\":2.0596112975,\n \"direction_from_centre\":\"N\"}"
      ],
      "outputs": []
    },
    {
      "execution_count": 61,
      "cell_type": "code",
      "metadata": {},
      "source": [
        "test1 \u003d\u003d test2"
      ],
      "outputs": [
        {
          "output_type": "execute_result",
          "execution_count": 61,
          "data": {
            "text/plain": "True"
          },
          "metadata": {}
        }
      ]
    },
    {
      "execution_count": 48,
      "cell_type": "code",
      "metadata": {},
      "source": [
        "type(test1) \u003d\u003d type(test2)"
      ],
      "outputs": [
        {
          "output_type": "execute_result",
          "execution_count": 48,
          "data": {
            "text/plain": "True"
          },
          "metadata": {}
        }
      ]
    },
    {
      "execution_count": 49,
      "cell_type": "code",
      "metadata": {},
      "source": [
        "test1"
      ],
      "outputs": [
        {
          "output_type": "execute_result",
          "execution_count": 49,
          "data": {
            "text/plain": "{\u0027latitude\u0027: 48.8749729,\n \u0027longitude\u0027: 2.3443353,\n \u0027date_mutation_year\u0027: 2021,\n \u0027code_postal\u0027: 75009,\n \u0027surface_m2_not_null\u0027: 75,\n \u0027nombre_pieces_principales\u0027: 3,\n \u0027distance_to_centre\u0027: 2.0596112975,\n \u0027direction_from_centre\u0027: \u0027N\u0027}"
          },
          "metadata": {}
        }
      ]
    },
    {
      "execution_count": 50,
      "cell_type": "code",
      "metadata": {},
      "source": [
        "test2"
      ],
      "outputs": [
        {
          "output_type": "execute_result",
          "execution_count": 50,
          "data": {
            "text/plain": "{\u0027latitude\u0027: 48.8749729,\n \u0027longitude\u0027: 2.3443353,\n \u0027date_mutation_year\u0027: 2021,\n \u0027code_postal\u0027: 75009,\n \u0027surface_m2_not_null\u0027: 75,\n \u0027nombre_pieces_principales\u0027: 3,\n \u0027distance_to_centre\u0027: 2.0596112975,\n \u0027direction_from_centre\u0027: \u0027N\u0027}"
          },
          "metadata": {}
        }
      ]
    },
    {
      "execution_count": 51,
      "cell_type": "code",
      "metadata": {},
      "source": [
        "for key,value in test2.items():\n    print(type(value))"
      ],
      "outputs": [
        {
          "output_type": "stream",
          "text": "\u003cclass \u0027float\u0027\u003e\n\u003cclass \u0027float\u0027\u003e\n\u003cclass \u0027int\u0027\u003e\n\u003cclass \u0027int\u0027\u003e\n\u003cclass \u0027int\u0027\u003e\n\u003cclass \u0027int\u0027\u003e\n\u003cclass \u0027float\u0027\u003e\n\u003cclass \u0027str\u0027\u003e\n",
          "name": "stdout"
        }
      ]
    },
    {
      "execution_count": 62,
      "cell_type": "code",
      "metadata": {},
      "source": [
        "for key,value in test1.items():\n    print(type(value))"
      ],
      "outputs": [
        {
          "output_type": "stream",
          "text": "\u003cclass \u0027numpy.float64\u0027\u003e\n\u003cclass \u0027numpy.float64\u0027\u003e\n\u003cclass \u0027numpy.int64\u0027\u003e\n\u003cclass \u0027numpy.int64\u0027\u003e\n\u003cclass \u0027numpy.int64\u0027\u003e\n\u003cclass \u0027numpy.int64\u0027\u003e\n\u003cclass \u0027numpy.float64\u0027\u003e\n\u003cclass \u0027str\u0027\u003e\n",
          "name": "stdout"
        }
      ]
    },
    {
      "execution_count": 58,
      "cell_type": "code",
      "metadata": {},
      "source": [
        "for key,value in test1.items():\n    if type(value) \u003d\u003d np.int64:\n        test1[key] \u003d int(value)"
      ],
      "outputs": []
    },
    {
      "execution_count": 59,
      "cell_type": "code",
      "metadata": {},
      "source": [
        "for key,value in test1.items():\n    print(type(value))"
      ],
      "outputs": [
        {
          "output_type": "stream",
          "text": "\u003cclass \u0027numpy.float64\u0027\u003e\n\u003cclass \u0027numpy.float64\u0027\u003e\n\u003cclass \u0027int\u0027\u003e\n\u003cclass \u0027int\u0027\u003e\n\u003cclass \u0027int\u0027\u003e\n\u003cclass \u0027int\u0027\u003e\n\u003cclass \u0027numpy.float64\u0027\u003e\n\u003cclass \u0027str\u0027\u003e\n",
          "name": "stdout"
        }
      ]
    },
    {
      "execution_count": 0,
      "cell_type": "code",
      "metadata": {},
      "source": [
        ""
      ],
      "outputs": []
    }
  ]
}