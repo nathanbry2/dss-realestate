{
  "metadata": {
    "kernelspec": {
      "name": "py-dku-venv-webappnew",
      "display_name": "Python (env WebAppNew)",
      "language": "python"
    },
    "creator": "admin",
    "createdOn": 1658149277236,
    "tags": [],
    "customFields": {},
    "hide_input": false,
    "language_info": {
      "name": "python",
      "version": "3.7.13",
      "mimetype": "text/x-python",
      "codemirror_mode": {
        "name": "ipython",
        "version": 3
      },
      "pygments_lexer": "ipython3",
      "nbconvert_exporter": "python",
      "file_extension": ".py"
    },
    "modifiedBy": "admin"
  },
  "nbformat": 4,
  "nbformat_minor": 1,
  "cells": [
    {
      "execution_count": 1,
      "cell_type": "code",
      "metadata": {},
      "source": [
        "import dataiku\nfrom dataiku import pandasutils as pdu\nimport pandas as pd"
      ],
      "outputs": [
        {
          "output_type": "stream",
          "text": "/Users/nathanbry/Dataiku/dss-design/code-envs/python/WebAppNew/lib/python3.7/site-packages/pandas/compat/__init__.py:117: UserWarning: Could not import the lzma module. Your installed Python is incomplete. Attempting to use lzma compression will result in a RuntimeError.\n  warnings.warn(msg)\n",
          "name": "stderr"
        }
      ]
    },
    {
      "execution_count": 13,
      "cell_type": "code",
      "metadata": {},
      "source": [
        "# Example: load a DSS dataset as a Pandas dataframe\nmydataset \u003d dataiku.Dataset(\"transactions_by_iris_code_year_windows_prepared\")\ndf \u003d mydataset.get_dataframe()"
      ],
      "outputs": [
        {
          "output_type": "stream",
          "text": "/Users/nathanbry/Dataiku/dss-design/code-envs/python/WebAppNew/lib/python3.7/site-packages/pandas/core/indexes/base.py:395: DeprecationWarning:\n\n`np.bool` is a deprecated alias for the builtin `bool`. To silence this warning, use `bool` by itself. Doing this will not modify any behavior and is safe. If you specifically wanted the numpy scalar type, use `np.bool_` here.\nDeprecated in NumPy 1.20; for more details and guidance: https://numpy.org/devdocs/release/1.20.0-notes.html#deprecations\n\n",
          "name": "stderr"
        }
      ]
    },
    {
      "execution_count": 14,
      "cell_type": "code",
      "metadata": {},
      "source": [
        "df"
      ],
      "outputs": [
        {
          "output_type": "execute_result",
          "execution_count": 14,
          "data": {
            "text/plain": "      iris_code  date_mutation_year  valeur_fonciere_avg  valeur_fonciere_sum  code_postal  surface_m2_not_null_avg  surface_m2_not_null_sum  prix_m2_not_null_avg  nombre_pieces_principales_avg  distance_to_centre_avg direction_from_centre          iris_GeoPoint_first                                iris_GeoShape_first             NOM_COM_first               NOM_IRIS_first TYP_IRIS_first  count  prix_m2_not_null_avg_lag1  Growth%_1year  prix_m2_not_null_avg_lag7  CAGR%_7years  Growth%_7years\n0     751010101                2014        563505.705882           9579597.00        75001                63.646471                  1081.99           9778.425962                       2.352941                0.315606                    NW  48.8584842868,2.34540677779  {\"type\": \"Polygon\", \"coordinates\": [[[2.348319...  Paris 1er Arrondissement  Saint-Germain l\u0027Auxerrois 1              H     17                        NaN            NaN                        NaN           NaN             NaN\n1     751010101                2015        648975.840000          16224396.00        75001                60.186400                  1504.66          10612.423458                       2.560000                0.355249                    NW  48.8584842868,2.34540677779  {\"type\": \"Polygon\", \"coordinates\": [[[2.348319...  Paris 1er Arrondissement  Saint-Germain l\u0027Auxerrois 1              H     25                9778.425962       8.528954                        NaN           NaN             NaN\n2     751010101                2016        597858.888889           5380730.00        75001                66.171111                   595.54           9335.909234                       1.888889                0.321964                    NW  48.8584842868,2.34540677779  {\"type\": \"Polygon\", \"coordinates\": [[[2.348319...  Paris 1er Arrondissement  Saint-Germain l\u0027Auxerrois 1              H      9               10612.423458     -12.028489                        NaN           NaN             NaN\n3     751010101                2017        541623.333333           8124350.00        75001                57.675333                   865.13          10440.421140                       2.200000                0.338031                    NW  48.8584842868,2.34540677779  {\"type\": \"Polygon\", \"coordinates\": [[[2.348319...  Paris 1er Arrondissement  Saint-Germain l\u0027Auxerrois 1              H     15                9335.909234      11.830791                        NaN           NaN             NaN\n4     751010101                2018        422072.877000           4220728.77        75001                36.709000                   367.09          11387.345014                       2.000000                0.296703                    NW  48.8584842868,2.34540677779  {\"type\": \"Polygon\", \"coordinates\": [[[2.348319...  Paris 1er Arrondissement  Saint-Germain l\u0027Auxerrois 1              H     10               10440.421140       9.069786                        NaN           NaN             NaN\n...         ...                 ...                  ...                  ...          ...                      ...                      ...                   ...                            ...                     ...                   ...                          ...                                                ...                       ...                          ...            ...    ...                        ...            ...                        ...           ...             ...\n7117  751208026                2016        273010.000000           1638060.00        75020                37.683333                   226.10           7206.517293                       2.500000                3.973549                     E   48.8556577427,2.3964407424  {\"type\": \"Polygon\", \"coordinates\": [[[2.396180...  Paris 20e Arrondissement                  Charonne 26              H      6                8210.748900     -12.230694                        NaN           NaN             NaN\n7118  751208026                2018        419291.047619           8805112.00        75020                49.120476                  1031.53           8492.072913                       2.619048                3.948716                     E   48.8556577427,2.3964407424  {\"type\": \"Polygon\", \"coordinates\": [[[2.396180...  Paris 20e Arrondissement                  Charonne 26              H     21                8074.706451       5.168813                        NaN           NaN             NaN\n7119  751208026                2019        424461.964912          24194332.00        75020                43.456491                  2477.02           9830.089462                       2.070175                3.986798                     E   48.8556577427,2.3964407424  {\"type\": \"Polygon\", \"coordinates\": [[[2.396180...  Paris 20e Arrondissement                  Charonne 26              H     57                8492.072913      15.756065                        NaN           NaN             NaN\n7120  751208026                2020        442973.025000          17718921.00        75020                46.352000                  1854.08           9651.136836                       2.400000                3.955744                     E   48.8556577427,2.3964407424  {\"type\": \"Polygon\", \"coordinates\": [[[2.396180...  Paris 20e Arrondissement                  Charonne 26              H     40                9830.089462      -1.820458                        NaN           NaN             NaN\n7121  751208026                2021        409541.435000          14743491.66        75020                41.630000                  1498.68           9775.481507                       2.000000                3.957471                     E   48.8556577427,2.3964407424  {\"type\": \"Polygon\", \"coordinates\": [[[2.396180...  Paris 20e Arrondissement                  Charonne 26              H     36                9651.136836       1.288394                7472.037867      3.913339       30.827516\n\n[7122 rows x 22 columns]",
            "text/html": "\u003cdiv\u003e\n\u003cstyle scoped\u003e\n    .dataframe tbody tr th:only-of-type {\n        vertical-align: middle;\n    }\n\n    .dataframe tbody tr th {\n        vertical-align: top;\n    }\n\n    .dataframe thead th {\n        text-align: right;\n    }\n\u003c/style\u003e\n\u003ctable border\u003d\"1\" class\u003d\"dataframe\"\u003e\n  \u003cthead\u003e\n    \u003ctr style\u003d\"text-align: right;\"\u003e\n      \u003cth\u003e\u003c/th\u003e\n      \u003cth\u003eiris_code\u003c/th\u003e\n      \u003cth\u003edate_mutation_year\u003c/th\u003e\n      \u003cth\u003evaleur_fonciere_avg\u003c/th\u003e\n      \u003cth\u003evaleur_fonciere_sum\u003c/th\u003e\n      \u003cth\u003ecode_postal\u003c/th\u003e\n      \u003cth\u003esurface_m2_not_null_avg\u003c/th\u003e\n      \u003cth\u003esurface_m2_not_null_sum\u003c/th\u003e\n      \u003cth\u003eprix_m2_not_null_avg\u003c/th\u003e\n      \u003cth\u003enombre_pieces_principales_avg\u003c/th\u003e\n      \u003cth\u003edistance_to_centre_avg\u003c/th\u003e\n      \u003cth\u003edirection_from_centre\u003c/th\u003e\n      \u003cth\u003eiris_GeoPoint_first\u003c/th\u003e\n      \u003cth\u003eiris_GeoShape_first\u003c/th\u003e\n      \u003cth\u003eNOM_COM_first\u003c/th\u003e\n      \u003cth\u003eNOM_IRIS_first\u003c/th\u003e\n      \u003cth\u003eTYP_IRIS_first\u003c/th\u003e\n      \u003cth\u003ecount\u003c/th\u003e\n      \u003cth\u003eprix_m2_not_null_avg_lag1\u003c/th\u003e\n      \u003cth\u003eGrowth%_1year\u003c/th\u003e\n      \u003cth\u003eprix_m2_not_null_avg_lag7\u003c/th\u003e\n      \u003cth\u003eCAGR%_7years\u003c/th\u003e\n      \u003cth\u003eGrowth%_7years\u003c/th\u003e\n    \u003c/tr\u003e\n  \u003c/thead\u003e\n  \u003ctbody\u003e\n    \u003ctr\u003e\n      \u003cth\u003e0\u003c/th\u003e\n      \u003ctd\u003e751010101\u003c/td\u003e\n      \u003ctd\u003e2014\u003c/td\u003e\n      \u003ctd\u003e563505.705882\u003c/td\u003e\n      \u003ctd\u003e9579597.00\u003c/td\u003e\n      \u003ctd\u003e75001\u003c/td\u003e\n      \u003ctd\u003e63.646471\u003c/td\u003e\n      \u003ctd\u003e1081.99\u003c/td\u003e\n      \u003ctd\u003e9778.425962\u003c/td\u003e\n      \u003ctd\u003e2.352941\u003c/td\u003e\n      \u003ctd\u003e0.315606\u003c/td\u003e\n      \u003ctd\u003eNW\u003c/td\u003e\n      \u003ctd\u003e48.8584842868,2.34540677779\u003c/td\u003e\n      \u003ctd\u003e{\"type\": \"Polygon\", \"coordinates\": [[[2.348319...\u003c/td\u003e\n      \u003ctd\u003eParis 1er Arrondissement\u003c/td\u003e\n      \u003ctd\u003eSaint-Germain l\u0027Auxerrois 1\u003c/td\u003e\n      \u003ctd\u003eH\u003c/td\u003e\n      \u003ctd\u003e17\u003c/td\u003e\n      \u003ctd\u003eNaN\u003c/td\u003e\n      \u003ctd\u003eNaN\u003c/td\u003e\n      \u003ctd\u003eNaN\u003c/td\u003e\n      \u003ctd\u003eNaN\u003c/td\u003e\n      \u003ctd\u003eNaN\u003c/td\u003e\n    \u003c/tr\u003e\n    \u003ctr\u003e\n      \u003cth\u003e1\u003c/th\u003e\n      \u003ctd\u003e751010101\u003c/td\u003e\n      \u003ctd\u003e2015\u003c/td\u003e\n      \u003ctd\u003e648975.840000\u003c/td\u003e\n      \u003ctd\u003e16224396.00\u003c/td\u003e\n      \u003ctd\u003e75001\u003c/td\u003e\n      \u003ctd\u003e60.186400\u003c/td\u003e\n      \u003ctd\u003e1504.66\u003c/td\u003e\n      \u003ctd\u003e10612.423458\u003c/td\u003e\n      \u003ctd\u003e2.560000\u003c/td\u003e\n      \u003ctd\u003e0.355249\u003c/td\u003e\n      \u003ctd\u003eNW\u003c/td\u003e\n      \u003ctd\u003e48.8584842868,2.34540677779\u003c/td\u003e\n      \u003ctd\u003e{\"type\": \"Polygon\", \"coordinates\": [[[2.348319...\u003c/td\u003e\n      \u003ctd\u003eParis 1er Arrondissement\u003c/td\u003e\n      \u003ctd\u003eSaint-Germain l\u0027Auxerrois 1\u003c/td\u003e\n      \u003ctd\u003eH\u003c/td\u003e\n      \u003ctd\u003e25\u003c/td\u003e\n      \u003ctd\u003e9778.425962\u003c/td\u003e\n      \u003ctd\u003e8.528954\u003c/td\u003e\n      \u003ctd\u003eNaN\u003c/td\u003e\n      \u003ctd\u003eNaN\u003c/td\u003e\n      \u003ctd\u003eNaN\u003c/td\u003e\n    \u003c/tr\u003e\n    \u003ctr\u003e\n      \u003cth\u003e2\u003c/th\u003e\n      \u003ctd\u003e751010101\u003c/td\u003e\n      \u003ctd\u003e2016\u003c/td\u003e\n      \u003ctd\u003e597858.888889\u003c/td\u003e\n      \u003ctd\u003e5380730.00\u003c/td\u003e\n      \u003ctd\u003e75001\u003c/td\u003e\n      \u003ctd\u003e66.171111\u003c/td\u003e\n      \u003ctd\u003e595.54\u003c/td\u003e\n      \u003ctd\u003e9335.909234\u003c/td\u003e\n      \u003ctd\u003e1.888889\u003c/td\u003e\n      \u003ctd\u003e0.321964\u003c/td\u003e\n      \u003ctd\u003eNW\u003c/td\u003e\n      \u003ctd\u003e48.8584842868,2.34540677779\u003c/td\u003e\n      \u003ctd\u003e{\"type\": \"Polygon\", \"coordinates\": [[[2.348319...\u003c/td\u003e\n      \u003ctd\u003eParis 1er Arrondissement\u003c/td\u003e\n      \u003ctd\u003eSaint-Germain l\u0027Auxerrois 1\u003c/td\u003e\n      \u003ctd\u003eH\u003c/td\u003e\n      \u003ctd\u003e9\u003c/td\u003e\n      \u003ctd\u003e10612.423458\u003c/td\u003e\n      \u003ctd\u003e-12.028489\u003c/td\u003e\n      \u003ctd\u003eNaN\u003c/td\u003e\n      \u003ctd\u003eNaN\u003c/td\u003e\n      \u003ctd\u003eNaN\u003c/td\u003e\n    \u003c/tr\u003e\n    \u003ctr\u003e\n      \u003cth\u003e3\u003c/th\u003e\n      \u003ctd\u003e751010101\u003c/td\u003e\n      \u003ctd\u003e2017\u003c/td\u003e\n      \u003ctd\u003e541623.333333\u003c/td\u003e\n      \u003ctd\u003e8124350.00\u003c/td\u003e\n      \u003ctd\u003e75001\u003c/td\u003e\n      \u003ctd\u003e57.675333\u003c/td\u003e\n      \u003ctd\u003e865.13\u003c/td\u003e\n      \u003ctd\u003e10440.421140\u003c/td\u003e\n      \u003ctd\u003e2.200000\u003c/td\u003e\n      \u003ctd\u003e0.338031\u003c/td\u003e\n      \u003ctd\u003eNW\u003c/td\u003e\n      \u003ctd\u003e48.8584842868,2.34540677779\u003c/td\u003e\n      \u003ctd\u003e{\"type\": \"Polygon\", \"coordinates\": [[[2.348319...\u003c/td\u003e\n      \u003ctd\u003eParis 1er Arrondissement\u003c/td\u003e\n      \u003ctd\u003eSaint-Germain l\u0027Auxerrois 1\u003c/td\u003e\n      \u003ctd\u003eH\u003c/td\u003e\n      \u003ctd\u003e15\u003c/td\u003e\n      \u003ctd\u003e9335.909234\u003c/td\u003e\n      \u003ctd\u003e11.830791\u003c/td\u003e\n      \u003ctd\u003eNaN\u003c/td\u003e\n      \u003ctd\u003eNaN\u003c/td\u003e\n      \u003ctd\u003eNaN\u003c/td\u003e\n    \u003c/tr\u003e\n    \u003ctr\u003e\n      \u003cth\u003e4\u003c/th\u003e\n      \u003ctd\u003e751010101\u003c/td\u003e\n      \u003ctd\u003e2018\u003c/td\u003e\n      \u003ctd\u003e422072.877000\u003c/td\u003e\n      \u003ctd\u003e4220728.77\u003c/td\u003e\n      \u003ctd\u003e75001\u003c/td\u003e\n      \u003ctd\u003e36.709000\u003c/td\u003e\n      \u003ctd\u003e367.09\u003c/td\u003e\n      \u003ctd\u003e11387.345014\u003c/td\u003e\n      \u003ctd\u003e2.000000\u003c/td\u003e\n      \u003ctd\u003e0.296703\u003c/td\u003e\n      \u003ctd\u003eNW\u003c/td\u003e\n      \u003ctd\u003e48.8584842868,2.34540677779\u003c/td\u003e\n      \u003ctd\u003e{\"type\": \"Polygon\", \"coordinates\": [[[2.348319...\u003c/td\u003e\n      \u003ctd\u003eParis 1er Arrondissement\u003c/td\u003e\n      \u003ctd\u003eSaint-Germain l\u0027Auxerrois 1\u003c/td\u003e\n      \u003ctd\u003eH\u003c/td\u003e\n      \u003ctd\u003e10\u003c/td\u003e\n      \u003ctd\u003e10440.421140\u003c/td\u003e\n      \u003ctd\u003e9.069786\u003c/td\u003e\n      \u003ctd\u003eNaN\u003c/td\u003e\n      \u003ctd\u003eNaN\u003c/td\u003e\n      \u003ctd\u003eNaN\u003c/td\u003e\n    \u003c/tr\u003e\n    \u003ctr\u003e\n      \u003cth\u003e...\u003c/th\u003e\n      \u003ctd\u003e...\u003c/td\u003e\n      \u003ctd\u003e...\u003c/td\u003e\n      \u003ctd\u003e...\u003c/td\u003e\n      \u003ctd\u003e...\u003c/td\u003e\n      \u003ctd\u003e...\u003c/td\u003e\n      \u003ctd\u003e...\u003c/td\u003e\n      \u003ctd\u003e...\u003c/td\u003e\n      \u003ctd\u003e...\u003c/td\u003e\n      \u003ctd\u003e...\u003c/td\u003e\n      \u003ctd\u003e...\u003c/td\u003e\n      \u003ctd\u003e...\u003c/td\u003e\n      \u003ctd\u003e...\u003c/td\u003e\n      \u003ctd\u003e...\u003c/td\u003e\n      \u003ctd\u003e...\u003c/td\u003e\n      \u003ctd\u003e...\u003c/td\u003e\n      \u003ctd\u003e...\u003c/td\u003e\n      \u003ctd\u003e...\u003c/td\u003e\n      \u003ctd\u003e...\u003c/td\u003e\n      \u003ctd\u003e...\u003c/td\u003e\n      \u003ctd\u003e...\u003c/td\u003e\n      \u003ctd\u003e...\u003c/td\u003e\n      \u003ctd\u003e...\u003c/td\u003e\n    \u003c/tr\u003e\n    \u003ctr\u003e\n      \u003cth\u003e7117\u003c/th\u003e\n      \u003ctd\u003e751208026\u003c/td\u003e\n      \u003ctd\u003e2016\u003c/td\u003e\n      \u003ctd\u003e273010.000000\u003c/td\u003e\n      \u003ctd\u003e1638060.00\u003c/td\u003e\n      \u003ctd\u003e75020\u003c/td\u003e\n      \u003ctd\u003e37.683333\u003c/td\u003e\n      \u003ctd\u003e226.10\u003c/td\u003e\n      \u003ctd\u003e7206.517293\u003c/td\u003e\n      \u003ctd\u003e2.500000\u003c/td\u003e\n      \u003ctd\u003e3.973549\u003c/td\u003e\n      \u003ctd\u003eE\u003c/td\u003e\n      \u003ctd\u003e48.8556577427,2.3964407424\u003c/td\u003e\n      \u003ctd\u003e{\"type\": \"Polygon\", \"coordinates\": [[[2.396180...\u003c/td\u003e\n      \u003ctd\u003eParis 20e Arrondissement\u003c/td\u003e\n      \u003ctd\u003eCharonne 26\u003c/td\u003e\n      \u003ctd\u003eH\u003c/td\u003e\n      \u003ctd\u003e6\u003c/td\u003e\n      \u003ctd\u003e8210.748900\u003c/td\u003e\n      \u003ctd\u003e-12.230694\u003c/td\u003e\n      \u003ctd\u003eNaN\u003c/td\u003e\n      \u003ctd\u003eNaN\u003c/td\u003e\n      \u003ctd\u003eNaN\u003c/td\u003e\n    \u003c/tr\u003e\n    \u003ctr\u003e\n      \u003cth\u003e7118\u003c/th\u003e\n      \u003ctd\u003e751208026\u003c/td\u003e\n      \u003ctd\u003e2018\u003c/td\u003e\n      \u003ctd\u003e419291.047619\u003c/td\u003e\n      \u003ctd\u003e8805112.00\u003c/td\u003e\n      \u003ctd\u003e75020\u003c/td\u003e\n      \u003ctd\u003e49.120476\u003c/td\u003e\n      \u003ctd\u003e1031.53\u003c/td\u003e\n      \u003ctd\u003e8492.072913\u003c/td\u003e\n      \u003ctd\u003e2.619048\u003c/td\u003e\n      \u003ctd\u003e3.948716\u003c/td\u003e\n      \u003ctd\u003eE\u003c/td\u003e\n      \u003ctd\u003e48.8556577427,2.3964407424\u003c/td\u003e\n      \u003ctd\u003e{\"type\": \"Polygon\", \"coordinates\": [[[2.396180...\u003c/td\u003e\n      \u003ctd\u003eParis 20e Arrondissement\u003c/td\u003e\n      \u003ctd\u003eCharonne 26\u003c/td\u003e\n      \u003ctd\u003eH\u003c/td\u003e\n      \u003ctd\u003e21\u003c/td\u003e\n      \u003ctd\u003e8074.706451\u003c/td\u003e\n      \u003ctd\u003e5.168813\u003c/td\u003e\n      \u003ctd\u003eNaN\u003c/td\u003e\n      \u003ctd\u003eNaN\u003c/td\u003e\n      \u003ctd\u003eNaN\u003c/td\u003e\n    \u003c/tr\u003e\n    \u003ctr\u003e\n      \u003cth\u003e7119\u003c/th\u003e\n      \u003ctd\u003e751208026\u003c/td\u003e\n      \u003ctd\u003e2019\u003c/td\u003e\n      \u003ctd\u003e424461.964912\u003c/td\u003e\n      \u003ctd\u003e24194332.00\u003c/td\u003e\n      \u003ctd\u003e75020\u003c/td\u003e\n      \u003ctd\u003e43.456491\u003c/td\u003e\n      \u003ctd\u003e2477.02\u003c/td\u003e\n      \u003ctd\u003e9830.089462\u003c/td\u003e\n      \u003ctd\u003e2.070175\u003c/td\u003e\n      \u003ctd\u003e3.986798\u003c/td\u003e\n      \u003ctd\u003eE\u003c/td\u003e\n      \u003ctd\u003e48.8556577427,2.3964407424\u003c/td\u003e\n      \u003ctd\u003e{\"type\": \"Polygon\", \"coordinates\": [[[2.396180...\u003c/td\u003e\n      \u003ctd\u003eParis 20e Arrondissement\u003c/td\u003e\n      \u003ctd\u003eCharonne 26\u003c/td\u003e\n      \u003ctd\u003eH\u003c/td\u003e\n      \u003ctd\u003e57\u003c/td\u003e\n      \u003ctd\u003e8492.072913\u003c/td\u003e\n      \u003ctd\u003e15.756065\u003c/td\u003e\n      \u003ctd\u003eNaN\u003c/td\u003e\n      \u003ctd\u003eNaN\u003c/td\u003e\n      \u003ctd\u003eNaN\u003c/td\u003e\n    \u003c/tr\u003e\n    \u003ctr\u003e\n      \u003cth\u003e7120\u003c/th\u003e\n      \u003ctd\u003e751208026\u003c/td\u003e\n      \u003ctd\u003e2020\u003c/td\u003e\n      \u003ctd\u003e442973.025000\u003c/td\u003e\n      \u003ctd\u003e17718921.00\u003c/td\u003e\n      \u003ctd\u003e75020\u003c/td\u003e\n      \u003ctd\u003e46.352000\u003c/td\u003e\n      \u003ctd\u003e1854.08\u003c/td\u003e\n      \u003ctd\u003e9651.136836\u003c/td\u003e\n      \u003ctd\u003e2.400000\u003c/td\u003e\n      \u003ctd\u003e3.955744\u003c/td\u003e\n      \u003ctd\u003eE\u003c/td\u003e\n      \u003ctd\u003e48.8556577427,2.3964407424\u003c/td\u003e\n      \u003ctd\u003e{\"type\": \"Polygon\", \"coordinates\": [[[2.396180...\u003c/td\u003e\n      \u003ctd\u003eParis 20e Arrondissement\u003c/td\u003e\n      \u003ctd\u003eCharonne 26\u003c/td\u003e\n      \u003ctd\u003eH\u003c/td\u003e\n      \u003ctd\u003e40\u003c/td\u003e\n      \u003ctd\u003e9830.089462\u003c/td\u003e\n      \u003ctd\u003e-1.820458\u003c/td\u003e\n      \u003ctd\u003eNaN\u003c/td\u003e\n      \u003ctd\u003eNaN\u003c/td\u003e\n      \u003ctd\u003eNaN\u003c/td\u003e\n    \u003c/tr\u003e\n    \u003ctr\u003e\n      \u003cth\u003e7121\u003c/th\u003e\n      \u003ctd\u003e751208026\u003c/td\u003e\n      \u003ctd\u003e2021\u003c/td\u003e\n      \u003ctd\u003e409541.435000\u003c/td\u003e\n      \u003ctd\u003e14743491.66\u003c/td\u003e\n      \u003ctd\u003e75020\u003c/td\u003e\n      \u003ctd\u003e41.630000\u003c/td\u003e\n      \u003ctd\u003e1498.68\u003c/td\u003e\n      \u003ctd\u003e9775.481507\u003c/td\u003e\n      \u003ctd\u003e2.000000\u003c/td\u003e\n      \u003ctd\u003e3.957471\u003c/td\u003e\n      \u003ctd\u003eE\u003c/td\u003e\n      \u003ctd\u003e48.8556577427,2.3964407424\u003c/td\u003e\n      \u003ctd\u003e{\"type\": \"Polygon\", \"coordinates\": [[[2.396180...\u003c/td\u003e\n      \u003ctd\u003eParis 20e Arrondissement\u003c/td\u003e\n      \u003ctd\u003eCharonne 26\u003c/td\u003e\n      \u003ctd\u003eH\u003c/td\u003e\n      \u003ctd\u003e36\u003c/td\u003e\n      \u003ctd\u003e9651.136836\u003c/td\u003e\n      \u003ctd\u003e1.288394\u003c/td\u003e\n      \u003ctd\u003e7472.037867\u003c/td\u003e\n      \u003ctd\u003e3.913339\u003c/td\u003e\n      \u003ctd\u003e30.827516\u003c/td\u003e\n    \u003c/tr\u003e\n  \u003c/tbody\u003e\n\u003c/table\u003e\n\u003cp\u003e7122 rows × 22 columns\u003c/p\u003e\n\u003c/div\u003e"
          },
          "metadata": {}
        }
      ]
    },
    {
      "execution_count": 27,
      "cell_type": "code",
      "metadata": {},
      "source": [
        "import plotly.graph_objects as go\nfrom plotly.subplots import make_subplots\n\ndf_filtered \u003d df[df[\u0027iris_code\u0027]\u003d\u003d751093503]\n\niris_code_name \u003d df_filtered.iloc[0][\u0027NOM_IRIS_first\u0027]\n\n# Create figure with secondary y-axis\nfig \u003d make_subplots(specs\u003d[[{\"secondary_y\": True}]])\n\nfig.add_trace(\n    go.Scatter(\n        x\u003ddf_filtered[\u0027date_mutation_year\u0027],\n        y\u003ddf_filtered[\u0027count\u0027],\n        name\u003d\"Transactions count\",\n        marker \u003d {\u0027color\u0027 : \u0027#FF585D\u0027},\n    ),\n    secondary_y\u003dTrue,\n)\n\nfig.add_trace(\n    go.Bar(\n        x\u003ddf_filtered[\u0027date_mutation_year\u0027],\n        y\u003ddf_filtered[\u0027prix_m2_not_null_avg\u0027],\n        name\u003d\"Average m2 price\",\n        marker \u003d {\u0027color\u0027 : \u0027#00B2A9\u0027},\n    ),\n    secondary_y\u003dFalse,\n)\n\n# Add figure title\nfig.update_layout(\n    title_text\u003d\"Transactions count and Average m2 price evolution in zone \u003cb\u003e\"+iris_code_name+\"\u003c/b\u003e\"\n)\n\n# Set x-axis title\nfig.update_xaxes(title_text\u003d\"Year\")\n\n# Set y-axes titles\nfig.update_yaxes(title_text\u003d\"Average m2 price\", secondary_y\u003dFalse)\nfig.update_yaxes(title_text\u003d\"Transactions count\", secondary_y\u003dTrue)\n\nfig.show()"
      ],
      "outputs": [
        {
          "output_type": "display_data",
          "data": {
            "application/vnd.plotly.v1+json": {
              "data": [
                {
                  "marker": {
                    "color": "#FF585D"
                  },
                  "name": "Transactions count",
                  "x": [
                    2014,
                    2015,
                    2016,
                    2017,
                    2018,
                    2019,
                    2020,
                    2021
                  ],
                  "y": [
                    46,
                    73,
                    40,
                    93,
                    78,
                    75,
                    61,
                    76
                  ],
                  "type": "scatter",
                  "xaxis": "x",
                  "yaxis": "y2"
                },
                {
                  "marker": {
                    "color": "#00B2A9"
                  },
                  "name": "Average m2 price",
                  "x": [
                    2014,
                    2015,
                    2016,
                    2017,
                    2018,
                    2019,
                    2020,
                    2021
                  ],
                  "y": [
                    8326.375709661934,
                    8464.579243298056,
                    9417.016862036231,
                    9613.87658940506,
                    10180.40444581132,
                    10807.316714245788,
                    11650.955715338145,
                    11152.467965264741
                  ],
                  "type": "bar",
                  "xaxis": "x",
                  "yaxis": "y"
                }
              ],
              "layout": {
                "template": {
                  "data": {
                    "histogram2dcontour": [
                      {
                        "type": "histogram2dcontour",
                        "colorbar": {
                          "outlinewidth": 0,
                          "ticks": ""
                        },
                        "colorscale": [
                          [
                            0,
                            "#0d0887"
                          ],
                          [
                            0.1111111111111111,
                            "#46039f"
                          ],
                          [
                            0.2222222222222222,
                            "#7201a8"
                          ],
                          [
                            0.3333333333333333,
                            "#9c179e"
                          ],
                          [
                            0.4444444444444444,
                            "#bd3786"
                          ],
                          [
                            0.5555555555555556,
                            "#d8576b"
                          ],
                          [
                            0.6666666666666666,
                            "#ed7953"
                          ],
                          [
                            0.7777777777777778,
                            "#fb9f3a"
                          ],
                          [
                            0.8888888888888888,
                            "#fdca26"
                          ],
                          [
                            1,
                            "#f0f921"
                          ]
                        ]
                      }
                    ],
                    "choropleth": [
                      {
                        "type": "choropleth",
                        "colorbar": {
                          "outlinewidth": 0,
                          "ticks": ""
                        }
                      }
                    ],
                    "histogram2d": [
                      {
                        "type": "histogram2d",
                        "colorbar": {
                          "outlinewidth": 0,
                          "ticks": ""
                        },
                        "colorscale": [
                          [
                            0,
                            "#0d0887"
                          ],
                          [
                            0.1111111111111111,
                            "#46039f"
                          ],
                          [
                            0.2222222222222222,
                            "#7201a8"
                          ],
                          [
                            0.3333333333333333,
                            "#9c179e"
                          ],
                          [
                            0.4444444444444444,
                            "#bd3786"
                          ],
                          [
                            0.5555555555555556,
                            "#d8576b"
                          ],
                          [
                            0.6666666666666666,
                            "#ed7953"
                          ],
                          [
                            0.7777777777777778,
                            "#fb9f3a"
                          ],
                          [
                            0.8888888888888888,
                            "#fdca26"
                          ],
                          [
                            1,
                            "#f0f921"
                          ]
                        ]
                      }
                    ],
                    "heatmap": [
                      {
                        "type": "heatmap",
                        "colorbar": {
                          "outlinewidth": 0,
                          "ticks": ""
                        },
                        "colorscale": [
                          [
                            0,
                            "#0d0887"
                          ],
                          [
                            0.1111111111111111,
                            "#46039f"
                          ],
                          [
                            0.2222222222222222,
                            "#7201a8"
                          ],
                          [
                            0.3333333333333333,
                            "#9c179e"
                          ],
                          [
                            0.4444444444444444,
                            "#bd3786"
                          ],
                          [
                            0.5555555555555556,
                            "#d8576b"
                          ],
                          [
                            0.6666666666666666,
                            "#ed7953"
                          ],
                          [
                            0.7777777777777778,
                            "#fb9f3a"
                          ],
                          [
                            0.8888888888888888,
                            "#fdca26"
                          ],
                          [
                            1,
                            "#f0f921"
                          ]
                        ]
                      }
                    ],
                    "heatmapgl": [
                      {
                        "type": "heatmapgl",
                        "colorbar": {
                          "outlinewidth": 0,
                          "ticks": ""
                        },
                        "colorscale": [
                          [
                            0,
                            "#0d0887"
                          ],
                          [
                            0.1111111111111111,
                            "#46039f"
                          ],
                          [
                            0.2222222222222222,
                            "#7201a8"
                          ],
                          [
                            0.3333333333333333,
                            "#9c179e"
                          ],
                          [
                            0.4444444444444444,
                            "#bd3786"
                          ],
                          [
                            0.5555555555555556,
                            "#d8576b"
                          ],
                          [
                            0.6666666666666666,
                            "#ed7953"
                          ],
                          [
                            0.7777777777777778,
                            "#fb9f3a"
                          ],
                          [
                            0.8888888888888888,
                            "#fdca26"
                          ],
                          [
                            1,
                            "#f0f921"
                          ]
                        ]
                      }
                    ],
                    "contourcarpet": [
                      {
                        "type": "contourcarpet",
                        "colorbar": {
                          "outlinewidth": 0,
                          "ticks": ""
                        }
                      }
                    ],
                    "contour": [
                      {
                        "type": "contour",
                        "colorbar": {
                          "outlinewidth": 0,
                          "ticks": ""
                        },
                        "colorscale": [
                          [
                            0,
                            "#0d0887"
                          ],
                          [
                            0.1111111111111111,
                            "#46039f"
                          ],
                          [
                            0.2222222222222222,
                            "#7201a8"
                          ],
                          [
                            0.3333333333333333,
                            "#9c179e"
                          ],
                          [
                            0.4444444444444444,
                            "#bd3786"
                          ],
                          [
                            0.5555555555555556,
                            "#d8576b"
                          ],
                          [
                            0.6666666666666666,
                            "#ed7953"
                          ],
                          [
                            0.7777777777777778,
                            "#fb9f3a"
                          ],
                          [
                            0.8888888888888888,
                            "#fdca26"
                          ],
                          [
                            1,
                            "#f0f921"
                          ]
                        ]
                      }
                    ],
                    "surface": [
                      {
                        "type": "surface",
                        "colorbar": {
                          "outlinewidth": 0,
                          "ticks": ""
                        },
                        "colorscale": [
                          [
                            0,
                            "#0d0887"
                          ],
                          [
                            0.1111111111111111,
                            "#46039f"
                          ],
                          [
                            0.2222222222222222,
                            "#7201a8"
                          ],
                          [
                            0.3333333333333333,
                            "#9c179e"
                          ],
                          [
                            0.4444444444444444,
                            "#bd3786"
                          ],
                          [
                            0.5555555555555556,
                            "#d8576b"
                          ],
                          [
                            0.6666666666666666,
                            "#ed7953"
                          ],
                          [
                            0.7777777777777778,
                            "#fb9f3a"
                          ],
                          [
                            0.8888888888888888,
                            "#fdca26"
                          ],
                          [
                            1,
                            "#f0f921"
                          ]
                        ]
                      }
                    ],
                    "mesh3d": [
                      {
                        "type": "mesh3d",
                        "colorbar": {
                          "outlinewidth": 0,
                          "ticks": ""
                        }
                      }
                    ],
                    "scatter": [
                      {
                        "fillpattern": {
                          "fillmode": "overlay",
                          "size": 10,
                          "solidity": 0.2
                        },
                        "type": "scatter"
                      }
                    ],
                    "parcoords": [
                      {
                        "type": "parcoords",
                        "line": {
                          "colorbar": {
                            "outlinewidth": 0,
                            "ticks": ""
                          }
                        }
                      }
                    ],
                    "scatterpolargl": [
                      {
                        "type": "scatterpolargl",
                        "marker": {
                          "colorbar": {
                            "outlinewidth": 0,
                            "ticks": ""
                          }
                        }
                      }
                    ],
                    "bar": [
                      {
                        "error_x": {
                          "color": "#2a3f5f"
                        },
                        "error_y": {
                          "color": "#2a3f5f"
                        },
                        "marker": {
                          "line": {
                            "color": "#E5ECF6",
                            "width": 0.5
                          },
                          "pattern": {
                            "fillmode": "overlay",
                            "size": 10,
                            "solidity": 0.2
                          }
                        },
                        "type": "bar"
                      }
                    ],
                    "scattergeo": [
                      {
                        "type": "scattergeo",
                        "marker": {
                          "colorbar": {
                            "outlinewidth": 0,
                            "ticks": ""
                          }
                        }
                      }
                    ],
                    "scatterpolar": [
                      {
                        "type": "scatterpolar",
                        "marker": {
                          "colorbar": {
                            "outlinewidth": 0,
                            "ticks": ""
                          }
                        }
                      }
                    ],
                    "histogram": [
                      {
                        "marker": {
                          "pattern": {
                            "fillmode": "overlay",
                            "size": 10,
                            "solidity": 0.2
                          }
                        },
                        "type": "histogram"
                      }
                    ],
                    "scattergl": [
                      {
                        "type": "scattergl",
                        "marker": {
                          "colorbar": {
                            "outlinewidth": 0,
                            "ticks": ""
                          }
                        }
                      }
                    ],
                    "scatter3d": [
                      {
                        "type": "scatter3d",
                        "line": {
                          "colorbar": {
                            "outlinewidth": 0,
                            "ticks": ""
                          }
                        },
                        "marker": {
                          "colorbar": {
                            "outlinewidth": 0,
                            "ticks": ""
                          }
                        }
                      }
                    ],
                    "scattermapbox": [
                      {
                        "type": "scattermapbox",
                        "marker": {
                          "colorbar": {
                            "outlinewidth": 0,
                            "ticks": ""
                          }
                        }
                      }
                    ],
                    "scatterternary": [
                      {
                        "type": "scatterternary",
                        "marker": {
                          "colorbar": {
                            "outlinewidth": 0,
                            "ticks": ""
                          }
                        }
                      }
                    ],
                    "scattercarpet": [
                      {
                        "type": "scattercarpet",
                        "marker": {
                          "colorbar": {
                            "outlinewidth": 0,
                            "ticks": ""
                          }
                        }
                      }
                    ],
                    "carpet": [
                      {
                        "aaxis": {
                          "endlinecolor": "#2a3f5f",
                          "gridcolor": "white",
                          "linecolor": "white",
                          "minorgridcolor": "white",
                          "startlinecolor": "#2a3f5f"
                        },
                        "baxis": {
                          "endlinecolor": "#2a3f5f",
                          "gridcolor": "white",
                          "linecolor": "white",
                          "minorgridcolor": "white",
                          "startlinecolor": "#2a3f5f"
                        },
                        "type": "carpet"
                      }
                    ],
                    "table": [
                      {
                        "cells": {
                          "fill": {
                            "color": "#EBF0F8"
                          },
                          "line": {
                            "color": "white"
                          }
                        },
                        "header": {
                          "fill": {
                            "color": "#C8D4E3"
                          },
                          "line": {
                            "color": "white"
                          }
                        },
                        "type": "table"
                      }
                    ],
                    "barpolar": [
                      {
                        "marker": {
                          "line": {
                            "color": "#E5ECF6",
                            "width": 0.5
                          },
                          "pattern": {
                            "fillmode": "overlay",
                            "size": 10,
                            "solidity": 0.2
                          }
                        },
                        "type": "barpolar"
                      }
                    ],
                    "pie": [
                      {
                        "automargin": true,
                        "type": "pie"
                      }
                    ]
                  },
                  "layout": {
                    "autotypenumbers": "strict",
                    "colorway": [
                      "#636efa",
                      "#EF553B",
                      "#00cc96",
                      "#ab63fa",
                      "#FFA15A",
                      "#19d3f3",
                      "#FF6692",
                      "#B6E880",
                      "#FF97FF",
                      "#FECB52"
                    ],
                    "font": {
                      "color": "#2a3f5f"
                    },
                    "hovermode": "closest",
                    "hoverlabel": {
                      "align": "left"
                    },
                    "paper_bgcolor": "white",
                    "plot_bgcolor": "#E5ECF6",
                    "polar": {
                      "bgcolor": "#E5ECF6",
                      "angularaxis": {
                        "gridcolor": "white",
                        "linecolor": "white",
                        "ticks": ""
                      },
                      "radialaxis": {
                        "gridcolor": "white",
                        "linecolor": "white",
                        "ticks": ""
                      }
                    },
                    "ternary": {
                      "bgcolor": "#E5ECF6",
                      "aaxis": {
                        "gridcolor": "white",
                        "linecolor": "white",
                        "ticks": ""
                      },
                      "baxis": {
                        "gridcolor": "white",
                        "linecolor": "white",
                        "ticks": ""
                      },
                      "caxis": {
                        "gridcolor": "white",
                        "linecolor": "white",
                        "ticks": ""
                      }
                    },
                    "coloraxis": {
                      "colorbar": {
                        "outlinewidth": 0,
                        "ticks": ""
                      }
                    },
                    "colorscale": {
                      "sequential": [
                        [
                          0,
                          "#0d0887"
                        ],
                        [
                          0.1111111111111111,
                          "#46039f"
                        ],
                        [
                          0.2222222222222222,
                          "#7201a8"
                        ],
                        [
                          0.3333333333333333,
                          "#9c179e"
                        ],
                        [
                          0.4444444444444444,
                          "#bd3786"
                        ],
                        [
                          0.5555555555555556,
                          "#d8576b"
                        ],
                        [
                          0.6666666666666666,
                          "#ed7953"
                        ],
                        [
                          0.7777777777777778,
                          "#fb9f3a"
                        ],
                        [
                          0.8888888888888888,
                          "#fdca26"
                        ],
                        [
                          1,
                          "#f0f921"
                        ]
                      ],
                      "sequentialminus": [
                        [
                          0,
                          "#0d0887"
                        ],
                        [
                          0.1111111111111111,
                          "#46039f"
                        ],
                        [
                          0.2222222222222222,
                          "#7201a8"
                        ],
                        [
                          0.3333333333333333,
                          "#9c179e"
                        ],
                        [
                          0.4444444444444444,
                          "#bd3786"
                        ],
                        [
                          0.5555555555555556,
                          "#d8576b"
                        ],
                        [
                          0.6666666666666666,
                          "#ed7953"
                        ],
                        [
                          0.7777777777777778,
                          "#fb9f3a"
                        ],
                        [
                          0.8888888888888888,
                          "#fdca26"
                        ],
                        [
                          1,
                          "#f0f921"
                        ]
                      ],
                      "diverging": [
                        [
                          0,
                          "#8e0152"
                        ],
                        [
                          0.1,
                          "#c51b7d"
                        ],
                        [
                          0.2,
                          "#de77ae"
                        ],
                        [
                          0.3,
                          "#f1b6da"
                        ],
                        [
                          0.4,
                          "#fde0ef"
                        ],
                        [
                          0.5,
                          "#f7f7f7"
                        ],
                        [
                          0.6,
                          "#e6f5d0"
                        ],
                        [
                          0.7,
                          "#b8e186"
                        ],
                        [
                          0.8,
                          "#7fbc41"
                        ],
                        [
                          0.9,
                          "#4d9221"
                        ],
                        [
                          1,
                          "#276419"
                        ]
                      ]
                    },
                    "xaxis": {
                      "gridcolor": "white",
                      "linecolor": "white",
                      "ticks": "",
                      "title": {
                        "standoff": 15
                      },
                      "zerolinecolor": "white",
                      "automargin": true,
                      "zerolinewidth": 2
                    },
                    "yaxis": {
                      "gridcolor": "white",
                      "linecolor": "white",
                      "ticks": "",
                      "title": {
                        "standoff": 15
                      },
                      "zerolinecolor": "white",
                      "automargin": true,
                      "zerolinewidth": 2
                    },
                    "scene": {
                      "xaxis": {
                        "backgroundcolor": "#E5ECF6",
                        "gridcolor": "white",
                        "linecolor": "white",
                        "showbackground": true,
                        "ticks": "",
                        "zerolinecolor": "white",
                        "gridwidth": 2
                      },
                      "yaxis": {
                        "backgroundcolor": "#E5ECF6",
                        "gridcolor": "white",
                        "linecolor": "white",
                        "showbackground": true,
                        "ticks": "",
                        "zerolinecolor": "white",
                        "gridwidth": 2
                      },
                      "zaxis": {
                        "backgroundcolor": "#E5ECF6",
                        "gridcolor": "white",
                        "linecolor": "white",
                        "showbackground": true,
                        "ticks": "",
                        "zerolinecolor": "white",
                        "gridwidth": 2
                      }
                    },
                    "shapedefaults": {
                      "line": {
                        "color": "#2a3f5f"
                      }
                    },
                    "annotationdefaults": {
                      "arrowcolor": "#2a3f5f",
                      "arrowhead": 0,
                      "arrowwidth": 1
                    },
                    "geo": {
                      "bgcolor": "white",
                      "landcolor": "#E5ECF6",
                      "subunitcolor": "white",
                      "showland": true,
                      "showlakes": true,
                      "lakecolor": "white"
                    },
                    "title": {
                      "x": 0.05
                    },
                    "mapbox": {
                      "style": "light"
                    }
                  }
                },
                "xaxis": {
                  "anchor": "y",
                  "domain": [
                    0,
                    0.94
                  ],
                  "title": {
                    "text": "Year"
                  }
                },
                "yaxis": {
                  "anchor": "x",
                  "domain": [
                    0,
                    1
                  ],
                  "title": {
                    "text": "Average m2 price"
                  }
                },
                "yaxis2": {
                  "anchor": "x",
                  "overlaying": "y",
                  "side": "right",
                  "title": {
                    "text": "Transactions count"
                  }
                },
                "title": {
                  "text": "Transactions count and Average m2 price evolution in zone \u003cb\u003eFaubourg Montmartre 3\u003c/b\u003e"
                }
              },
              "config": {
                "plotlyServerURL": "https://plot.ly"
              }
            },
            "text/html": "\u003cdiv\u003e                            \u003cdiv id\u003d\"c9871efe-5d85-4b02-acdd-1d6f41fb06dd\" class\u003d\"plotly-graph-div\" style\u003d\"height:525px; width:100%;\"\u003e\u003c/div\u003e            \u003cscript type\u003d\"text/javascript\"\u003e                require([\"plotly\"], function(Plotly) {                    window.PLOTLYENV\u003dwindow.PLOTLYENV || {};                                    if (document.getElementById(\"c9871efe-5d85-4b02-acdd-1d6f41fb06dd\")) {                    Plotly.newPlot(                        \"c9871efe-5d85-4b02-acdd-1d6f41fb06dd\",                        [{\"marker\":{\"color\":\"#FF585D\"},\"name\":\"Transactions count\",\"x\":[2014,2015,2016,2017,2018,2019,2020,2021],\"y\":[46,73,40,93,78,75,61,76],\"type\":\"scatter\",\"xaxis\":\"x\",\"yaxis\":\"y2\"},{\"marker\":{\"color\":\"#00B2A9\"},\"name\":\"Average m2 price\",\"x\":[2014,2015,2016,2017,2018,2019,2020,2021],\"y\":[8326.375709661934,8464.579243298056,9417.016862036231,9613.87658940506,10180.40444581132,10807.316714245788,11650.955715338145,11152.467965264741],\"type\":\"bar\",\"xaxis\":\"x\",\"yaxis\":\"y\"}],                        {\"template\":{\"data\":{\"histogram2dcontour\":[{\"type\":\"histogram2dcontour\",\"colorbar\":{\"outlinewidth\":0,\"ticks\":\"\"},\"colorscale\":[[0.0,\"#0d0887\"],[0.1111111111111111,\"#46039f\"],[0.2222222222222222,\"#7201a8\"],[0.3333333333333333,\"#9c179e\"],[0.4444444444444444,\"#bd3786\"],[0.5555555555555556,\"#d8576b\"],[0.6666666666666666,\"#ed7953\"],[0.7777777777777778,\"#fb9f3a\"],[0.8888888888888888,\"#fdca26\"],[1.0,\"#f0f921\"]]}],\"choropleth\":[{\"type\":\"choropleth\",\"colorbar\":{\"outlinewidth\":0,\"ticks\":\"\"}}],\"histogram2d\":[{\"type\":\"histogram2d\",\"colorbar\":{\"outlinewidth\":0,\"ticks\":\"\"},\"colorscale\":[[0.0,\"#0d0887\"],[0.1111111111111111,\"#46039f\"],[0.2222222222222222,\"#7201a8\"],[0.3333333333333333,\"#9c179e\"],[0.4444444444444444,\"#bd3786\"],[0.5555555555555556,\"#d8576b\"],[0.6666666666666666,\"#ed7953\"],[0.7777777777777778,\"#fb9f3a\"],[0.8888888888888888,\"#fdca26\"],[1.0,\"#f0f921\"]]}],\"heatmap\":[{\"type\":\"heatmap\",\"colorbar\":{\"outlinewidth\":0,\"ticks\":\"\"},\"colorscale\":[[0.0,\"#0d0887\"],[0.1111111111111111,\"#46039f\"],[0.2222222222222222,\"#7201a8\"],[0.3333333333333333,\"#9c179e\"],[0.4444444444444444,\"#bd3786\"],[0.5555555555555556,\"#d8576b\"],[0.6666666666666666,\"#ed7953\"],[0.7777777777777778,\"#fb9f3a\"],[0.8888888888888888,\"#fdca26\"],[1.0,\"#f0f921\"]]}],\"heatmapgl\":[{\"type\":\"heatmapgl\",\"colorbar\":{\"outlinewidth\":0,\"ticks\":\"\"},\"colorscale\":[[0.0,\"#0d0887\"],[0.1111111111111111,\"#46039f\"],[0.2222222222222222,\"#7201a8\"],[0.3333333333333333,\"#9c179e\"],[0.4444444444444444,\"#bd3786\"],[0.5555555555555556,\"#d8576b\"],[0.6666666666666666,\"#ed7953\"],[0.7777777777777778,\"#fb9f3a\"],[0.8888888888888888,\"#fdca26\"],[1.0,\"#f0f921\"]]}],\"contourcarpet\":[{\"type\":\"contourcarpet\",\"colorbar\":{\"outlinewidth\":0,\"ticks\":\"\"}}],\"contour\":[{\"type\":\"contour\",\"colorbar\":{\"outlinewidth\":0,\"ticks\":\"\"},\"colorscale\":[[0.0,\"#0d0887\"],[0.1111111111111111,\"#46039f\"],[0.2222222222222222,\"#7201a8\"],[0.3333333333333333,\"#9c179e\"],[0.4444444444444444,\"#bd3786\"],[0.5555555555555556,\"#d8576b\"],[0.6666666666666666,\"#ed7953\"],[0.7777777777777778,\"#fb9f3a\"],[0.8888888888888888,\"#fdca26\"],[1.0,\"#f0f921\"]]}],\"surface\":[{\"type\":\"surface\",\"colorbar\":{\"outlinewidth\":0,\"ticks\":\"\"},\"colorscale\":[[0.0,\"#0d0887\"],[0.1111111111111111,\"#46039f\"],[0.2222222222222222,\"#7201a8\"],[0.3333333333333333,\"#9c179e\"],[0.4444444444444444,\"#bd3786\"],[0.5555555555555556,\"#d8576b\"],[0.6666666666666666,\"#ed7953\"],[0.7777777777777778,\"#fb9f3a\"],[0.8888888888888888,\"#fdca26\"],[1.0,\"#f0f921\"]]}],\"mesh3d\":[{\"type\":\"mesh3d\",\"colorbar\":{\"outlinewidth\":0,\"ticks\":\"\"}}],\"scatter\":[{\"fillpattern\":{\"fillmode\":\"overlay\",\"size\":10,\"solidity\":0.2},\"type\":\"scatter\"}],\"parcoords\":[{\"type\":\"parcoords\",\"line\":{\"colorbar\":{\"outlinewidth\":0,\"ticks\":\"\"}}}],\"scatterpolargl\":[{\"type\":\"scatterpolargl\",\"marker\":{\"colorbar\":{\"outlinewidth\":0,\"ticks\":\"\"}}}],\"bar\":[{\"error_x\":{\"color\":\"#2a3f5f\"},\"error_y\":{\"color\":\"#2a3f5f\"},\"marker\":{\"line\":{\"color\":\"#E5ECF6\",\"width\":0.5},\"pattern\":{\"fillmode\":\"overlay\",\"size\":10,\"solidity\":0.2}},\"type\":\"bar\"}],\"scattergeo\":[{\"type\":\"scattergeo\",\"marker\":{\"colorbar\":{\"outlinewidth\":0,\"ticks\":\"\"}}}],\"scatterpolar\":[{\"type\":\"scatterpolar\",\"marker\":{\"colorbar\":{\"outlinewidth\":0,\"ticks\":\"\"}}}],\"histogram\":[{\"marker\":{\"pattern\":{\"fillmode\":\"overlay\",\"size\":10,\"solidity\":0.2}},\"type\":\"histogram\"}],\"scattergl\":[{\"type\":\"scattergl\",\"marker\":{\"colorbar\":{\"outlinewidth\":0,\"ticks\":\"\"}}}],\"scatter3d\":[{\"type\":\"scatter3d\",\"line\":{\"colorbar\":{\"outlinewidth\":0,\"ticks\":\"\"}},\"marker\":{\"colorbar\":{\"outlinewidth\":0,\"ticks\":\"\"}}}],\"scattermapbox\":[{\"type\":\"scattermapbox\",\"marker\":{\"colorbar\":{\"outlinewidth\":0,\"ticks\":\"\"}}}],\"scatterternary\":[{\"type\":\"scatterternary\",\"marker\":{\"colorbar\":{\"outlinewidth\":0,\"ticks\":\"\"}}}],\"scattercarpet\":[{\"type\":\"scattercarpet\",\"marker\":{\"colorbar\":{\"outlinewidth\":0,\"ticks\":\"\"}}}],\"carpet\":[{\"aaxis\":{\"endlinecolor\":\"#2a3f5f\",\"gridcolor\":\"white\",\"linecolor\":\"white\",\"minorgridcolor\":\"white\",\"startlinecolor\":\"#2a3f5f\"},\"baxis\":{\"endlinecolor\":\"#2a3f5f\",\"gridcolor\":\"white\",\"linecolor\":\"white\",\"minorgridcolor\":\"white\",\"startlinecolor\":\"#2a3f5f\"},\"type\":\"carpet\"}],\"table\":[{\"cells\":{\"fill\":{\"color\":\"#EBF0F8\"},\"line\":{\"color\":\"white\"}},\"header\":{\"fill\":{\"color\":\"#C8D4E3\"},\"line\":{\"color\":\"white\"}},\"type\":\"table\"}],\"barpolar\":[{\"marker\":{\"line\":{\"color\":\"#E5ECF6\",\"width\":0.5},\"pattern\":{\"fillmode\":\"overlay\",\"size\":10,\"solidity\":0.2}},\"type\":\"barpolar\"}],\"pie\":[{\"automargin\":true,\"type\":\"pie\"}]},\"layout\":{\"autotypenumbers\":\"strict\",\"colorway\":[\"#636efa\",\"#EF553B\",\"#00cc96\",\"#ab63fa\",\"#FFA15A\",\"#19d3f3\",\"#FF6692\",\"#B6E880\",\"#FF97FF\",\"#FECB52\"],\"font\":{\"color\":\"#2a3f5f\"},\"hovermode\":\"closest\",\"hoverlabel\":{\"align\":\"left\"},\"paper_bgcolor\":\"white\",\"plot_bgcolor\":\"#E5ECF6\",\"polar\":{\"bgcolor\":\"#E5ECF6\",\"angularaxis\":{\"gridcolor\":\"white\",\"linecolor\":\"white\",\"ticks\":\"\"},\"radialaxis\":{\"gridcolor\":\"white\",\"linecolor\":\"white\",\"ticks\":\"\"}},\"ternary\":{\"bgcolor\":\"#E5ECF6\",\"aaxis\":{\"gridcolor\":\"white\",\"linecolor\":\"white\",\"ticks\":\"\"},\"baxis\":{\"gridcolor\":\"white\",\"linecolor\":\"white\",\"ticks\":\"\"},\"caxis\":{\"gridcolor\":\"white\",\"linecolor\":\"white\",\"ticks\":\"\"}},\"coloraxis\":{\"colorbar\":{\"outlinewidth\":0,\"ticks\":\"\"}},\"colorscale\":{\"sequential\":[[0.0,\"#0d0887\"],[0.1111111111111111,\"#46039f\"],[0.2222222222222222,\"#7201a8\"],[0.3333333333333333,\"#9c179e\"],[0.4444444444444444,\"#bd3786\"],[0.5555555555555556,\"#d8576b\"],[0.6666666666666666,\"#ed7953\"],[0.7777777777777778,\"#fb9f3a\"],[0.8888888888888888,\"#fdca26\"],[1.0,\"#f0f921\"]],\"sequentialminus\":[[0.0,\"#0d0887\"],[0.1111111111111111,\"#46039f\"],[0.2222222222222222,\"#7201a8\"],[0.3333333333333333,\"#9c179e\"],[0.4444444444444444,\"#bd3786\"],[0.5555555555555556,\"#d8576b\"],[0.6666666666666666,\"#ed7953\"],[0.7777777777777778,\"#fb9f3a\"],[0.8888888888888888,\"#fdca26\"],[1.0,\"#f0f921\"]],\"diverging\":[[0,\"#8e0152\"],[0.1,\"#c51b7d\"],[0.2,\"#de77ae\"],[0.3,\"#f1b6da\"],[0.4,\"#fde0ef\"],[0.5,\"#f7f7f7\"],[0.6,\"#e6f5d0\"],[0.7,\"#b8e186\"],[0.8,\"#7fbc41\"],[0.9,\"#4d9221\"],[1,\"#276419\"]]},\"xaxis\":{\"gridcolor\":\"white\",\"linecolor\":\"white\",\"ticks\":\"\",\"title\":{\"standoff\":15},\"zerolinecolor\":\"white\",\"automargin\":true,\"zerolinewidth\":2},\"yaxis\":{\"gridcolor\":\"white\",\"linecolor\":\"white\",\"ticks\":\"\",\"title\":{\"standoff\":15},\"zerolinecolor\":\"white\",\"automargin\":true,\"zerolinewidth\":2},\"scene\":{\"xaxis\":{\"backgroundcolor\":\"#E5ECF6\",\"gridcolor\":\"white\",\"linecolor\":\"white\",\"showbackground\":true,\"ticks\":\"\",\"zerolinecolor\":\"white\",\"gridwidth\":2},\"yaxis\":{\"backgroundcolor\":\"#E5ECF6\",\"gridcolor\":\"white\",\"linecolor\":\"white\",\"showbackground\":true,\"ticks\":\"\",\"zerolinecolor\":\"white\",\"gridwidth\":2},\"zaxis\":{\"backgroundcolor\":\"#E5ECF6\",\"gridcolor\":\"white\",\"linecolor\":\"white\",\"showbackground\":true,\"ticks\":\"\",\"zerolinecolor\":\"white\",\"gridwidth\":2}},\"shapedefaults\":{\"line\":{\"color\":\"#2a3f5f\"}},\"annotationdefaults\":{\"arrowcolor\":\"#2a3f5f\",\"arrowhead\":0,\"arrowwidth\":1},\"geo\":{\"bgcolor\":\"white\",\"landcolor\":\"#E5ECF6\",\"subunitcolor\":\"white\",\"showland\":true,\"showlakes\":true,\"lakecolor\":\"white\"},\"title\":{\"x\":0.05},\"mapbox\":{\"style\":\"light\"}}},\"xaxis\":{\"anchor\":\"y\",\"domain\":[0.0,0.94],\"title\":{\"text\":\"Year\"}},\"yaxis\":{\"anchor\":\"x\",\"domain\":[0.0,1.0],\"title\":{\"text\":\"Average m2 price\"}},\"yaxis2\":{\"anchor\":\"x\",\"overlaying\":\"y\",\"side\":\"right\",\"title\":{\"text\":\"Transactions count\"}},\"title\":{\"text\":\"Transactions count and Average m2 price evolution in zone \u003cb\u003eFaubourg Montmartre 3\u003c/b\u003e\"}},                        {\"responsive\": true}                    ).then(function(){\n                            \nvar gd \u003d document.getElementById(\u0027c9871efe-5d85-4b02-acdd-1d6f41fb06dd\u0027);\nvar x \u003d new MutationObserver(function (mutations, observer) {{\n        var display \u003d window.getComputedStyle(gd).display;\n        if (!display || display \u003d\u003d\u003d \u0027none\u0027) {{\n            console.log([gd, \u0027removed!\u0027]);\n            Plotly.purge(gd);\n            observer.disconnect();\n        }}\n}});\n\n// Listen for the removal of the full notebook cells\nvar notebookContainer \u003d gd.closest(\u0027#notebook-container\u0027);\nif (notebookContainer) {{\n    x.observe(notebookContainer, {childList: true});\n}}\n\n// Listen for the clearing of the current output cell\nvar outputEl \u003d gd.closest(\u0027.output\u0027);\nif (outputEl) {{\n    x.observe(outputEl, {childList: true});\n}}\n\n                        })                };                });            \u003c/script\u003e        \u003c/div\u003e"
          },
          "metadata": {}
        }
      ]
    },
    {
      "execution_count": 22,
      "cell_type": "code",
      "metadata": {},
      "source": [
        "iris_code_name \u003d df_filtered.iloc[0][\u0027NOM_IRIS_first\u0027]"
      ],
      "outputs": []
    },
    {
      "execution_count": 16,
      "cell_type": "code",
      "metadata": {},
      "source": [
        "df_filtered \u003d df[df[\u0027iris_code\u0027]\u003d\u003d751093503]\n"
      ],
      "outputs": []
    },
    {
      "execution_count": 23,
      "cell_type": "code",
      "metadata": {},
      "source": [
        "iris_code_name"
      ],
      "outputs": [
        {
          "output_type": "execute_result",
          "execution_count": 23,
          "data": {
            "text/plain": "\u0027Faubourg Montmartre 3\u0027"
          },
          "metadata": {}
        }
      ]
    },
    {
      "execution_count": 0,
      "cell_type": "code",
      "metadata": {},
      "source": [
        ""
      ],
      "outputs": []
    }
  ]
}