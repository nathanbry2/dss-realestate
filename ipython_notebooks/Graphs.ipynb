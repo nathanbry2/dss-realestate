{
  "metadata": {
    "kernelspec": {
      "name": "py-dku-venv-webappnew",
      "display_name": "Python (env WebAppNew)",
      "language": "python"
    },
    "creator": "admin",
    "createdOn": 1658149277236,
    "tags": [],
    "customFields": {},
    "hide_input": false,
    "language_info": {
      "name": "python",
      "version": "3.7.13",
      "mimetype": "text/x-python",
      "codemirror_mode": {
        "name": "ipython",
        "version": 3
      },
      "pygments_lexer": "ipython3",
      "nbconvert_exporter": "python",
      "file_extension": ".py"
    },
    "modifiedBy": "admin"
  },
  "nbformat": 4,
  "nbformat_minor": 1,
  "cells": [
    {
      "execution_count": 2,
      "cell_type": "code",
      "metadata": {},
      "source": [
        "import dataiku\nfrom dataiku import pandasutils as pdu\nimport pandas as pd"
      ],
      "outputs": [
        {
          "output_type": "stream",
          "text": "/Users/nathanbry/Dataiku/dss-design/code-envs/python/WebAppNew/lib/python3.7/site-packages/pandas/compat/__init__.py:117: UserWarning: Could not import the lzma module. Your installed Python is incomplete. Attempting to use lzma compression will result in a RuntimeError.\n  warnings.warn(msg)\n",
          "name": "stderr"
        }
      ]
    },
    {
      "execution_count": 4,
      "cell_type": "code",
      "metadata": {},
      "source": [
        "# Example: load a DSS dataset as a Pandas dataframe\nmydataset \u003d dataiku.Dataset(\"transactions_by_iris_code_year_windows_prepared\")\ndf \u003d mydataset.get_dataframe()"
      ],
      "outputs": []
    },
    {
      "execution_count": 0,
      "cell_type": "code",
      "metadata": {},
      "source": [
        "import plotly.offline as pyo\nimport plotly.graph_objs as go\nimport pandas as pd\n\ndata \u003d [go.Bar(\n    x\u003ddf[\u0027NOC\u0027],  # NOC stands for National Olympic Committee\n    y\u003ddf[\u0027Total\u0027]\n)]\nlayout \u003d go.Layout(\n    title\u003d\u00272018 Winter Olympic Medals by Country\u0027\n)\nfig \u003d go.Figure(data\u003ddata, layout\u003dlayout)\npyo.plot(fig, filename\u003d\u0027bar1.html\u0027)"
      ],
      "outputs": []
    }
  ]
}