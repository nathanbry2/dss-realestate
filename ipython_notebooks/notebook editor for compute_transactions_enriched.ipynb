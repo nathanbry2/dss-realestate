{
  "metadata": {
    "kernelspec": {
      "name": "py-dku-venv-real_estate",
      "display_name": "Python (env real_estate)",
      "language": "python"
    },
    "associatedRecipe": "compute_transactions_enriched",
    "dkuGit": {
      "lastInteraction": 0
    },
    "creationTag": {
      "versionNumber": 0,
      "lastModifiedBy": {
        "login": "admin"
      },
      "lastModifiedOn": 1651159181110
    },
    "creator": "admin",
    "createdOn": 1651159181110,
    "tags": [
      "recipe-editor"
    ],
    "customFields": {},
    "hide_input": false,
    "language_info": {
      "name": "python",
      "version": "3.7.13",
      "mimetype": "text/x-python",
      "codemirror_mode": {
        "name": "ipython",
        "version": 3
      },
      "pygments_lexer": "ipython3",
      "nbconvert_exporter": "python",
      "file_extension": ".py"
    },
    "modifiedBy": "admin"
  },
  "nbformat": 4,
  "nbformat_minor": 1,
  "cells": [
    {
      "execution_count": 8,
      "cell_type": "code",
      "metadata": {},
      "source": [
        "# -*- coding: utf-8 -*-\nimport dataiku\nimport pandas as pd, numpy as np\nfrom dataiku import pandasutils as pdu\nfrom geoloc_functions import distance_to_centre, direction_from_centre\nfrom openlocationcode import openlocationcode as olc"
      ],
      "outputs": []
    },
    {
      "execution_count": 2,
      "cell_type": "code",
      "metadata": {},
      "source": [
        "# Read recipe inputs\nv75_2014_2021_transactions_partial_pluscode \u003d dataiku.Dataset(\"75_2014_2021_transactions_partial_pluscode\")\nv75_2014_2021_transactions_partial_pluscode_df \u003d v75_2014_2021_transactions_partial_pluscode.get_dataframe()\niris_75 \u003d dataiku.Dataset(\"iris_75\")\niris_75_df \u003d iris_75.get_dataframe()"
      ],
      "outputs": [
        {
          "output_type": "stream",
          "text": "/Users/nathanbry/Dataiku/dss-design/code-envs/python/real_estate/lib/python3.7/site-packages/pandas/core/indexes/base.py:395: DeprecationWarning: `np.bool` is a deprecated alias for the builtin `bool`. To silence this warning, use `bool` by itself. Doing this will not modify any behavior and is safe. If you specifically wanted the numpy scalar type, use `np.bool_` here.\nDeprecated in NumPy 1.20; for more details and guidance: https://numpy.org/devdocs/release/1.20.0-notes.html#deprecations\n  elif issubclass(data.dtype.type, np.bool) or is_bool_dtype(data):\n",
          "name": "stderr"
        }
      ]
    },
    {
      "execution_count": 3,
      "cell_type": "code",
      "metadata": {},
      "source": [
        "v75_2014_2021_transactions_partial_pluscode_df[\u0027distance_to_centre\u0027]\u003d distance_to_centre(v75_2014_2021_transactions_partial_pluscode_df[\u0027latitude\u0027],v75_2014_2021_transactions_partial_pluscode_df[\u0027longitude\u0027])"
      ],
      "outputs": []
    },
    {
      "execution_count": 4,
      "cell_type": "code",
      "metadata": {},
      "source": [
        "v75_2014_2021_transactions_partial_pluscode_df[\u0027direction_from_centre\u0027] \u003d np.vectorize(direction_from_centre)(v75_2014_2021_transactions_partial_pluscode_df[\u0027longitude\u0027],v75_2014_2021_transactions_partial_pluscode_df[\u0027latitude\u0027])"
      ],
      "outputs": []
    },
    {
      "execution_count": 5,
      "cell_type": "code",
      "metadata": {},
      "source": [
        "v75_2014_2021_transactions_partial_pluscode_df"
      ],
      "outputs": [
        {
          "output_type": "execute_result",
          "execution_count": 5,
          "data": {
            "text/plain": "                   date_mutation  date_mutation_year  date_mutation_month  date_mutation_day  longitude   latitude   type_local  valeur_fonciere_avg  code_postal  lot1_surface_carrez_sum  surface_reelle_bati_sum  surface_m2_not_null  prix_m2_not_null  nombre_pieces_principales_sum  pluscode_16_first  distance_to_centre direction_from_centre\n0       2014-08-08T00:00:00.000Z                2014                    8                  8   2.380193  48.893677  Appartement            100948.00        75019                    17.78                     18.0                17.78       5677.615298                            1.0  8FW4V9VJ+F3G28XVR            4.974322                    NE\n1       2014-08-08T00:00:00.000Z                2014                    8                  8   2.380198  48.862748  Appartement            230000.00        75011                    28.96                     27.0                28.96       7941.988950                            2.0  8FW4V97J+33WVFVWR            2.851981                     E\n2       2014-08-08T00:00:00.000Z                2014                    8                  8   2.380353  48.863002  Appartement            460000.00        75011                    60.84                     62.0                60.84       7560.815253                            3.0  8FW4V97J+64536WXX            2.869965                     E\n3       2014-08-08T00:00:00.000Z                2014                    8                  8   2.382581  48.889237  Appartement            120000.00        75019                    14.90                     15.0                14.90       8053.691275                            1.0  8FW4V9QM+M2WGF354            4.679813                    NE\n4       2014-08-08T00:00:00.000Z                2014                    8                  8   2.385669  48.841869  Appartement            413716.46        75012                      NaN                     66.0                66.00       6268.431212                            3.0  8FW4R9RP+P7VMW423            3.560694                     E\n...                          ...                 ...                  ...                ...        ...        ...          ...                  ...          ...                      ...                      ...                  ...               ...                            ...                ...                 ...                   ...\n289481  2014-08-08T00:00:00.000Z                2014                    8                  8   2.370992  48.869570  Appartement            427500.00        75011                      NaN                     45.0                45.00       9500.000000                            3.0  8FW4V99C+R9HW5543            2.547685                    NE\n289482  2014-08-08T00:00:00.000Z                2014                    8                  8   2.371457  48.852254  Appartement            143000.00        75012                    13.68                     14.0                13.68      10453.216374                            1.0  8FW4V92C+WH44MXXW            2.178391                     E\n289483  2014-08-08T00:00:00.000Z                2014                    8                  8   2.373831  48.868441  Appartement            185000.00        75011                    20.04                     22.0                20.04       9231.536926                            2.0  8FW4V99F+9GGP3VXW            2.655914                    NE\n289484  2014-08-08T00:00:00.000Z                2014                    8                  8   2.374207  48.867977  Appartement            150000.00        75011                    30.83                     31.0                30.83       4865.390853                            1.0  8FW4V99F+5MW47XXW            2.654584                    NE\n289485  2014-08-08T00:00:00.000Z                2014                    8                  8   2.376713  48.883028  Appartement            455000.00        75019                    69.77                     71.0                69.77       6521.427548                            3.0  8FW4V9MG+6M85FRRX            3.874164                    NE\n\n[289486 rows x 17 columns]",
            "text/html": "\n            \u003cbutton style\u003d\"display:none\" \n            class\u003d\"btn btn-default ipython-export-btn\" \n            id\u003d\"btn-df-59e897fd-160e-41b8-b331-99ef7bb77202\" \n            onclick\u003d\"_export_df(\u002759e897fd-160e-41b8-b331-99ef7bb77202\u0027)\"\u003e\n                Export dataframe\n            \u003c/button\u003e\n            \n            \u003cscript\u003e\n                \n                function _check_export_df_possible(dfid,yes_fn,no_fn) {\n                    console.log(\u0027Checking dataframe exportability...\u0027)\n                    if(!IPython || !IPython.notebook || !IPython.notebook.kernel || !IPython.notebook.kernel) {\n                        console.log(\u0027Export is not possible (IPython kernel is not available)\u0027)\n                        if(no_fn) {\n                            no_fn();\n                        }\n                    } else {\n                        var pythonCode \u003d \u0027from dataiku.notebook.export import IPythonExporter;IPythonExporter._check_export_stdout(\"\u0027+dfid+\u0027\")\u0027;\n                        IPython.notebook.kernel.execute(pythonCode,{iopub: {output: function(resp) {\n                            console.info(\"Exportability response\", resp);\n                            var size \u003d /^([0-9]+)x([0-9]+)$/.exec(resp.content.data || resp.content.text)\n                            if(!size) {\n                                console.log(\u0027Export is not possible (dataframe is not in-memory anymore)\u0027)\n                                if(no_fn) {\n                                    no_fn();\n                                }\n                            } else {\n                                console.log(\u0027Export is possible\u0027)\n                                if(yes_fn) {\n                                    yes_fn(1*size[1],1*size[2]);\n                                }\n                            }\n                        }}});\n                    }\n                }\n            \n                function _export_df(dfid) {\n                    \n                    var btn \u003d $(\u0027#btn-df-\u0027+dfid);\n                    var btns \u003d $(\u0027.ipython-export-btn\u0027);\n                    \n                    _check_export_df_possible(dfid,function() {\n                        \n                        window.parent.openExportModalFromIPython(\u0027Pandas dataframe\u0027,function(data) {\n                            btns.prop(\u0027disabled\u0027,true);\n                            btn.text(\u0027Exporting...\u0027);\n                            var command \u003d \u0027from dataiku.notebook.export import IPythonExporter;IPythonExporter._run_export(\"\u0027+dfid+\u0027\",\"\u0027+data.exportId+\u0027\")\u0027;\n                            var callback \u003d {iopub:{output: function(resp) {\n                                console.info(\"CB resp:\", resp);\n                                _check_export_df_possible(dfid,function(rows, cols) {\n                                    $(\u0027#btn-df-\u0027+dfid)\n                                        .css(\u0027display\u0027,\u0027inline-block\u0027)\n                                        .text(\u0027Export this dataframe (\u0027+rows+\u0027 rows, \u0027+cols+\u0027 cols)\u0027)\n                                        .prop(\u0027disabled\u0027,false);\n                                },function() {\n                                    $(\u0027#btn-df-\u0027+dfid).css(\u0027display\u0027,\u0027none\u0027);\n                                });\n                            }}};\n                            IPython.notebook.kernel.execute(command,callback,{silent:false}); // yes, silent now defaults to true. figures.\n                        });\n                    \n                    }, function(){\n                            alert(\u0027Unable to export : the Dataframe object is not loaded in memory\u0027);\n                            btn.css(\u0027display\u0027,\u0027none\u0027);\n                    });\n                    \n                }\n                \n                (function(dfid) {\n                \n                    var retryCount \u003d 10;\n                \n                    function is_valid_websock(s) {\n                        return s \u0026\u0026 s.readyState\u003d\u003d1;\n                    }\n                \n                    function check_conn() {\n                        \n                        if(!IPython || !IPython.notebook) {\n                            // Don\u0027t even try to go further\n                            return;\n                        }\n                        \n                        // Check if IPython is ready\n                        console.info(\"Checking conn ...\")\n                        if(IPython.notebook.kernel\n                        \u0026\u0026 IPython.notebook.kernel\n                        \u0026\u0026 is_valid_websock(IPython.notebook.kernel.ws)\n                        ) {\n                            \n                            _check_export_df_possible(dfid,function(rows, cols) {\n                                $(\u0027#btn-df-\u0027+dfid).css(\u0027display\u0027,\u0027inline-block\u0027);\n                                $(\u0027#btn-df-\u0027+dfid).text(\u0027Export this dataframe (\u0027+rows+\u0027 rows, \u0027+cols+\u0027 cols)\u0027);\n                            });\n                            \n                        } else {\n                            console.info(\"Conditions are not ok\", IPython.notebook.kernel);\n                            \n                            // Retry later\n                            \n                            if(retryCount\u003e0) {\n                                setTimeout(check_conn,500);\n                                retryCount--;\n                            }\n                            \n                        }\n                    };\n                    \n                    setTimeout(check_conn,100);\n                    \n                })(\"59e897fd-160e-41b8-b331-99ef7bb77202\");\n                \n            \u003c/script\u003e\n            \n        \u003cdiv\u003e\n\u003cstyle scoped\u003e\n    .dataframe tbody tr th:only-of-type {\n        vertical-align: middle;\n    }\n\n    .dataframe tbody tr th {\n        vertical-align: top;\n    }\n\n    .dataframe thead th {\n        text-align: right;\n    }\n\u003c/style\u003e\n\u003ctable border\u003d\"1\" class\u003d\"dataframe\"\u003e\n  \u003cthead\u003e\n    \u003ctr style\u003d\"text-align: right;\"\u003e\n      \u003cth\u003e\u003c/th\u003e\n      \u003cth\u003edate_mutation\u003c/th\u003e\n      \u003cth\u003edate_mutation_year\u003c/th\u003e\n      \u003cth\u003edate_mutation_month\u003c/th\u003e\n      \u003cth\u003edate_mutation_day\u003c/th\u003e\n      \u003cth\u003elongitude\u003c/th\u003e\n      \u003cth\u003elatitude\u003c/th\u003e\n      \u003cth\u003etype_local\u003c/th\u003e\n      \u003cth\u003evaleur_fonciere_avg\u003c/th\u003e\n      \u003cth\u003ecode_postal\u003c/th\u003e\n      \u003cth\u003elot1_surface_carrez_sum\u003c/th\u003e\n      \u003cth\u003esurface_reelle_bati_sum\u003c/th\u003e\n      \u003cth\u003esurface_m2_not_null\u003c/th\u003e\n      \u003cth\u003eprix_m2_not_null\u003c/th\u003e\n      \u003cth\u003enombre_pieces_principales_sum\u003c/th\u003e\n      \u003cth\u003epluscode_16_first\u003c/th\u003e\n      \u003cth\u003edistance_to_centre\u003c/th\u003e\n      \u003cth\u003edirection_from_centre\u003c/th\u003e\n    \u003c/tr\u003e\n  \u003c/thead\u003e\n  \u003ctbody\u003e\n    \u003ctr\u003e\n      \u003cth\u003e0\u003c/th\u003e\n      \u003ctd\u003e2014-08-08T00:00:00.000Z\u003c/td\u003e\n      \u003ctd\u003e2014\u003c/td\u003e\n      \u003ctd\u003e8\u003c/td\u003e\n      \u003ctd\u003e8\u003c/td\u003e\n      \u003ctd\u003e2.380193\u003c/td\u003e\n      \u003ctd\u003e48.893677\u003c/td\u003e\n      \u003ctd\u003eAppartement\u003c/td\u003e\n      \u003ctd\u003e100948.00\u003c/td\u003e\n      \u003ctd\u003e75019\u003c/td\u003e\n      \u003ctd\u003e17.78\u003c/td\u003e\n      \u003ctd\u003e18.0\u003c/td\u003e\n      \u003ctd\u003e17.78\u003c/td\u003e\n      \u003ctd\u003e5677.615298\u003c/td\u003e\n      \u003ctd\u003e1.0\u003c/td\u003e\n      \u003ctd\u003e8FW4V9VJ+F3G28XVR\u003c/td\u003e\n      \u003ctd\u003e4.974322\u003c/td\u003e\n      \u003ctd\u003eNE\u003c/td\u003e\n    \u003c/tr\u003e\n    \u003ctr\u003e\n      \u003cth\u003e1\u003c/th\u003e\n      \u003ctd\u003e2014-08-08T00:00:00.000Z\u003c/td\u003e\n      \u003ctd\u003e2014\u003c/td\u003e\n      \u003ctd\u003e8\u003c/td\u003e\n      \u003ctd\u003e8\u003c/td\u003e\n      \u003ctd\u003e2.380198\u003c/td\u003e\n      \u003ctd\u003e48.862748\u003c/td\u003e\n      \u003ctd\u003eAppartement\u003c/td\u003e\n      \u003ctd\u003e230000.00\u003c/td\u003e\n      \u003ctd\u003e75011\u003c/td\u003e\n      \u003ctd\u003e28.96\u003c/td\u003e\n      \u003ctd\u003e27.0\u003c/td\u003e\n      \u003ctd\u003e28.96\u003c/td\u003e\n      \u003ctd\u003e7941.988950\u003c/td\u003e\n      \u003ctd\u003e2.0\u003c/td\u003e\n      \u003ctd\u003e8FW4V97J+33WVFVWR\u003c/td\u003e\n      \u003ctd\u003e2.851981\u003c/td\u003e\n      \u003ctd\u003eE\u003c/td\u003e\n    \u003c/tr\u003e\n    \u003ctr\u003e\n      \u003cth\u003e2\u003c/th\u003e\n      \u003ctd\u003e2014-08-08T00:00:00.000Z\u003c/td\u003e\n      \u003ctd\u003e2014\u003c/td\u003e\n      \u003ctd\u003e8\u003c/td\u003e\n      \u003ctd\u003e8\u003c/td\u003e\n      \u003ctd\u003e2.380353\u003c/td\u003e\n      \u003ctd\u003e48.863002\u003c/td\u003e\n      \u003ctd\u003eAppartement\u003c/td\u003e\n      \u003ctd\u003e460000.00\u003c/td\u003e\n      \u003ctd\u003e75011\u003c/td\u003e\n      \u003ctd\u003e60.84\u003c/td\u003e\n      \u003ctd\u003e62.0\u003c/td\u003e\n      \u003ctd\u003e60.84\u003c/td\u003e\n      \u003ctd\u003e7560.815253\u003c/td\u003e\n      \u003ctd\u003e3.0\u003c/td\u003e\n      \u003ctd\u003e8FW4V97J+64536WXX\u003c/td\u003e\n      \u003ctd\u003e2.869965\u003c/td\u003e\n      \u003ctd\u003eE\u003c/td\u003e\n    \u003c/tr\u003e\n    \u003ctr\u003e\n      \u003cth\u003e3\u003c/th\u003e\n      \u003ctd\u003e2014-08-08T00:00:00.000Z\u003c/td\u003e\n      \u003ctd\u003e2014\u003c/td\u003e\n      \u003ctd\u003e8\u003c/td\u003e\n      \u003ctd\u003e8\u003c/td\u003e\n      \u003ctd\u003e2.382581\u003c/td\u003e\n      \u003ctd\u003e48.889237\u003c/td\u003e\n      \u003ctd\u003eAppartement\u003c/td\u003e\n      \u003ctd\u003e120000.00\u003c/td\u003e\n      \u003ctd\u003e75019\u003c/td\u003e\n      \u003ctd\u003e14.90\u003c/td\u003e\n      \u003ctd\u003e15.0\u003c/td\u003e\n      \u003ctd\u003e14.90\u003c/td\u003e\n      \u003ctd\u003e8053.691275\u003c/td\u003e\n      \u003ctd\u003e1.0\u003c/td\u003e\n      \u003ctd\u003e8FW4V9QM+M2WGF354\u003c/td\u003e\n      \u003ctd\u003e4.679813\u003c/td\u003e\n      \u003ctd\u003eNE\u003c/td\u003e\n    \u003c/tr\u003e\n    \u003ctr\u003e\n      \u003cth\u003e4\u003c/th\u003e\n      \u003ctd\u003e2014-08-08T00:00:00.000Z\u003c/td\u003e\n      \u003ctd\u003e2014\u003c/td\u003e\n      \u003ctd\u003e8\u003c/td\u003e\n      \u003ctd\u003e8\u003c/td\u003e\n      \u003ctd\u003e2.385669\u003c/td\u003e\n      \u003ctd\u003e48.841869\u003c/td\u003e\n      \u003ctd\u003eAppartement\u003c/td\u003e\n      \u003ctd\u003e413716.46\u003c/td\u003e\n      \u003ctd\u003e75012\u003c/td\u003e\n      \u003ctd\u003eNaN\u003c/td\u003e\n      \u003ctd\u003e66.0\u003c/td\u003e\n      \u003ctd\u003e66.00\u003c/td\u003e\n      \u003ctd\u003e6268.431212\u003c/td\u003e\n      \u003ctd\u003e3.0\u003c/td\u003e\n      \u003ctd\u003e8FW4R9RP+P7VMW423\u003c/td\u003e\n      \u003ctd\u003e3.560694\u003c/td\u003e\n      \u003ctd\u003eE\u003c/td\u003e\n    \u003c/tr\u003e\n    \u003ctr\u003e\n      \u003cth\u003e...\u003c/th\u003e\n      \u003ctd\u003e...\u003c/td\u003e\n      \u003ctd\u003e...\u003c/td\u003e\n      \u003ctd\u003e...\u003c/td\u003e\n      \u003ctd\u003e...\u003c/td\u003e\n      \u003ctd\u003e...\u003c/td\u003e\n      \u003ctd\u003e...\u003c/td\u003e\n      \u003ctd\u003e...\u003c/td\u003e\n      \u003ctd\u003e...\u003c/td\u003e\n      \u003ctd\u003e...\u003c/td\u003e\n      \u003ctd\u003e...\u003c/td\u003e\n      \u003ctd\u003e...\u003c/td\u003e\n      \u003ctd\u003e...\u003c/td\u003e\n      \u003ctd\u003e...\u003c/td\u003e\n      \u003ctd\u003e...\u003c/td\u003e\n      \u003ctd\u003e...\u003c/td\u003e\n      \u003ctd\u003e...\u003c/td\u003e\n      \u003ctd\u003e...\u003c/td\u003e\n    \u003c/tr\u003e\n    \u003ctr\u003e\n      \u003cth\u003e289481\u003c/th\u003e\n      \u003ctd\u003e2014-08-08T00:00:00.000Z\u003c/td\u003e\n      \u003ctd\u003e2014\u003c/td\u003e\n      \u003ctd\u003e8\u003c/td\u003e\n      \u003ctd\u003e8\u003c/td\u003e\n      \u003ctd\u003e2.370992\u003c/td\u003e\n      \u003ctd\u003e48.869570\u003c/td\u003e\n      \u003ctd\u003eAppartement\u003c/td\u003e\n      \u003ctd\u003e427500.00\u003c/td\u003e\n      \u003ctd\u003e75011\u003c/td\u003e\n      \u003ctd\u003eNaN\u003c/td\u003e\n      \u003ctd\u003e45.0\u003c/td\u003e\n      \u003ctd\u003e45.00\u003c/td\u003e\n      \u003ctd\u003e9500.000000\u003c/td\u003e\n      \u003ctd\u003e3.0\u003c/td\u003e\n      \u003ctd\u003e8FW4V99C+R9HW5543\u003c/td\u003e\n      \u003ctd\u003e2.547685\u003c/td\u003e\n      \u003ctd\u003eNE\u003c/td\u003e\n    \u003c/tr\u003e\n    \u003ctr\u003e\n      \u003cth\u003e289482\u003c/th\u003e\n      \u003ctd\u003e2014-08-08T00:00:00.000Z\u003c/td\u003e\n      \u003ctd\u003e2014\u003c/td\u003e\n      \u003ctd\u003e8\u003c/td\u003e\n      \u003ctd\u003e8\u003c/td\u003e\n      \u003ctd\u003e2.371457\u003c/td\u003e\n      \u003ctd\u003e48.852254\u003c/td\u003e\n      \u003ctd\u003eAppartement\u003c/td\u003e\n      \u003ctd\u003e143000.00\u003c/td\u003e\n      \u003ctd\u003e75012\u003c/td\u003e\n      \u003ctd\u003e13.68\u003c/td\u003e\n      \u003ctd\u003e14.0\u003c/td\u003e\n      \u003ctd\u003e13.68\u003c/td\u003e\n      \u003ctd\u003e10453.216374\u003c/td\u003e\n      \u003ctd\u003e1.0\u003c/td\u003e\n      \u003ctd\u003e8FW4V92C+WH44MXXW\u003c/td\u003e\n      \u003ctd\u003e2.178391\u003c/td\u003e\n      \u003ctd\u003eE\u003c/td\u003e\n    \u003c/tr\u003e\n    \u003ctr\u003e\n      \u003cth\u003e289483\u003c/th\u003e\n      \u003ctd\u003e2014-08-08T00:00:00.000Z\u003c/td\u003e\n      \u003ctd\u003e2014\u003c/td\u003e\n      \u003ctd\u003e8\u003c/td\u003e\n      \u003ctd\u003e8\u003c/td\u003e\n      \u003ctd\u003e2.373831\u003c/td\u003e\n      \u003ctd\u003e48.868441\u003c/td\u003e\n      \u003ctd\u003eAppartement\u003c/td\u003e\n      \u003ctd\u003e185000.00\u003c/td\u003e\n      \u003ctd\u003e75011\u003c/td\u003e\n      \u003ctd\u003e20.04\u003c/td\u003e\n      \u003ctd\u003e22.0\u003c/td\u003e\n      \u003ctd\u003e20.04\u003c/td\u003e\n      \u003ctd\u003e9231.536926\u003c/td\u003e\n      \u003ctd\u003e2.0\u003c/td\u003e\n      \u003ctd\u003e8FW4V99F+9GGP3VXW\u003c/td\u003e\n      \u003ctd\u003e2.655914\u003c/td\u003e\n      \u003ctd\u003eNE\u003c/td\u003e\n    \u003c/tr\u003e\n    \u003ctr\u003e\n      \u003cth\u003e289484\u003c/th\u003e\n      \u003ctd\u003e2014-08-08T00:00:00.000Z\u003c/td\u003e\n      \u003ctd\u003e2014\u003c/td\u003e\n      \u003ctd\u003e8\u003c/td\u003e\n      \u003ctd\u003e8\u003c/td\u003e\n      \u003ctd\u003e2.374207\u003c/td\u003e\n      \u003ctd\u003e48.867977\u003c/td\u003e\n      \u003ctd\u003eAppartement\u003c/td\u003e\n      \u003ctd\u003e150000.00\u003c/td\u003e\n      \u003ctd\u003e75011\u003c/td\u003e\n      \u003ctd\u003e30.83\u003c/td\u003e\n      \u003ctd\u003e31.0\u003c/td\u003e\n      \u003ctd\u003e30.83\u003c/td\u003e\n      \u003ctd\u003e4865.390853\u003c/td\u003e\n      \u003ctd\u003e1.0\u003c/td\u003e\n      \u003ctd\u003e8FW4V99F+5MW47XXW\u003c/td\u003e\n      \u003ctd\u003e2.654584\u003c/td\u003e\n      \u003ctd\u003eNE\u003c/td\u003e\n    \u003c/tr\u003e\n    \u003ctr\u003e\n      \u003cth\u003e289485\u003c/th\u003e\n      \u003ctd\u003e2014-08-08T00:00:00.000Z\u003c/td\u003e\n      \u003ctd\u003e2014\u003c/td\u003e\n      \u003ctd\u003e8\u003c/td\u003e\n      \u003ctd\u003e8\u003c/td\u003e\n      \u003ctd\u003e2.376713\u003c/td\u003e\n      \u003ctd\u003e48.883028\u003c/td\u003e\n      \u003ctd\u003eAppartement\u003c/td\u003e\n      \u003ctd\u003e455000.00\u003c/td\u003e\n      \u003ctd\u003e75019\u003c/td\u003e\n      \u003ctd\u003e69.77\u003c/td\u003e\n      \u003ctd\u003e71.0\u003c/td\u003e\n      \u003ctd\u003e69.77\u003c/td\u003e\n      \u003ctd\u003e6521.427548\u003c/td\u003e\n      \u003ctd\u003e3.0\u003c/td\u003e\n      \u003ctd\u003e8FW4V9MG+6M85FRRX\u003c/td\u003e\n      \u003ctd\u003e3.874164\u003c/td\u003e\n      \u003ctd\u003eNE\u003c/td\u003e\n    \u003c/tr\u003e\n  \u003c/tbody\u003e\n\u003c/table\u003e\n\u003cp\u003e289486 rows × 17 columns\u003c/p\u003e\n\u003c/div\u003e"
          },
          "metadata": {}
        }
      ]
    },
    {
      "execution_count": 9,
      "cell_type": "code",
      "metadata": {},
      "source": [
        "olc.encode()"
      ],
      "outputs": [
        {
          "output_type": "error",
          "ename": "TypeError",
          "evalue": "encode() missing 2 required positional arguments: \u0027latitude\u0027 and \u0027longitude\u0027",
          "traceback": [
            "\u001b[0;31m---------------------------------------------------------------------------\u001b[0m",
            "\u001b[0;31mTypeError\u001b[0m                                 Traceback (most recent call last)",
            "\u001b[0;32m\u003cipython-input-9-8edff191c2c0\u003e\u001b[0m in \u001b[0;36m\u003cmodule\u003e\u001b[0;34m\u001b[0m\n\u001b[0;32m----\u003e 1\u001b[0;31m \u001b[0molc\u001b[0m\u001b[0;34m.\u001b[0m\u001b[0mencode\u001b[0m\u001b[0;34m(\u001b[0m\u001b[0;34m)\u001b[0m\u001b[0;34m\u001b[0m\u001b[0;34m\u001b[0m\u001b[0m\n\u001b[0m",
            "\u001b[0;31mTypeError\u001b[0m: encode() missing 2 required positional arguments: \u0027latitude\u0027 and \u0027longitude\u0027"
          ]
        }
      ]
    },
    {
      "execution_count": 0,
      "cell_type": "code",
      "metadata": {},
      "source": [
        "data_to_encode \u003d v75_2014_2021_transactions_partial_pluscode_df[v75_2014_2021_transactions_partial_pluscode_df[]]"
      ],
      "outputs": []
    },
    {
      "execution_count": 0,
      "cell_type": "code",
      "metadata": {},
      "source": [
        ""
      ],
      "outputs": []
    },
    {
      "execution_count": 0,
      "cell_type": "code",
      "metadata": {},
      "source": [
        ""
      ],
      "outputs": []
    },
    {
      "execution_count": 0,
      "cell_type": "code",
      "metadata": {},
      "source": [
        ""
      ],
      "outputs": []
    },
    {
      "execution_count": 0,
      "cell_type": "code",
      "metadata": {},
      "source": [
        ""
      ],
      "outputs": []
    },
    {
      "execution_count": 0,
      "cell_type": "code",
      "metadata": {},
      "source": [
        ""
      ],
      "outputs": []
    },
    {
      "execution_count": 0,
      "cell_type": "code",
      "metadata": {},
      "source": [
        ""
      ],
      "outputs": []
    },
    {
      "execution_count": 0,
      "cell_type": "code",
      "metadata": {},
      "source": [
        ""
      ],
      "outputs": []
    },
    {
      "execution_count": 0,
      "cell_type": "code",
      "metadata": {},
      "source": [
        ""
      ],
      "outputs": []
    },
    {
      "execution_count": 0,
      "cell_type": "code",
      "metadata": {},
      "source": [
        "# Compute recipe outputs\n# TODO: Write here your actual code that computes the outputs\n# NB: DSS supports several kinds of APIs for reading and writing data. Please see doc.\n\ntransactions_enriched_df \u003d ... # Compute a Pandas dataframe to write into transactions_enriched\n\n\n# Write recipe outputs\ntransactions_enriched \u003d dataiku.Dataset(\"transactions_enriched\")\ntransactions_enriched.write_with_schema(transactions_enriched_df)"
      ],
      "outputs": []
    }
  ]
}