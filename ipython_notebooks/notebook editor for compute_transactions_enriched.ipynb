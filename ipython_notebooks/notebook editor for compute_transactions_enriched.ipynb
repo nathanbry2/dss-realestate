{
  "metadata": {
    "kernelspec": {
      "name": "py-dku-venv-real_estate",
      "display_name": "Python (env real_estate)",
      "language": "python"
    },
    "associatedRecipe": "compute_transactions_enriched",
    "dkuGit": {
      "lastInteraction": 0
    },
    "creationTag": {
      "versionNumber": 0,
      "lastModifiedBy": {
        "login": "admin"
      },
      "lastModifiedOn": 1651159181110
    },
    "creator": "admin",
    "createdOn": 1651159181110,
    "tags": [
      "recipe-editor"
    ],
    "customFields": {},
    "hide_input": false,
    "language_info": {
      "name": "python",
      "version": "3.7.13",
      "mimetype": "text/x-python",
      "codemirror_mode": {
        "name": "ipython",
        "version": 3
      },
      "pygments_lexer": "ipython3",
      "nbconvert_exporter": "python",
      "file_extension": ".py"
    },
    "modifiedBy": "admin"
  },
  "nbformat": 4,
  "nbformat_minor": 1,
  "cells": [
    {
      "execution_count": 0,
      "cell_type": "code",
      "metadata": {},
      "source": [
        "# -*- coding: utf-8 -*-\nimport dataiku\nimport pandas as pd, numpy as np\nfrom dataiku import pandasutils as pdu\nfrom geoloc_functions import distance_to_centre, direction_from_centre\nfrom openlocationcode import openlocationcode as olc\nfrom pluscode_functions import convert_dic, convert_pluscode"
      ],
      "outputs": []
    },
    {
      "execution_count": 0,
      "cell_type": "code",
      "metadata": {},
      "source": [
        "# Read recipe inputs\nv75_2014_2021_transactions_partial_pluscode \u003d dataiku.Dataset(\"75_2014_2021_transactions_partial_pluscode\")\nv75_2014_2021_transactions_partial_pluscode_df \u003d v75_2014_2021_transactions_partial_pluscode.get_dataframe()\niris_75 \u003d dataiku.Dataset(\"iris_75\")\niris_75_df \u003d iris_75.get_dataframe()"
      ],
      "outputs": []
    },
    {
      "execution_count": 0,
      "cell_type": "code",
      "metadata": {},
      "source": [
        "v75_2014_2021_transactions_partial_pluscode_df[\u0027distance_to_centre\u0027]\u003d distance_to_centre(v75_2014_2021_transactions_partial_pluscode_df[\u0027latitude\u0027],v75_2014_2021_transactions_partial_pluscode_df[\u0027longitude\u0027])"
      ],
      "outputs": []
    },
    {
      "execution_count": 0,
      "cell_type": "code",
      "metadata": {},
      "source": [
        "v75_2014_2021_transactions_partial_pluscode_df[\u0027direction_from_centre\u0027] \u003d np.vectorize(direction_from_centre)(v75_2014_2021_transactions_partial_pluscode_df[\u0027longitude\u0027],v75_2014_2021_transactions_partial_pluscode_df[\u0027latitude\u0027])"
      ],
      "outputs": []
    },
    {
      "execution_count": 0,
      "cell_type": "code",
      "metadata": {},
      "source": [
        "v75_2014_2021_transactions_partial_pluscode_df"
      ],
      "outputs": []
    },
    {
      "execution_count": 0,
      "cell_type": "code",
      "metadata": {},
      "source": [
        "data_encoded \u003d v75_2014_2021_transactions_partial_pluscode_df[v75_2014_2021_transactions_partial_pluscode_df[\u0027pluscode_16_first\u0027].isnull() \u003d\u003d False]\ndata_to_encode \u003d v75_2014_2021_transactions_partial_pluscode_df[v75_2014_2021_transactions_partial_pluscode_df[\u0027pluscode_16_first\u0027].isnull() \u003d\u003d True]"
      ],
      "outputs": []
    },
    {
      "execution_count": 0,
      "cell_type": "code",
      "metadata": {},
      "source": [
        "data_to_encode[\u0027pluscode_16_first\u0027] \u003d np.vectorize(olc.encode)(data_to_encode[\u0027latitude\u0027],data_to_encode[\u0027longitude\u0027],17)"
      ],
      "outputs": []
    },
    {
      "execution_count": 0,
      "cell_type": "code",
      "metadata": {},
      "source": [
        "full_data \u003d pd.concat([data_encoded,data_to_encode])"
      ],
      "outputs": []
    },
    {
      "execution_count": 0,
      "cell_type": "code",
      "metadata": {},
      "source": [
        "full_data[\u0027pluscode_10\u0027] \u003d [code[:11] for code in full_data[\u0027pluscode_16_first\u0027].to_list()]"
      ],
      "outputs": []
    },
    {
      "execution_count": 0,
      "cell_type": "code",
      "metadata": {},
      "source": [
        "full_data[\u0027v_coordinate\u0027],full_data[\u0027h_coordinate\u0027],full_data[\u0027reduced_v_coordinate\u0027],full_data[\u0027reduced_h_coordinate\u0027],full_data[\u0027reduced_coordinates_couple\u0027] \u003d convert_pluscode(full_data[\u0027pluscode_10\u0027])"
      ],
      "outputs": []
    },
    {
      "execution_count": 0,
      "cell_type": "code",
      "metadata": {},
      "source": [
        "full_data"
      ],
      "outputs": []
    },
    {
      "execution_count": 0,
      "cell_type": "code",
      "metadata": {},
      "source": [
        "# Compute recipe outputs\n# TODO: Write here your actual code that computes the outputs\n# NB: DSS supports several kinds of APIs for reading and writing data. Please see doc.\n\ntransactions_enriched_df \u003d full_data # Compute a Pandas dataframe to write into transactions_enriched\n\n\n# Write recipe outputs\ntransactions_enriched \u003d dataiku.Dataset(\"transactions_enriched\")\ntransactions_enriched.write_with_schema(transactions_enriched_df)"
      ],
      "outputs": []
    }
  ]
}