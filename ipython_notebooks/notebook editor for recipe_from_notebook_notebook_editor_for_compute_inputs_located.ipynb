{
  "nbformat": 4,
  "nbformat_minor": 0,
  "metadata": {
    "kernelspec": {
      "display_name": "Python (env real_estate)",
      "language": "python",
      "name": "py-dku-venv-real_estate"
    },
    "associatedRecipe": "recipe_from_notebook_notebook_editor_for_compute_inputs_located",
    "dkuGit": {
      "lastInteraction": 0
    },
    "creationTag": {
      "versionNumber": 0,
      "lastModifiedBy": {
        "login": "admin"
      },
      "lastModifiedOn": 1654291513832
    },
    "creator": "admin",
    "createdOn": 1654291513832,
    "tags": [
      "recipe-editor"
    ],
    "customFields": {}
  },
  "cells": [
    {
      "cell_type": "code",
      "metadata": {},
      "outputs": [],
      "execution_count": 0,
      "source": [
        "# -*- coding: utf-8 -*-\n",
        "import dataiku\n",
        "import pandas as pd, numpy as np\n",
        "from dataiku import pandasutils as pdu\n",
        "from geoloc_functions import find_location,distance_to_centre, direction_from_centre\n",
        "from openlocationcode import openlocationcode as olc\n",
        "from pluscode_functions import convert_pluscode\n",
        "from iris_functions import create_iris_polygon_dict, find_iris"
      ]
    },
    {
      "cell_type": "code",
      "metadata": {},
      "outputs": [],
      "execution_count": 0,
      "source": [
        "# Read recipe inputs\n",
        "new_inputs \u003d dataiku.Dataset(\"new_inputs_editable\")\n",
        "new_inputs_df \u003d new_inputs.get_dataframe()\n",
        "iris_75 \u003d dataiku.Dataset(\"iris_75\")\n",
        "iris_75_df \u003d iris_75.get_dataframe()"
      ]
    },
    {
      "cell_type": "code",
      "metadata": {},
      "outputs": [],
      "execution_count": 0,
      "source": [
        "new_inputs_df[\u0027adresse_full\u0027] \u003d new_inputs_df[\u0027adresse\u0027]+\u0027, \u0027+new_inputs_df[\u0027code_postal\u0027].astype(str)"
      ]
    },
    {
      "cell_type": "code",
      "metadata": {},
      "outputs": [],
      "execution_count": 0,
      "source": [
        "new_inputs_df[\u0027latitude\u0027] \u003d find_location(new_inputs_df[\u0027adresse_full\u0027])[0]\n",
        "new_inputs_df[\u0027longitude\u0027] \u003d find_location(new_inputs_df[\u0027adresse_full\u0027])[1]"
      ]
    },
    {
      "cell_type": "code",
      "metadata": {},
      "outputs": [],
      "execution_count": 0,
      "source": [
        "new_inputs_df"
      ]
    },
    {
      "cell_type": "code",
      "metadata": {},
      "outputs": [],
      "execution_count": 0,
      "source": [
        "new_inputs_df[\u0027distance_to_centre\u0027]\u003d distance_to_centre(new_inputs_df[\u0027latitude\u0027],new_inputs_df[\u0027longitude\u0027])"
      ]
    },
    {
      "cell_type": "code",
      "metadata": {},
      "outputs": [],
      "execution_count": 0,
      "source": [
        "new_inputs_df[\u0027direction_from_centre\u0027] \u003d np.vectorize(direction_from_centre)(new_inputs_df[\u0027longitude\u0027],new_inputs_df[\u0027latitude\u0027])"
      ]
    },
    {
      "cell_type": "code",
      "metadata": {},
      "outputs": [],
      "execution_count": 0,
      "source": [
        "new_inputs_df"
      ]
    },
    {
      "cell_type": "code",
      "metadata": {},
      "outputs": [],
      "execution_count": 0,
      "source": [
        "new_inputs_df[\u0027pluscode_16_first\u0027] \u003d np.vectorize(olc.encode)(new_inputs_df[\u0027latitude\u0027],new_inputs_df[\u0027longitude\u0027],17)"
      ]
    },
    {
      "cell_type": "code",
      "metadata": {},
      "outputs": [],
      "execution_count": 0,
      "source": [
        "new_inputs_df[\u0027pluscode_10\u0027] \u003d [code[:11] for code in new_inputs_df[\u0027pluscode_16_first\u0027].to_list()]"
      ]
    },
    {
      "cell_type": "code",
      "metadata": {},
      "outputs": [],
      "execution_count": 0,
      "source": [
        "new_inputs_df[\u0027v_coordinate\u0027],new_inputs_df[\u0027h_coordinate\u0027],new_inputs_df[\u0027reduced_v_coordinate\u0027],new_inputs_df[\u0027reduced_h_coordinate\u0027],new_inputs_df[\u0027reduced_coordinates_couple\u0027] \u003d convert_pluscode(new_inputs_df[\u0027pluscode_10\u0027])"
      ]
    },
    {
      "cell_type": "code",
      "metadata": {},
      "outputs": [],
      "execution_count": 0,
      "source": [
        "iris_coords_codes \u003d create_iris_polygon_dict(iris_75_df[\u0027CODE_IRIS\u0027],iris_75_df[\u0027Geo Shape\u0027])"
      ]
    },
    {
      "cell_type": "code",
      "metadata": {},
      "outputs": [],
      "execution_count": 0,
      "source": [
        "new_inputs_df[\u0027iris_code\u0027] \u003d find_iris(new_inputs_df[\u0027latitude\u0027],new_inputs_df[\u0027longitude\u0027],iris_coords_codes)"
      ]
    },
    {
      "cell_type": "code",
      "metadata": {},
      "outputs": [],
      "execution_count": 0,
      "source": [
        "def correct_date(date_column):\n",
        "\n",
        "    dates_list \u003d date_column.to_list()\n",
        "    new_dates_list \u003d []\n",
        "\n",
        "    for date in dates_list:\n",
        "        if date \u003e 2021:\n",
        "            new_date \u003d 2021\n",
        "        elif date \u003c 2014:\n",
        "            new_date \u003d 2014\n",
        "        else:\n",
        "            new_date \u003d date\n",
        "\n",
        "        new_dates_list.append(new_date)\n",
        "\n",
        "    return new_dates_list"
      ]
    },
    {
      "cell_type": "code",
      "metadata": {},
      "outputs": [],
      "execution_count": 0,
      "source": [
        "new_inputs_df[\u0027date_mutation_year\u0027] \u003d correct_date(new_inputs_df[\u0027date_mutation_year\u0027])"
      ]
    },
    {
      "cell_type": "code",
      "metadata": {},
      "outputs": [],
      "execution_count": 0,
      "source": [
        "# Compute recipe outputs from inputs\n",
        "# TODO: Replace this part by your actual code that computes the output, as a Pandas dataframe\n",
        "# NB: DSS also supports other kinds of APIs for reading and writing data. Please see doc.\n",
        "\n",
        "inputs_located_df \u003d new_inputs_df # For this sample code, simply copy input to output\n",
        "\n",
        "\n",
        "# Write recipe outputs\n",
        "inputs_located \u003d dataiku.Dataset(\"inputs_located\")\n",
        "inputs_located.write_with_schema(inputs_located_df)"
      ]
    }
  ]
}