{
  "nbformat": 4,
  "nbformat_minor": 0,
  "metadata": {
    "kernelspec": {
      "display_name": "Python (env real_estate)",
      "language": "python",
      "name": "py-dku-venv-real_estate"
    },
    "associatedRecipe": "compute_transactions_enriched",
    "dkuGit": {
      "lastInteraction": 0
    },
    "creationTag": {
      "versionNumber": 0,
      "lastModifiedBy": {
        "login": "admin"
      },
      "lastModifiedOn": 1651159181110
    },
    "creator": "admin",
    "createdOn": 1651159181110,
    "tags": [
      "recipe-editor"
    ],
    "customFields": {}
  },
  "cells": [
    {
      "cell_type": "code",
      "metadata": {},
      "outputs": [],
      "execution_count": 0,
      "source": [
        "# -*- coding: utf-8 -*-\n",
        "import dataiku\n",
        "import pandas as pd, numpy as np\n",
        "from dataiku import pandasutils as pdu\n",
        "from geoloc_functions import distance_to_centre, direction_from_centre\n",
        "from openlocationcode import openlocationcode as olc\n",
        "from pluscode_functions import convert_dic, convert_pluscode\n",
        "from iris_functions import create_iris_polygon_dict, find_iris"
      ]
    },
    {
      "cell_type": "code",
      "metadata": {},
      "outputs": [],
      "execution_count": 0,
      "source": [
        "# Read recipe inputs\n",
        "v75_2014_2021_transactions_partial_pluscode \u003d dataiku.Dataset(\"75_2014_2021_transactions_partial_pluscode\")\n",
        "v75_2014_2021_transactions_partial_pluscode_df \u003d v75_2014_2021_transactions_partial_pluscode.get_dataframe()\n",
        "iris_75 \u003d dataiku.Dataset(\"iris_75\")\n",
        "iris_75_df \u003d iris_75.get_dataframe()"
      ]
    },
    {
      "cell_type": "code",
      "metadata": {},
      "outputs": [],
      "execution_count": 0,
      "source": [
        "v75_2014_2021_transactions_partial_pluscode_df[\u0027distance_to_centre\u0027]\u003d distance_to_centre(v75_2014_2021_transactions_partial_pluscode_df[\u0027latitude\u0027],v75_2014_2021_transactions_partial_pluscode_df[\u0027longitude\u0027])"
      ]
    },
    {
      "cell_type": "code",
      "metadata": {},
      "outputs": [],
      "execution_count": 0,
      "source": [
        "v75_2014_2021_transactions_partial_pluscode_df[\u0027direction_from_centre\u0027] \u003d np.vectorize(direction_from_centre)(v75_2014_2021_transactions_partial_pluscode_df[\u0027longitude\u0027],v75_2014_2021_transactions_partial_pluscode_df[\u0027latitude\u0027])"
      ]
    },
    {
      "cell_type": "code",
      "metadata": {},
      "outputs": [],
      "execution_count": 0,
      "source": [
        "data_encoded \u003d v75_2014_2021_transactions_partial_pluscode_df[v75_2014_2021_transactions_partial_pluscode_df[\u0027pluscode_16_first\u0027].isnull() \u003d\u003d False]\n",
        "data_to_encode \u003d v75_2014_2021_transactions_partial_pluscode_df[v75_2014_2021_transactions_partial_pluscode_df[\u0027pluscode_16_first\u0027].isnull() \u003d\u003d True]"
      ]
    },
    {
      "cell_type": "code",
      "metadata": {},
      "outputs": [],
      "execution_count": 0,
      "source": [
        "data_to_encode[\u0027pluscode_16_first\u0027] \u003d np.vectorize(olc.encode)(data_to_encode[\u0027latitude\u0027],data_to_encode[\u0027longitude\u0027],17)"
      ]
    },
    {
      "cell_type": "code",
      "metadata": {},
      "outputs": [],
      "execution_count": 0,
      "source": [
        "full_data \u003d pd.concat([data_encoded,data_to_encode])"
      ]
    },
    {
      "cell_type": "code",
      "metadata": {},
      "outputs": [],
      "execution_count": 0,
      "source": [
        "full_data[\u0027pluscode_10\u0027] \u003d [code[:11] for code in full_data[\u0027pluscode_16_first\u0027].to_list()]"
      ]
    },
    {
      "cell_type": "code",
      "metadata": {},
      "outputs": [],
      "execution_count": 0,
      "source": [
        "full_data[\u0027v_coordinate\u0027],full_data[\u0027h_coordinate\u0027],full_data[\u0027reduced_v_coordinate\u0027],full_data[\u0027reduced_h_coordinate\u0027],full_data[\u0027reduced_coordinates_couple\u0027] \u003d convert_pluscode(full_data[\u0027pluscode_10\u0027])"
      ]
    },
    {
      "cell_type": "code",
      "metadata": {},
      "outputs": [],
      "execution_count": 0,
      "source": [
        "iris_coords_codes \u003d create_iris_polygon_dict(iris_75_df[\u0027CODE_IRIS\u0027],iris_75_df[\u0027Geo Shape\u0027])"
      ]
    },
    {
      "cell_type": "code",
      "metadata": {},
      "outputs": [],
      "execution_count": 0,
      "source": [
        "full_data[\u0027iris_code\u0027] \u003d find_iris(full_data[\u0027latitude\u0027],full_data[\u0027longitude\u0027],iris_coords_codes)"
      ]
    },
    {
      "cell_type": "code",
      "metadata": {},
      "outputs": [],
      "execution_count": 0,
      "source": [
        "full_data_enriched \u003d pd.merge(full_data, iris_75_df,left_on\u003d\u0027iris_code\u0027,right_on\u003d\u0027CODE_IRIS\u0027,how\u003d\u0027inner\u0027)"
      ]
    },
    {
      "cell_type": "code",
      "metadata": {},
      "outputs": [],
      "execution_count": 0,
      "source": [
        "# Compute recipe outputs\n",
        "# TODO: Write here your actual code that computes the outputs\n",
        "# NB: DSS supports several kinds of APIs for reading and writing data. Please see doc.\n",
        "\n",
        "transactions_enriched_df \u003d full_data_enriched # Compute a Pandas dataframe to write into transactions_enriched\n",
        "\n",
        "\n",
        "# Write recipe outputs\n",
        "transactions_enriched \u003d dataiku.Dataset(\"transactions_enriched\")\n",
        "transactions_enriched.write_with_schema(transactions_enriched_df)"
      ]
    }
  ]
}