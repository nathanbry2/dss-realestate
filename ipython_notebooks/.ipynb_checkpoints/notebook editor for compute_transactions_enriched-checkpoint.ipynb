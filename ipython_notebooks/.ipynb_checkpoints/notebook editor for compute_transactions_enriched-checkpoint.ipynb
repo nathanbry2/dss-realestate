{
  "metadata": {
    "kernelspec": {
      "name": "py-dku-venv-real_estate",
      "display_name": "Python (env real_estate)",
      "language": "python"
    },
    "associatedRecipe": "compute_transactions_enriched",
    "creator": "admin",
    "createdOn": 1651159181110,
    "tags": [
      "recipe-editor"
    ],
    "customFields": {},
    "hide_input": false,
    "language_info": {
      "name": "python",
      "version": "3.7.13",
      "mimetype": "text/x-python",
      "codemirror_mode": {
        "name": "ipython",
        "version": 3
      },
      "pygments_lexer": "ipython3",
      "nbconvert_exporter": "python",
      "file_extension": ".py"
    },
    "modifiedBy": "admin"
  },
  "nbformat": 4,
  "nbformat_minor": 1,
  "cells": [
    {
      "execution_count": 4,
      "cell_type": "code",
      "metadata": {},
      "source": [
        "# -*- coding: utf-8 -*-\nimport dataiku\nimport pandas as pd, numpy as np\nfrom dataiku import pandasutils as pdu\nfrom geoloc_functions import distance_to_centre, direction_from_centre"
      ],
      "outputs": [
        {
          "output_type": "error",
          "ename": "ImportError",
          "evalue": "cannot import name \u0027direction_from_centre\u0027 from \u0027geoloc_functions\u0027 (/Users/nathanbry/Dataiku/dss-design/config/projects/REALESTATE/lib/python/geoloc_functions/__init__.py)",
          "traceback": [
            "\u001b[0;31m---------------------------------------------------------------------------\u001b[0m",
            "\u001b[0;31mImportError\u001b[0m                               Traceback (most recent call last)",
            "\u001b[0;32m\u003cipython-input-4-b4a26e667853\u003e\u001b[0m in \u001b[0;36m\u003cmodule\u003e\u001b[0;34m\u001b[0m\n\u001b[1;32m      3\u001b[0m \u001b[0;32mimport\u001b[0m \u001b[0mpandas\u001b[0m \u001b[0;32mas\u001b[0m \u001b[0mpd\u001b[0m\u001b[0;34m,\u001b[0m \u001b[0mnumpy\u001b[0m \u001b[0;32mas\u001b[0m \u001b[0mnp\u001b[0m\u001b[0;34m\u001b[0m\u001b[0;34m\u001b[0m\u001b[0m\n\u001b[1;32m      4\u001b[0m \u001b[0;32mfrom\u001b[0m \u001b[0mdataiku\u001b[0m \u001b[0;32mimport\u001b[0m \u001b[0mpandasutils\u001b[0m \u001b[0;32mas\u001b[0m \u001b[0mpdu\u001b[0m\u001b[0;34m\u001b[0m\u001b[0;34m\u001b[0m\u001b[0m\n\u001b[0;32m----\u003e 5\u001b[0;31m \u001b[0;32mfrom\u001b[0m \u001b[0mgeoloc_functions\u001b[0m \u001b[0;32mimport\u001b[0m \u001b[0mdistance_to_centre\u001b[0m\u001b[0;34m,\u001b[0m \u001b[0mdirection_from_centre\u001b[0m\u001b[0;34m\u001b[0m\u001b[0;34m\u001b[0m\u001b[0m\n\u001b[0m",
            "\u001b[0;31mImportError\u001b[0m: cannot import name \u0027direction_from_centre\u0027 from \u0027geoloc_functions\u0027 (/Users/nathanbry/Dataiku/dss-design/config/projects/REALESTATE/lib/python/geoloc_functions/__init__.py)"
          ]
        }
      ]
    },
    {
      "execution_count": 2,
      "cell_type": "code",
      "metadata": {},
      "source": [
        "# Read recipe inputs\nv75_2014_2021_transactions_partial_pluscode \u003d dataiku.Dataset(\"75_2014_2021_transactions_partial_pluscode\")\nv75_2014_2021_transactions_partial_pluscode_df \u003d v75_2014_2021_transactions_partial_pluscode.get_dataframe()\niris_75 \u003d dataiku.Dataset(\"iris_75\")\niris_75_df \u003d iris_75.get_dataframe()"
      ],
      "outputs": [
        {
          "output_type": "stream",
          "text": "/Users/nathanbry/Dataiku/dss-design/code-envs/python/real_estate/lib/python3.7/site-packages/pandas/core/indexes/base.py:395: DeprecationWarning: `np.bool` is a deprecated alias for the builtin `bool`. To silence this warning, use `bool` by itself. Doing this will not modify any behavior and is safe. If you specifically wanted the numpy scalar type, use `np.bool_` here.\nDeprecated in NumPy 1.20; for more details and guidance: https://numpy.org/devdocs/release/1.20.0-notes.html#deprecations\n  elif issubclass(data.dtype.type, np.bool) or is_bool_dtype(data):\n",
          "name": "stderr"
        }
      ]
    },
    {
      "execution_count": 3,
      "cell_type": "code",
      "metadata": {},
      "source": [
        "# R \u003d approximate radius of earth in km,\n# centre cordinates correspond to Place Dauphine coordinates (which is considered as Paris surface centre)\n\n\n\n\nv75_2014_2021_transactions_partial_pluscode_df[\u0027distance_to_centre\u0027]\u003d distance_to_centre(v75_2014_2021_transactions_partial_pluscode_df[\u0027latitude\u0027],v75_2014_2021_transactions_partial_pluscode_df[\u0027longitude\u0027])"
      ],
      "outputs": []
    },
    {
      "execution_count": 0,
      "cell_type": "code",
      "metadata": {},
      "source": [
        "v75_2014_2021_transactions_partial_pluscode_df[\u0027direction_from_centre\u0027] \u003d np.vectorize(direction_lookup)(v75_2014_2021_transactions_partial_pluscode_df[\u0027longitude\u0027],v75_2014_2021_transactions_partial_pluscode_df[\u0027latitude\u0027])"
      ],
      "outputs": []
    },
    {
      "execution_count": 0,
      "cell_type": "code",
      "metadata": {},
      "source": [
        ""
      ],
      "outputs": []
    },
    {
      "execution_count": 0,
      "cell_type": "code",
      "metadata": {},
      "source": [
        ""
      ],
      "outputs": []
    },
    {
      "execution_count": 0,
      "cell_type": "code",
      "metadata": {},
      "source": [
        "# Compute recipe outputs\n# TODO: Write here your actual code that computes the outputs\n# NB: DSS supports several kinds of APIs for reading and writing data. Please see doc.\n\ntransactions_enriched_df \u003d ... # Compute a Pandas dataframe to write into transactions_enriched\n\n\n# Write recipe outputs\ntransactions_enriched \u003d dataiku.Dataset(\"transactions_enriched\")\ntransactions_enriched.write_with_schema(transactions_enriched_df)"
      ],
      "outputs": []
    }
  ]
}