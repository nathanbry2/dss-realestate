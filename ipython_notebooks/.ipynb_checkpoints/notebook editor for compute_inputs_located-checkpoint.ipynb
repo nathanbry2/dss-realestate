{
  "nbformat": 4,
  "nbformat_minor": 0,
  "metadata": {
    "kernelspec": {
      "display_name": "Python (env real_estate)",
      "language": "python",
      "name": "py-dku-venv-real_estate"
    },
    "associatedRecipe": "compute_inputs_located",
    "creator": "admin",
    "createdOn": 1654288415875,
    "tags": [
      "recipe-editor"
    ],
    "customFields": {}
  },
  "cells": [
    {
      "cell_type": "code",
      "metadata": {},
      "outputs": [],
      "execution_count": 0,
      "source": [
        "# -*- coding: utf-8 -*-\n",
        "import dataiku\n",
        "import pandas as pd, numpy as np\n",
        "from dataiku import pandasutils as pdu\n",
        "\n",
        "# Read recipe inputs\n",
        "new_inputs \u003d dataiku.Dataset(\"new_inputs\")\n",
        "new_inputs_df \u003d new_inputs.get_dataframe()\n",
        "\n",
        "\n",
        "# Compute recipe outputs from inputs\n",
        "# TODO: Replace this part by your actual code that computes the output, as a Pandas dataframe\n",
        "# NB: DSS also supports other kinds of APIs for reading and writing data. Please see doc.\n",
        "\n",
        "inputs_located_df \u003d new_inputs_df # For this sample code, simply copy input to output\n",
        "\n",
        "\n",
        "# Write recipe outputs\n",
        "inputs_located \u003d dataiku.Dataset(\"inputs_located\")\n",
        "inputs_located.write_with_schema(inputs_located_df)"
      ]
    }
  ]
}